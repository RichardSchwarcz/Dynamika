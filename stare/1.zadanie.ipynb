{
 "cells": [
  {
   "cell_type": "code",
   "execution_count": 1,
   "metadata": {},
   "outputs": [],
   "source": [
    "import numpy as np\n",
    "import pandas as pd\n",
    "import matplotlib\n",
    "pd.set_option(\"display.precision\", 4)\n",
    "\n",
    "from internalForces import BendingMoment, ShearForce\n",
    "from loadMatrix import LoadMatrix\n",
    "from memberStiffnessMatrix import MemberStiffnessMatrix\n",
    "from transformationMatrices import rotationMatrix, transmissionMatrix\n",
    "from elasticModulus import elasticModulus\n",
    "from momentOfInertia import momentOfInertia"
   ]
  },
  {
   "cell_type": "code",
   "execution_count": 2,
   "metadata": {},
   "outputs": [],
   "source": [
    "def parseMatrixRows(matrix, indexes):\n",
    "    index = {}\n",
    "    for i in indexes:\n",
    "        index.update({indexes.index(i): i})\n",
    "    newMatrix = matrix.reset_index(drop=True).rename(index=index)\n",
    "    return newMatrix"
   ]
  },
  {
   "cell_type": "code",
   "execution_count": 3,
   "metadata": {},
   "outputs": [],
   "source": [
    "def parseMatrixColumns(matrix,i):\n",
    "    matrix.columns = i\n",
    "    return matrix"
   ]
  },
  {
   "cell_type": "code",
   "execution_count": 4,
   "metadata": {},
   "outputs": [],
   "source": [
    "def parseMatrixIndexes(matrix, i):\n",
    "    x = parseMatrixColumns(matrix,i)\n",
    "    return parseMatrixRows(x,i)"
   ]
  },
  {
   "cell_type": "markdown",
   "metadata": {},
   "source": [
    "## Vstupy"
   ]
  },
  {
   "cell_type": "code",
   "execution_count": 5,
   "metadata": {
    "tags": []
   },
   "outputs": [
    {
     "name": "stdout",
     "output_type": "stream",
     "text": [
      "E =  33000000.0 kPa\n",
      "I =  0.00044999999999999993 m-4\n",
      "A =  0.06 m2\n"
     ]
    }
   ],
   "source": [
    "# Section properties\n",
    "width = 200 #mm\n",
    "height = 300 #mm\n",
    "concrete = \"C30/37\"\n",
    "# -------------------------\n",
    "E = elasticModulus(concrete)\n",
    "I = momentOfInertia(width, height)\n",
    "AREA = width*height*10**-6\n",
    "print(\"E = \", E, \"kPa\")\n",
    "print(\"I = \", I, \"m-4\")\n",
    "print(\"A = \", AREA, \"m2\")"
   ]
  },
  {
   "cell_type": "code",
   "execution_count": 6,
   "metadata": {},
   "outputs": [],
   "source": [
    "# lengths\n",
    "A = 3 #m\n",
    "B = 3 #m\n",
    "C = 3 #m\n",
    "\n",
    "# loads\n",
    "F = 40 #kN\n",
    "Q = 5 #kN/m"
   ]
  },
  {
   "cell_type": "code",
   "execution_count": 7,
   "metadata": {},
   "outputs": [],
   "source": [
    "# Boundary conditions\n",
    "node_1 = [0,0,0]\n",
    "node_2 = [1,1,1]\n",
    "node_3 = [1,1,1]\n",
    "node_4 = [0,0,1]\n",
    "nodes = [node_1, node_2, node_3, node_4]"
   ]
  },
  {
   "cell_type": "code",
   "execution_count": 8,
   "metadata": {},
   "outputs": [
    {
     "data": {
      "text/html": [
       "<img src=\"./assets/schema.png\" width=\"400\" height=\"400\"/>\n"
      ],
      "text/plain": [
       "<IPython.core.display.HTML object>"
      ]
     },
     "metadata": {},
     "output_type": "display_data"
    }
   ],
   "source": [
    "%%HTML\n",
    "<img src=\"./assets/schema.png\" width=\"400\" height=\"400\"/>"
   ]
  },
  {
   "cell_type": "markdown",
   "metadata": {},
   "source": [
    "## Vzorové riešenie na prúte 1-2"
   ]
  },
  {
   "cell_type": "code",
   "execution_count": 9,
   "metadata": {},
   "outputs": [
    {
     "data": {
      "text/html": [
       "<div>\n",
       "<style scoped>\n",
       "    .dataframe tbody tr th:only-of-type {\n",
       "        vertical-align: middle;\n",
       "    }\n",
       "\n",
       "    .dataframe tbody tr th {\n",
       "        vertical-align: top;\n",
       "    }\n",
       "\n",
       "    .dataframe thead th {\n",
       "        text-align: right;\n",
       "    }\n",
       "</style>\n",
       "<table border=\"1\" class=\"dataframe\">\n",
       "  <thead>\n",
       "    <tr style=\"text-align: right;\">\n",
       "      <th></th>\n",
       "      <th>0</th>\n",
       "      <th>1</th>\n",
       "      <th>2</th>\n",
       "    </tr>\n",
       "  </thead>\n",
       "  <tbody>\n",
       "    <tr>\n",
       "      <th>0</th>\n",
       "      <td>660000.0</td>\n",
       "      <td>0.0</td>\n",
       "      <td>0.0</td>\n",
       "    </tr>\n",
       "    <tr>\n",
       "      <th>1</th>\n",
       "      <td>0.0</td>\n",
       "      <td>6600.0</td>\n",
       "      <td>9900.0</td>\n",
       "    </tr>\n",
       "    <tr>\n",
       "      <th>2</th>\n",
       "      <td>0.0</td>\n",
       "      <td>9900.0</td>\n",
       "      <td>19800.0</td>\n",
       "    </tr>\n",
       "  </tbody>\n",
       "</table>\n",
       "</div>"
      ],
      "text/plain": [
       "          0       1        2\n",
       "0  660000.0     0.0      0.0\n",
       "1       0.0  6600.0   9900.0\n",
       "2       0.0  9900.0  19800.0"
      ]
     },
     "execution_count": 9,
     "metadata": {},
     "output_type": "execute_result"
    }
   ],
   "source": [
    "k12 = MemberStiffnessMatrix.localMember(C,AREA,E,I)\n",
    "k12"
   ]
  },
  {
   "cell_type": "code",
   "execution_count": 10,
   "metadata": {},
   "outputs": [
    {
     "data": {
      "text/html": [
       "<div>\n",
       "<style scoped>\n",
       "    .dataframe tbody tr th:only-of-type {\n",
       "        vertical-align: middle;\n",
       "    }\n",
       "\n",
       "    .dataframe tbody tr th {\n",
       "        vertical-align: top;\n",
       "    }\n",
       "\n",
       "    .dataframe thead th {\n",
       "        text-align: right;\n",
       "    }\n",
       "</style>\n",
       "<table border=\"1\" class=\"dataframe\">\n",
       "  <thead>\n",
       "    <tr style=\"text-align: right;\">\n",
       "      <th></th>\n",
       "      <th>0</th>\n",
       "      <th>1</th>\n",
       "      <th>2</th>\n",
       "    </tr>\n",
       "  </thead>\n",
       "  <tbody>\n",
       "    <tr>\n",
       "      <th>0</th>\n",
       "      <td>-1.8370e-16</td>\n",
       "      <td>-1.0000e+00</td>\n",
       "      <td>0</td>\n",
       "    </tr>\n",
       "    <tr>\n",
       "      <th>1</th>\n",
       "      <td>1.0000e+00</td>\n",
       "      <td>-1.8370e-16</td>\n",
       "      <td>0</td>\n",
       "    </tr>\n",
       "    <tr>\n",
       "      <th>2</th>\n",
       "      <td>0.0000e+00</td>\n",
       "      <td>0.0000e+00</td>\n",
       "      <td>1</td>\n",
       "    </tr>\n",
       "  </tbody>\n",
       "</table>\n",
       "</div>"
      ],
      "text/plain": [
       "            0           1  2\n",
       "0 -1.8370e-16 -1.0000e+00  0\n",
       "1  1.0000e+00 -1.8370e-16  0\n",
       "2  0.0000e+00  0.0000e+00  1"
      ]
     },
     "execution_count": 10,
     "metadata": {},
     "output_type": "execute_result"
    }
   ],
   "source": [
    "alfa = 270 #deg\n",
    "A0_1 = rotationMatrix(alfa)\n",
    "A0_1"
   ]
  },
  {
   "cell_type": "code",
   "execution_count": 11,
   "metadata": {},
   "outputs": [
    {
     "data": {
      "text/html": [
       "<div>\n",
       "<style scoped>\n",
       "    .dataframe tbody tr th:only-of-type {\n",
       "        vertical-align: middle;\n",
       "    }\n",
       "\n",
       "    .dataframe tbody tr th {\n",
       "        vertical-align: top;\n",
       "    }\n",
       "\n",
       "    .dataframe thead th {\n",
       "        text-align: right;\n",
       "    }\n",
       "</style>\n",
       "<table border=\"1\" class=\"dataframe\">\n",
       "  <thead>\n",
       "    <tr style=\"text-align: right;\">\n",
       "      <th></th>\n",
       "      <th>0</th>\n",
       "      <th>1</th>\n",
       "      <th>2</th>\n",
       "    </tr>\n",
       "  </thead>\n",
       "  <tbody>\n",
       "    <tr>\n",
       "      <th>0</th>\n",
       "      <td>-1</td>\n",
       "      <td>0</td>\n",
       "      <td>0</td>\n",
       "    </tr>\n",
       "    <tr>\n",
       "      <th>1</th>\n",
       "      <td>0</td>\n",
       "      <td>-1</td>\n",
       "      <td>0</td>\n",
       "    </tr>\n",
       "    <tr>\n",
       "      <th>2</th>\n",
       "      <td>3</td>\n",
       "      <td>0</td>\n",
       "      <td>-1</td>\n",
       "    </tr>\n",
       "  </tbody>\n",
       "</table>\n",
       "</div>"
      ],
      "text/plain": [
       "   0  1  2\n",
       "0 -1  0  0\n",
       "1  0 -1  0\n",
       "2  3  0 -1"
      ]
     },
     "execution_count": 11,
     "metadata": {},
     "output_type": "execute_result"
    }
   ],
   "source": [
    "lx = 0 #m\n",
    "ly = -3 #m\n",
    "\n",
    "B0_1 = transmissionMatrix(lx,ly)\n",
    "B0_1"
   ]
  },
  {
   "cell_type": "code",
   "execution_count": 12,
   "metadata": {},
   "outputs": [
    {
     "data": {
      "text/html": [
       "<div>\n",
       "<style scoped>\n",
       "    .dataframe tbody tr th:only-of-type {\n",
       "        vertical-align: middle;\n",
       "    }\n",
       "\n",
       "    .dataframe tbody tr th {\n",
       "        vertical-align: top;\n",
       "    }\n",
       "\n",
       "    .dataframe thead th {\n",
       "        text-align: right;\n",
       "    }\n",
       "</style>\n",
       "<table border=\"1\" class=\"dataframe\">\n",
       "  <thead>\n",
       "    <tr style=\"text-align: right;\">\n",
       "      <th></th>\n",
       "      <th>0</th>\n",
       "      <th>1</th>\n",
       "      <th>2</th>\n",
       "      <th>3</th>\n",
       "      <th>4</th>\n",
       "      <th>5</th>\n",
       "    </tr>\n",
       "  </thead>\n",
       "  <tbody>\n",
       "    <tr>\n",
       "      <th>0</th>\n",
       "      <td>6.6000e+03</td>\n",
       "      <td>1.2003e-10</td>\n",
       "      <td>9.9000e+03</td>\n",
       "      <td>-6.6000e+03</td>\n",
       "      <td>-1.2003e-10</td>\n",
       "      <td>9.9000e+03</td>\n",
       "    </tr>\n",
       "    <tr>\n",
       "      <th>1</th>\n",
       "      <td>1.2003e-10</td>\n",
       "      <td>6.6000e+05</td>\n",
       "      <td>-1.8186e-12</td>\n",
       "      <td>-1.2003e-10</td>\n",
       "      <td>-6.6000e+05</td>\n",
       "      <td>3.6190e-10</td>\n",
       "    </tr>\n",
       "    <tr>\n",
       "      <th>2</th>\n",
       "      <td>9.9000e+03</td>\n",
       "      <td>-1.8186e-12</td>\n",
       "      <td>1.9800e+04</td>\n",
       "      <td>-9.9000e+03</td>\n",
       "      <td>1.8186e-12</td>\n",
       "      <td>9.9000e+03</td>\n",
       "    </tr>\n",
       "    <tr>\n",
       "      <th>3</th>\n",
       "      <td>-6.6000e+03</td>\n",
       "      <td>-1.2003e-10</td>\n",
       "      <td>-9.9000e+03</td>\n",
       "      <td>6.6000e+03</td>\n",
       "      <td>1.2003e-10</td>\n",
       "      <td>-9.9000e+03</td>\n",
       "    </tr>\n",
       "    <tr>\n",
       "      <th>4</th>\n",
       "      <td>-1.2003e-10</td>\n",
       "      <td>-6.6000e+05</td>\n",
       "      <td>1.8186e-12</td>\n",
       "      <td>1.2003e-10</td>\n",
       "      <td>6.6000e+05</td>\n",
       "      <td>-3.6190e-10</td>\n",
       "    </tr>\n",
       "    <tr>\n",
       "      <th>5</th>\n",
       "      <td>9.9000e+03</td>\n",
       "      <td>3.6190e-10</td>\n",
       "      <td>9.9000e+03</td>\n",
       "      <td>-9.9000e+03</td>\n",
       "      <td>-3.6190e-10</td>\n",
       "      <td>1.9800e+04</td>\n",
       "    </tr>\n",
       "  </tbody>\n",
       "</table>\n",
       "</div>"
      ],
      "text/plain": [
       "            0           1           2           3           4           5\n",
       "0  6.6000e+03  1.2003e-10  9.9000e+03 -6.6000e+03 -1.2003e-10  9.9000e+03\n",
       "1  1.2003e-10  6.6000e+05 -1.8186e-12 -1.2003e-10 -6.6000e+05  3.6190e-10\n",
       "2  9.9000e+03 -1.8186e-12  1.9800e+04 -9.9000e+03  1.8186e-12  9.9000e+03\n",
       "3 -6.6000e+03 -1.2003e-10 -9.9000e+03  6.6000e+03  1.2003e-10 -9.9000e+03\n",
       "4 -1.2003e-10 -6.6000e+05  1.8186e-12  1.2003e-10  6.6000e+05 -3.6190e-10\n",
       "5  9.9000e+03  3.6190e-10  9.9000e+03 -9.9000e+03 -3.6190e-10  1.9800e+04"
      ]
     },
     "execution_count": 12,
     "metadata": {},
     "output_type": "execute_result"
    }
   ],
   "source": [
    "k1 = MemberStiffnessMatrix.globalMember(A0_1, k12, B0_1)\n",
    "k1 = parseMatrixIndexes(k1,[0,1,2,3,4,5])\n",
    "k1"
   ]
  },
  {
   "cell_type": "markdown",
   "metadata": {},
   "source": [
    "$$F = [N,V,M]"
   ]
  },
  {
   "cell_type": "markdown",
   "metadata": {},
   "source": [
    "Primárne vnútorné sily v bode - ***1***"
   ]
  },
  {
   "cell_type": "code",
   "execution_count": 13,
   "metadata": {},
   "outputs": [
    {
     "name": "stdout",
     "output_type": "stream",
     "text": [
      "N_12 =  0 kN\n",
      "V_12 =  -7.5 kN\n",
      "M_12 =  -3.75 kNm\n"
     ]
    }
   ],
   "source": [
    "N_12 = 0 #kN\n",
    "V_12 = ShearForce.distributedLoad(C,Q) #kN\n",
    "M_12 = BendingMoment.distributedLoad_A(C,Q) #kNm\n",
    "\n",
    "print(\"N_12 = \", N_12, \"kN\")\n",
    "print(\"V_12 = \", V_12, \"kN\")\n",
    "print(\"M_12 = \", M_12, \"kNm\")"
   ]
  },
  {
   "cell_type": "markdown",
   "metadata": {},
   "source": [
    "Primárne vnútorné sily v bode - ***2***"
   ]
  },
  {
   "cell_type": "code",
   "execution_count": 14,
   "metadata": {},
   "outputs": [
    {
     "name": "stdout",
     "output_type": "stream",
     "text": [
      "N_21 =  0 kN\n",
      "V_21 =  -7.5 kN\n",
      "M_21 =  3.75 kNm\n"
     ]
    }
   ],
   "source": [
    "N_21 = 0 #kN\n",
    "V_21 = ShearForce.distributedLoad(C,Q) #kN\n",
    "M_21 = BendingMoment.distributedLoad_B(C,Q) #kNm\n",
    "\n",
    "print(\"N_21 = \", N_21, \"kN\")\n",
    "print(\"V_21 = \", V_21, \"kN\")\n",
    "print(\"M_21 = \", M_21, \"kNm\")"
   ]
  },
  {
   "cell_type": "markdown",
   "metadata": {},
   "source": [
    "Silový vektor v LSS pre bod - ***1***"
   ]
  },
  {
   "cell_type": "code",
   "execution_count": 15,
   "metadata": {},
   "outputs": [
    {
     "data": {
      "text/html": [
       "<div>\n",
       "<style scoped>\n",
       "    .dataframe tbody tr th:only-of-type {\n",
       "        vertical-align: middle;\n",
       "    }\n",
       "\n",
       "    .dataframe tbody tr th {\n",
       "        vertical-align: top;\n",
       "    }\n",
       "\n",
       "    .dataframe thead th {\n",
       "        text-align: right;\n",
       "    }\n",
       "</style>\n",
       "<table border=\"1\" class=\"dataframe\">\n",
       "  <thead>\n",
       "    <tr style=\"text-align: right;\">\n",
       "      <th></th>\n",
       "      <th>0</th>\n",
       "    </tr>\n",
       "  </thead>\n",
       "  <tbody>\n",
       "    <tr>\n",
       "      <th>0</th>\n",
       "      <td>0.00</td>\n",
       "    </tr>\n",
       "    <tr>\n",
       "      <th>1</th>\n",
       "      <td>-7.50</td>\n",
       "    </tr>\n",
       "    <tr>\n",
       "      <th>2</th>\n",
       "      <td>-3.75</td>\n",
       "    </tr>\n",
       "  </tbody>\n",
       "</table>\n",
       "</div>"
      ],
      "text/plain": [
       "      0\n",
       "0  0.00\n",
       "1 -7.50\n",
       "2 -3.75"
      ]
     },
     "execution_count": 15,
     "metadata": {},
     "output_type": "execute_result"
    }
   ],
   "source": [
    "F12_l = LoadMatrix.localMatrix(N_12,V_12,M_12)\n",
    "F12_l"
   ]
  },
  {
   "cell_type": "markdown",
   "metadata": {},
   "source": [
    "Silový vektor v LSS pre bod - ***2***"
   ]
  },
  {
   "cell_type": "code",
   "execution_count": 16,
   "metadata": {},
   "outputs": [
    {
     "data": {
      "text/html": [
       "<div>\n",
       "<style scoped>\n",
       "    .dataframe tbody tr th:only-of-type {\n",
       "        vertical-align: middle;\n",
       "    }\n",
       "\n",
       "    .dataframe tbody tr th {\n",
       "        vertical-align: top;\n",
       "    }\n",
       "\n",
       "    .dataframe thead th {\n",
       "        text-align: right;\n",
       "    }\n",
       "</style>\n",
       "<table border=\"1\" class=\"dataframe\">\n",
       "  <thead>\n",
       "    <tr style=\"text-align: right;\">\n",
       "      <th></th>\n",
       "      <th>0</th>\n",
       "    </tr>\n",
       "  </thead>\n",
       "  <tbody>\n",
       "    <tr>\n",
       "      <th>0</th>\n",
       "      <td>0.00</td>\n",
       "    </tr>\n",
       "    <tr>\n",
       "      <th>1</th>\n",
       "      <td>-7.50</td>\n",
       "    </tr>\n",
       "    <tr>\n",
       "      <th>2</th>\n",
       "      <td>3.75</td>\n",
       "    </tr>\n",
       "  </tbody>\n",
       "</table>\n",
       "</div>"
      ],
      "text/plain": [
       "      0\n",
       "0  0.00\n",
       "1 -7.50\n",
       "2  3.75"
      ]
     },
     "execution_count": 16,
     "metadata": {},
     "output_type": "execute_result"
    }
   ],
   "source": [
    "F21_l = LoadMatrix.localMatrix(N_21,V_21,M_21)\n",
    "F21_l"
   ]
  },
  {
   "cell_type": "markdown",
   "metadata": {},
   "source": [
    "Silový vektor v GSS pre celý prút"
   ]
  },
  {
   "cell_type": "code",
   "execution_count": 17,
   "metadata": {},
   "outputs": [
    {
     "data": {
      "text/html": [
       "<div>\n",
       "<style scoped>\n",
       "    .dataframe tbody tr th:only-of-type {\n",
       "        vertical-align: middle;\n",
       "    }\n",
       "\n",
       "    .dataframe tbody tr th {\n",
       "        vertical-align: top;\n",
       "    }\n",
       "\n",
       "    .dataframe thead th {\n",
       "        text-align: right;\n",
       "    }\n",
       "</style>\n",
       "<table border=\"1\" class=\"dataframe\">\n",
       "  <thead>\n",
       "    <tr style=\"text-align: right;\">\n",
       "      <th></th>\n",
       "      <th>0</th>\n",
       "    </tr>\n",
       "  </thead>\n",
       "  <tbody>\n",
       "    <tr>\n",
       "      <th>0</th>\n",
       "      <td>-7.5000e+00</td>\n",
       "    </tr>\n",
       "    <tr>\n",
       "      <th>1</th>\n",
       "      <td>1.3777e-15</td>\n",
       "    </tr>\n",
       "    <tr>\n",
       "      <th>2</th>\n",
       "      <td>-3.7500e+00</td>\n",
       "    </tr>\n",
       "    <tr>\n",
       "      <th>3</th>\n",
       "      <td>-7.5000e+00</td>\n",
       "    </tr>\n",
       "    <tr>\n",
       "      <th>4</th>\n",
       "      <td>1.3777e-15</td>\n",
       "    </tr>\n",
       "    <tr>\n",
       "      <th>5</th>\n",
       "      <td>3.7500e+00</td>\n",
       "    </tr>\n",
       "  </tbody>\n",
       "</table>\n",
       "</div>"
      ],
      "text/plain": [
       "            0\n",
       "0 -7.5000e+00\n",
       "1  1.3777e-15\n",
       "2 -3.7500e+00\n",
       "3 -7.5000e+00\n",
       "4  1.3777e-15\n",
       "5  3.7500e+00"
      ]
     },
     "execution_count": 17,
     "metadata": {},
     "output_type": "execute_result"
    }
   ],
   "source": [
    "F12_g = LoadMatrix.globalMatrix(F12_l, A0_1.T)\n",
    "F21_g = LoadMatrix.globalMatrix(F21_l, A0_1.T)\n",
    "\n",
    "F1 = LoadMatrix.superMatrix(F12_g, F21_g)\n",
    "F1 = parseMatrixRows(F1,[0,1,2,3,4,5])\n",
    "F1"
   ]
  },
  {
   "cell_type": "markdown",
   "metadata": {},
   "source": [
    "## Riešenie na prúte 2-3"
   ]
  },
  {
   "cell_type": "code",
   "execution_count": 18,
   "metadata": {},
   "outputs": [],
   "source": [
    "alfa = 0 #deg\n",
    "lx = 3 #m\n",
    "ly = 0 #m"
   ]
  },
  {
   "cell_type": "code",
   "execution_count": 19,
   "metadata": {},
   "outputs": [
    {
     "data": {
      "text/html": [
       "<div>\n",
       "<style scoped>\n",
       "    .dataframe tbody tr th:only-of-type {\n",
       "        vertical-align: middle;\n",
       "    }\n",
       "\n",
       "    .dataframe tbody tr th {\n",
       "        vertical-align: top;\n",
       "    }\n",
       "\n",
       "    .dataframe thead th {\n",
       "        text-align: right;\n",
       "    }\n",
       "</style>\n",
       "<table border=\"1\" class=\"dataframe\">\n",
       "  <thead>\n",
       "    <tr style=\"text-align: right;\">\n",
       "      <th></th>\n",
       "      <th>3</th>\n",
       "      <th>4</th>\n",
       "      <th>5</th>\n",
       "      <th>6</th>\n",
       "      <th>7</th>\n",
       "      <th>8</th>\n",
       "    </tr>\n",
       "  </thead>\n",
       "  <tbody>\n",
       "    <tr>\n",
       "      <th>3</th>\n",
       "      <td>660000.0</td>\n",
       "      <td>0.0</td>\n",
       "      <td>0.0</td>\n",
       "      <td>-660000.0</td>\n",
       "      <td>0.0</td>\n",
       "      <td>0.0</td>\n",
       "    </tr>\n",
       "    <tr>\n",
       "      <th>4</th>\n",
       "      <td>0.0</td>\n",
       "      <td>6600.0</td>\n",
       "      <td>9900.0</td>\n",
       "      <td>0.0</td>\n",
       "      <td>-6600.0</td>\n",
       "      <td>9900.0</td>\n",
       "    </tr>\n",
       "    <tr>\n",
       "      <th>5</th>\n",
       "      <td>0.0</td>\n",
       "      <td>9900.0</td>\n",
       "      <td>19800.0</td>\n",
       "      <td>0.0</td>\n",
       "      <td>-9900.0</td>\n",
       "      <td>9900.0</td>\n",
       "    </tr>\n",
       "    <tr>\n",
       "      <th>6</th>\n",
       "      <td>-660000.0</td>\n",
       "      <td>0.0</td>\n",
       "      <td>0.0</td>\n",
       "      <td>660000.0</td>\n",
       "      <td>0.0</td>\n",
       "      <td>0.0</td>\n",
       "    </tr>\n",
       "    <tr>\n",
       "      <th>7</th>\n",
       "      <td>0.0</td>\n",
       "      <td>-6600.0</td>\n",
       "      <td>-9900.0</td>\n",
       "      <td>0.0</td>\n",
       "      <td>6600.0</td>\n",
       "      <td>-9900.0</td>\n",
       "    </tr>\n",
       "    <tr>\n",
       "      <th>8</th>\n",
       "      <td>0.0</td>\n",
       "      <td>9900.0</td>\n",
       "      <td>9900.0</td>\n",
       "      <td>0.0</td>\n",
       "      <td>-9900.0</td>\n",
       "      <td>19800.0</td>\n",
       "    </tr>\n",
       "  </tbody>\n",
       "</table>\n",
       "</div>"
      ],
      "text/plain": [
       "          3       4        5         6       7        8\n",
       "3  660000.0     0.0      0.0 -660000.0     0.0      0.0\n",
       "4       0.0  6600.0   9900.0       0.0 -6600.0   9900.0\n",
       "5       0.0  9900.0  19800.0       0.0 -9900.0   9900.0\n",
       "6 -660000.0     0.0      0.0  660000.0     0.0      0.0\n",
       "7       0.0 -6600.0  -9900.0       0.0  6600.0  -9900.0\n",
       "8       0.0  9900.0   9900.0       0.0 -9900.0  19800.0"
      ]
     },
     "execution_count": 19,
     "metadata": {},
     "output_type": "execute_result"
    }
   ],
   "source": [
    "k23 = MemberStiffnessMatrix.localMember(B,AREA,E,I)\n",
    "A0_2 = rotationMatrix(alfa)\n",
    "B0_2 = transmissionMatrix(lx,ly)\n",
    "k2 = MemberStiffnessMatrix.globalMember(A0_2, k23, B0_2)\n",
    "k2 = parseMatrixIndexes(k2,[3,4,5,6,7,8])\n",
    "k2"
   ]
  },
  {
   "cell_type": "code",
   "execution_count": 20,
   "metadata": {},
   "outputs": [],
   "source": [
    "N_23 = 0 #kN\n",
    "V_23 = ShearForce.pointLoad(F) #kN\n",
    "M_23 = BendingMoment.pointLoad_A(B, F) #kNm\n",
    "N_32 = 0 #kN\n",
    "V_32 = ShearForce.pointLoad(F) #kN\n",
    "M_32 = BendingMoment.pointLoad_B(B, F) #kNm"
   ]
  },
  {
   "cell_type": "code",
   "execution_count": 21,
   "metadata": {},
   "outputs": [
    {
     "data": {
      "text/html": [
       "<div>\n",
       "<style scoped>\n",
       "    .dataframe tbody tr th:only-of-type {\n",
       "        vertical-align: middle;\n",
       "    }\n",
       "\n",
       "    .dataframe tbody tr th {\n",
       "        vertical-align: top;\n",
       "    }\n",
       "\n",
       "    .dataframe thead th {\n",
       "        text-align: right;\n",
       "    }\n",
       "</style>\n",
       "<table border=\"1\" class=\"dataframe\">\n",
       "  <thead>\n",
       "    <tr style=\"text-align: right;\">\n",
       "      <th></th>\n",
       "      <th>0</th>\n",
       "    </tr>\n",
       "  </thead>\n",
       "  <tbody>\n",
       "    <tr>\n",
       "      <th>3</th>\n",
       "      <td>0.0</td>\n",
       "    </tr>\n",
       "    <tr>\n",
       "      <th>4</th>\n",
       "      <td>-20.0</td>\n",
       "    </tr>\n",
       "    <tr>\n",
       "      <th>5</th>\n",
       "      <td>-15.0</td>\n",
       "    </tr>\n",
       "    <tr>\n",
       "      <th>6</th>\n",
       "      <td>0.0</td>\n",
       "    </tr>\n",
       "    <tr>\n",
       "      <th>7</th>\n",
       "      <td>-20.0</td>\n",
       "    </tr>\n",
       "    <tr>\n",
       "      <th>8</th>\n",
       "      <td>15.0</td>\n",
       "    </tr>\n",
       "  </tbody>\n",
       "</table>\n",
       "</div>"
      ],
      "text/plain": [
       "      0\n",
       "3   0.0\n",
       "4 -20.0\n",
       "5 -15.0\n",
       "6   0.0\n",
       "7 -20.0\n",
       "8  15.0"
      ]
     },
     "execution_count": 21,
     "metadata": {},
     "output_type": "execute_result"
    }
   ],
   "source": [
    "F23_l = LoadMatrix.localMatrix(N_23,V_23,M_23)\n",
    "F32_l = LoadMatrix.localMatrix(N_32,V_32,M_32)\n",
    "F23_g = LoadMatrix.globalMatrix(F23_l, A0_2.T)\n",
    "F32_g = LoadMatrix.globalMatrix(F32_l, A0_2.T)\n",
    "\n",
    "F2 = LoadMatrix.superMatrix(F23_g, F32_g).reset_index(drop=True)\n",
    "F2 = parseMatrixRows(F2,[3,4,5,6,7,8])\n",
    "F2"
   ]
  },
  {
   "cell_type": "markdown",
   "metadata": {},
   "source": [
    "## Riešenie na prúte 3-4"
   ]
  },
  {
   "cell_type": "code",
   "execution_count": 22,
   "metadata": {},
   "outputs": [],
   "source": [
    "alfa = 90 #deg\n",
    "lx = 0 #m\n",
    "ly = 3 #m"
   ]
  },
  {
   "cell_type": "code",
   "execution_count": 23,
   "metadata": {},
   "outputs": [
    {
     "data": {
      "text/html": [
       "<div>\n",
       "<style scoped>\n",
       "    .dataframe tbody tr th:only-of-type {\n",
       "        vertical-align: middle;\n",
       "    }\n",
       "\n",
       "    .dataframe tbody tr th {\n",
       "        vertical-align: top;\n",
       "    }\n",
       "\n",
       "    .dataframe thead th {\n",
       "        text-align: right;\n",
       "    }\n",
       "</style>\n",
       "<table border=\"1\" class=\"dataframe\">\n",
       "  <thead>\n",
       "    <tr style=\"text-align: right;\">\n",
       "      <th></th>\n",
       "      <th>6</th>\n",
       "      <th>7</th>\n",
       "      <th>8</th>\n",
       "      <th>9</th>\n",
       "      <th>10</th>\n",
       "      <th>11</th>\n",
       "    </tr>\n",
       "  </thead>\n",
       "  <tbody>\n",
       "    <tr>\n",
       "      <th>6</th>\n",
       "      <td>6.6000e+03</td>\n",
       "      <td>4.0009e-11</td>\n",
       "      <td>-9.9000e+03</td>\n",
       "      <td>-6.6000e+03</td>\n",
       "      <td>-4.0009e-11</td>\n",
       "      <td>-9.9000e+03</td>\n",
       "    </tr>\n",
       "    <tr>\n",
       "      <th>7</th>\n",
       "      <td>4.0009e-11</td>\n",
       "      <td>6.6000e+05</td>\n",
       "      <td>6.0620e-13</td>\n",
       "      <td>-4.0009e-11</td>\n",
       "      <td>-6.6000e+05</td>\n",
       "      <td>-1.2063e-10</td>\n",
       "    </tr>\n",
       "    <tr>\n",
       "      <th>8</th>\n",
       "      <td>-9.9000e+03</td>\n",
       "      <td>6.0620e-13</td>\n",
       "      <td>1.9800e+04</td>\n",
       "      <td>9.9000e+03</td>\n",
       "      <td>-6.0620e-13</td>\n",
       "      <td>9.9000e+03</td>\n",
       "    </tr>\n",
       "    <tr>\n",
       "      <th>9</th>\n",
       "      <td>-6.6000e+03</td>\n",
       "      <td>-4.0009e-11</td>\n",
       "      <td>9.9000e+03</td>\n",
       "      <td>6.6000e+03</td>\n",
       "      <td>4.0009e-11</td>\n",
       "      <td>9.9000e+03</td>\n",
       "    </tr>\n",
       "    <tr>\n",
       "      <th>10</th>\n",
       "      <td>-4.0009e-11</td>\n",
       "      <td>-6.6000e+05</td>\n",
       "      <td>-6.0620e-13</td>\n",
       "      <td>4.0009e-11</td>\n",
       "      <td>6.6000e+05</td>\n",
       "      <td>1.2063e-10</td>\n",
       "    </tr>\n",
       "    <tr>\n",
       "      <th>11</th>\n",
       "      <td>-9.9000e+03</td>\n",
       "      <td>-1.2063e-10</td>\n",
       "      <td>9.9000e+03</td>\n",
       "      <td>9.9000e+03</td>\n",
       "      <td>1.2063e-10</td>\n",
       "      <td>1.9800e+04</td>\n",
       "    </tr>\n",
       "  </tbody>\n",
       "</table>\n",
       "</div>"
      ],
      "text/plain": [
       "            6           7           8           9           10          11\n",
       "6   6.6000e+03  4.0009e-11 -9.9000e+03 -6.6000e+03 -4.0009e-11 -9.9000e+03\n",
       "7   4.0009e-11  6.6000e+05  6.0620e-13 -4.0009e-11 -6.6000e+05 -1.2063e-10\n",
       "8  -9.9000e+03  6.0620e-13  1.9800e+04  9.9000e+03 -6.0620e-13  9.9000e+03\n",
       "9  -6.6000e+03 -4.0009e-11  9.9000e+03  6.6000e+03  4.0009e-11  9.9000e+03\n",
       "10 -4.0009e-11 -6.6000e+05 -6.0620e-13  4.0009e-11  6.6000e+05  1.2063e-10\n",
       "11 -9.9000e+03 -1.2063e-10  9.9000e+03  9.9000e+03  1.2063e-10  1.9800e+04"
      ]
     },
     "execution_count": 23,
     "metadata": {},
     "output_type": "execute_result"
    }
   ],
   "source": [
    "k34 = MemberStiffnessMatrix.localMember(B,AREA,E,I)\n",
    "A0_3 = rotationMatrix(alfa)\n",
    "B0_3 = transmissionMatrix(lx,ly)\n",
    "k3 = MemberStiffnessMatrix.globalMember(A0_3, k34, B0_3)\n",
    "k3 = parseMatrixIndexes(k3,[6,7,8,9,10,11])\n",
    "k3"
   ]
  },
  {
   "cell_type": "code",
   "execution_count": 24,
   "metadata": {},
   "outputs": [],
   "source": [
    "N_3 = 0 #kN\n",
    "V_3 = 0 #kN\n",
    "M_3 = 0 #kNm\n",
    "N_4 = 0 #kN\n",
    "V_4 = 0 #kN\n",
    "M_4 = 0 #kNm"
   ]
  },
  {
   "cell_type": "code",
   "execution_count": 25,
   "metadata": {},
   "outputs": [
    {
     "data": {
      "text/html": [
       "<div>\n",
       "<style scoped>\n",
       "    .dataframe tbody tr th:only-of-type {\n",
       "        vertical-align: middle;\n",
       "    }\n",
       "\n",
       "    .dataframe tbody tr th {\n",
       "        vertical-align: top;\n",
       "    }\n",
       "\n",
       "    .dataframe thead th {\n",
       "        text-align: right;\n",
       "    }\n",
       "</style>\n",
       "<table border=\"1\" class=\"dataframe\">\n",
       "  <thead>\n",
       "    <tr style=\"text-align: right;\">\n",
       "      <th></th>\n",
       "      <th>0</th>\n",
       "    </tr>\n",
       "  </thead>\n",
       "  <tbody>\n",
       "    <tr>\n",
       "      <th>6</th>\n",
       "      <td>0.0</td>\n",
       "    </tr>\n",
       "    <tr>\n",
       "      <th>7</th>\n",
       "      <td>0.0</td>\n",
       "    </tr>\n",
       "    <tr>\n",
       "      <th>8</th>\n",
       "      <td>0.0</td>\n",
       "    </tr>\n",
       "    <tr>\n",
       "      <th>9</th>\n",
       "      <td>0.0</td>\n",
       "    </tr>\n",
       "    <tr>\n",
       "      <th>10</th>\n",
       "      <td>0.0</td>\n",
       "    </tr>\n",
       "    <tr>\n",
       "      <th>11</th>\n",
       "      <td>0.0</td>\n",
       "    </tr>\n",
       "  </tbody>\n",
       "</table>\n",
       "</div>"
      ],
      "text/plain": [
       "      0\n",
       "6   0.0\n",
       "7   0.0\n",
       "8   0.0\n",
       "9   0.0\n",
       "10  0.0\n",
       "11  0.0"
      ]
     },
     "execution_count": 25,
     "metadata": {},
     "output_type": "execute_result"
    }
   ],
   "source": [
    "F34_l = LoadMatrix.localMatrix(N_3,V_3,M_3)\n",
    "F43_l = LoadMatrix.localMatrix(N_4,V_4,M_4)\n",
    "F34_g = LoadMatrix.globalMatrix(F34_l, A0_3.T)\n",
    "F43_g = LoadMatrix.globalMatrix(F43_l, A0_3.T)\n",
    "\n",
    "F3 = LoadMatrix.superMatrix(F34_g, F43_g)\n",
    "F3 = parseMatrixRows(F3,[6,7,8,9,10,11])\n",
    "F3"
   ]
  },
  {
   "cell_type": "markdown",
   "metadata": {},
   "source": [
    "## Matica tuhosti celého rámu"
   ]
  },
  {
   "cell_type": "code",
   "execution_count": 26,
   "metadata": {},
   "outputs": [
    {
     "data": {
      "text/html": [
       "<div>\n",
       "<style scoped>\n",
       "    .dataframe tbody tr th:only-of-type {\n",
       "        vertical-align: middle;\n",
       "    }\n",
       "\n",
       "    .dataframe tbody tr th {\n",
       "        vertical-align: top;\n",
       "    }\n",
       "\n",
       "    .dataframe thead th {\n",
       "        text-align: right;\n",
       "    }\n",
       "</style>\n",
       "<table border=\"1\" class=\"dataframe\">\n",
       "  <thead>\n",
       "    <tr style=\"text-align: right;\">\n",
       "      <th></th>\n",
       "      <th>0</th>\n",
       "      <th>1</th>\n",
       "      <th>2</th>\n",
       "      <th>3</th>\n",
       "      <th>4</th>\n",
       "      <th>5</th>\n",
       "      <th>6</th>\n",
       "      <th>7</th>\n",
       "      <th>8</th>\n",
       "      <th>9</th>\n",
       "      <th>10</th>\n",
       "      <th>11</th>\n",
       "    </tr>\n",
       "  </thead>\n",
       "  <tbody>\n",
       "    <tr>\n",
       "      <th>0</th>\n",
       "      <td>0.0</td>\n",
       "      <td>0.0</td>\n",
       "      <td>0.0</td>\n",
       "      <td>0.0</td>\n",
       "      <td>0.0</td>\n",
       "      <td>0.0</td>\n",
       "      <td>0.0</td>\n",
       "      <td>0.0</td>\n",
       "      <td>0.0</td>\n",
       "      <td>0.0</td>\n",
       "      <td>0.0</td>\n",
       "      <td>0.0</td>\n",
       "    </tr>\n",
       "    <tr>\n",
       "      <th>1</th>\n",
       "      <td>0.0</td>\n",
       "      <td>0.0</td>\n",
       "      <td>0.0</td>\n",
       "      <td>0.0</td>\n",
       "      <td>0.0</td>\n",
       "      <td>0.0</td>\n",
       "      <td>0.0</td>\n",
       "      <td>0.0</td>\n",
       "      <td>0.0</td>\n",
       "      <td>0.0</td>\n",
       "      <td>0.0</td>\n",
       "      <td>0.0</td>\n",
       "    </tr>\n",
       "    <tr>\n",
       "      <th>2</th>\n",
       "      <td>0.0</td>\n",
       "      <td>0.0</td>\n",
       "      <td>0.0</td>\n",
       "      <td>0.0</td>\n",
       "      <td>0.0</td>\n",
       "      <td>0.0</td>\n",
       "      <td>0.0</td>\n",
       "      <td>0.0</td>\n",
       "      <td>0.0</td>\n",
       "      <td>0.0</td>\n",
       "      <td>0.0</td>\n",
       "      <td>0.0</td>\n",
       "    </tr>\n",
       "    <tr>\n",
       "      <th>3</th>\n",
       "      <td>0.0</td>\n",
       "      <td>0.0</td>\n",
       "      <td>0.0</td>\n",
       "      <td>0.0</td>\n",
       "      <td>0.0</td>\n",
       "      <td>0.0</td>\n",
       "      <td>0.0</td>\n",
       "      <td>0.0</td>\n",
       "      <td>0.0</td>\n",
       "      <td>0.0</td>\n",
       "      <td>0.0</td>\n",
       "      <td>0.0</td>\n",
       "    </tr>\n",
       "    <tr>\n",
       "      <th>4</th>\n",
       "      <td>0.0</td>\n",
       "      <td>0.0</td>\n",
       "      <td>0.0</td>\n",
       "      <td>0.0</td>\n",
       "      <td>0.0</td>\n",
       "      <td>0.0</td>\n",
       "      <td>0.0</td>\n",
       "      <td>0.0</td>\n",
       "      <td>0.0</td>\n",
       "      <td>0.0</td>\n",
       "      <td>0.0</td>\n",
       "      <td>0.0</td>\n",
       "    </tr>\n",
       "    <tr>\n",
       "      <th>5</th>\n",
       "      <td>0.0</td>\n",
       "      <td>0.0</td>\n",
       "      <td>0.0</td>\n",
       "      <td>0.0</td>\n",
       "      <td>0.0</td>\n",
       "      <td>0.0</td>\n",
       "      <td>0.0</td>\n",
       "      <td>0.0</td>\n",
       "      <td>0.0</td>\n",
       "      <td>0.0</td>\n",
       "      <td>0.0</td>\n",
       "      <td>0.0</td>\n",
       "    </tr>\n",
       "    <tr>\n",
       "      <th>6</th>\n",
       "      <td>0.0</td>\n",
       "      <td>0.0</td>\n",
       "      <td>0.0</td>\n",
       "      <td>0.0</td>\n",
       "      <td>0.0</td>\n",
       "      <td>0.0</td>\n",
       "      <td>0.0</td>\n",
       "      <td>0.0</td>\n",
       "      <td>0.0</td>\n",
       "      <td>0.0</td>\n",
       "      <td>0.0</td>\n",
       "      <td>0.0</td>\n",
       "    </tr>\n",
       "    <tr>\n",
       "      <th>7</th>\n",
       "      <td>0.0</td>\n",
       "      <td>0.0</td>\n",
       "      <td>0.0</td>\n",
       "      <td>0.0</td>\n",
       "      <td>0.0</td>\n",
       "      <td>0.0</td>\n",
       "      <td>0.0</td>\n",
       "      <td>0.0</td>\n",
       "      <td>0.0</td>\n",
       "      <td>0.0</td>\n",
       "      <td>0.0</td>\n",
       "      <td>0.0</td>\n",
       "    </tr>\n",
       "    <tr>\n",
       "      <th>8</th>\n",
       "      <td>0.0</td>\n",
       "      <td>0.0</td>\n",
       "      <td>0.0</td>\n",
       "      <td>0.0</td>\n",
       "      <td>0.0</td>\n",
       "      <td>0.0</td>\n",
       "      <td>0.0</td>\n",
       "      <td>0.0</td>\n",
       "      <td>0.0</td>\n",
       "      <td>0.0</td>\n",
       "      <td>0.0</td>\n",
       "      <td>0.0</td>\n",
       "    </tr>\n",
       "    <tr>\n",
       "      <th>9</th>\n",
       "      <td>0.0</td>\n",
       "      <td>0.0</td>\n",
       "      <td>0.0</td>\n",
       "      <td>0.0</td>\n",
       "      <td>0.0</td>\n",
       "      <td>0.0</td>\n",
       "      <td>0.0</td>\n",
       "      <td>0.0</td>\n",
       "      <td>0.0</td>\n",
       "      <td>0.0</td>\n",
       "      <td>0.0</td>\n",
       "      <td>0.0</td>\n",
       "    </tr>\n",
       "    <tr>\n",
       "      <th>10</th>\n",
       "      <td>0.0</td>\n",
       "      <td>0.0</td>\n",
       "      <td>0.0</td>\n",
       "      <td>0.0</td>\n",
       "      <td>0.0</td>\n",
       "      <td>0.0</td>\n",
       "      <td>0.0</td>\n",
       "      <td>0.0</td>\n",
       "      <td>0.0</td>\n",
       "      <td>0.0</td>\n",
       "      <td>0.0</td>\n",
       "      <td>0.0</td>\n",
       "    </tr>\n",
       "    <tr>\n",
       "      <th>11</th>\n",
       "      <td>0.0</td>\n",
       "      <td>0.0</td>\n",
       "      <td>0.0</td>\n",
       "      <td>0.0</td>\n",
       "      <td>0.0</td>\n",
       "      <td>0.0</td>\n",
       "      <td>0.0</td>\n",
       "      <td>0.0</td>\n",
       "      <td>0.0</td>\n",
       "      <td>0.0</td>\n",
       "      <td>0.0</td>\n",
       "      <td>0.0</td>\n",
       "    </tr>\n",
       "  </tbody>\n",
       "</table>\n",
       "</div>"
      ],
      "text/plain": [
       "     0    1    2    3    4    5    6    7    8    9    10   11\n",
       "0   0.0  0.0  0.0  0.0  0.0  0.0  0.0  0.0  0.0  0.0  0.0  0.0\n",
       "1   0.0  0.0  0.0  0.0  0.0  0.0  0.0  0.0  0.0  0.0  0.0  0.0\n",
       "2   0.0  0.0  0.0  0.0  0.0  0.0  0.0  0.0  0.0  0.0  0.0  0.0\n",
       "3   0.0  0.0  0.0  0.0  0.0  0.0  0.0  0.0  0.0  0.0  0.0  0.0\n",
       "4   0.0  0.0  0.0  0.0  0.0  0.0  0.0  0.0  0.0  0.0  0.0  0.0\n",
       "5   0.0  0.0  0.0  0.0  0.0  0.0  0.0  0.0  0.0  0.0  0.0  0.0\n",
       "6   0.0  0.0  0.0  0.0  0.0  0.0  0.0  0.0  0.0  0.0  0.0  0.0\n",
       "7   0.0  0.0  0.0  0.0  0.0  0.0  0.0  0.0  0.0  0.0  0.0  0.0\n",
       "8   0.0  0.0  0.0  0.0  0.0  0.0  0.0  0.0  0.0  0.0  0.0  0.0\n",
       "9   0.0  0.0  0.0  0.0  0.0  0.0  0.0  0.0  0.0  0.0  0.0  0.0\n",
       "10  0.0  0.0  0.0  0.0  0.0  0.0  0.0  0.0  0.0  0.0  0.0  0.0\n",
       "11  0.0  0.0  0.0  0.0  0.0  0.0  0.0  0.0  0.0  0.0  0.0  0.0"
      ]
     },
     "execution_count": 26,
     "metadata": {},
     "output_type": "execute_result"
    }
   ],
   "source": [
    "zeros = pd.DataFrame(np.zeros((12, 12)))\n",
    "zeros"
   ]
  },
  {
   "cell_type": "markdown",
   "metadata": {},
   "source": [
    "Matica tuhosti bez zohľadnenia okrajových podmienok"
   ]
  },
  {
   "cell_type": "code",
   "execution_count": 27,
   "metadata": {},
   "outputs": [],
   "source": [
    "def modelMatrix(zeros, k1, k2, k3):\n",
    "    layer1 = zeros.add(k1,fill_value=0)\n",
    "    layer2 = layer1.add(k2,fill_value=0)\n",
    "    layer3 = layer2.add(k3,fill_value=0)\n",
    "    return layer3"
   ]
  },
  {
   "cell_type": "code",
   "execution_count": 28,
   "metadata": {},
   "outputs": [],
   "source": [
    "modelMatrix = modelMatrix(zeros,k1,k2,k3)"
   ]
  },
  {
   "cell_type": "code",
   "execution_count": 29,
   "metadata": {},
   "outputs": [],
   "source": [
    "def highlightNotZero(x):\n",
    "    if x < 0:\n",
    "        #red\n",
    "        color = \"#ff9999\"\n",
    "    elif x > 0:\n",
    "        #green\n",
    "        color = \"#ccffcc\"\n",
    "    else:\n",
    "        color = \"#f2f2f2\"\n",
    "    return f\"background: {color}\"\n",
    "\n",
    "def parseZeroValues(x):\n",
    "    if x != 0:\n",
    "        return '{:.3e}'\n",
    "    else:\n",
    "        return '{:.0f}'\n"
   ]
  },
  {
   "cell_type": "code",
   "execution_count": 30,
   "metadata": {},
   "outputs": [
    {
     "data": {
      "text/html": [
       "<style  type=\"text/css\" >\n",
       "    #T_ca346_  {\n",
       "          font-family: arial;\n",
       "    }#T_ca346_row0_col0,#T_ca346_row0_col1,#T_ca346_row0_col2,#T_ca346_row0_col5,#T_ca346_row1_col0,#T_ca346_row1_col1,#T_ca346_row1_col5,#T_ca346_row2_col0,#T_ca346_row2_col2,#T_ca346_row2_col4,#T_ca346_row2_col5,#T_ca346_row3_col3,#T_ca346_row3_col4,#T_ca346_row4_col2,#T_ca346_row4_col3,#T_ca346_row4_col4,#T_ca346_row4_col5,#T_ca346_row4_col8,#T_ca346_row5_col0,#T_ca346_row5_col1,#T_ca346_row5_col2,#T_ca346_row5_col4,#T_ca346_row5_col5,#T_ca346_row5_col8,#T_ca346_row6_col6,#T_ca346_row6_col7,#T_ca346_row7_col6,#T_ca346_row7_col7,#T_ca346_row8_col4,#T_ca346_row8_col5,#T_ca346_row8_col8,#T_ca346_row8_col9,#T_ca346_row8_col11,#T_ca346_row9_col8,#T_ca346_row9_col9,#T_ca346_row9_col10,#T_ca346_row9_col11,#T_ca346_row10_col9,#T_ca346_row10_col10,#T_ca346_row10_col11,#T_ca346_row11_col8,#T_ca346_row11_col9,#T_ca346_row11_col10,#T_ca346_row11_col11{\n",
       "            background:  #ccffcc;\n",
       "        }#T_ca346_row0_col3,#T_ca346_row0_col4,#T_ca346_row1_col2,#T_ca346_row1_col3,#T_ca346_row1_col4,#T_ca346_row2_col1,#T_ca346_row2_col3,#T_ca346_row3_col0,#T_ca346_row3_col1,#T_ca346_row3_col2,#T_ca346_row3_col5,#T_ca346_row3_col6,#T_ca346_row4_col0,#T_ca346_row4_col1,#T_ca346_row4_col7,#T_ca346_row5_col3,#T_ca346_row5_col7,#T_ca346_row6_col3,#T_ca346_row6_col8,#T_ca346_row6_col9,#T_ca346_row6_col10,#T_ca346_row6_col11,#T_ca346_row7_col4,#T_ca346_row7_col5,#T_ca346_row7_col8,#T_ca346_row7_col9,#T_ca346_row7_col10,#T_ca346_row7_col11,#T_ca346_row8_col6,#T_ca346_row8_col7,#T_ca346_row8_col10,#T_ca346_row9_col6,#T_ca346_row9_col7,#T_ca346_row10_col6,#T_ca346_row10_col7,#T_ca346_row10_col8,#T_ca346_row11_col6,#T_ca346_row11_col7{\n",
       "            background:  #ff9999;\n",
       "        }#T_ca346_row0_col6,#T_ca346_row0_col7,#T_ca346_row0_col8,#T_ca346_row0_col9,#T_ca346_row0_col10,#T_ca346_row0_col11,#T_ca346_row1_col6,#T_ca346_row1_col7,#T_ca346_row1_col8,#T_ca346_row1_col9,#T_ca346_row1_col10,#T_ca346_row1_col11,#T_ca346_row2_col6,#T_ca346_row2_col7,#T_ca346_row2_col8,#T_ca346_row2_col9,#T_ca346_row2_col10,#T_ca346_row2_col11,#T_ca346_row3_col7,#T_ca346_row3_col8,#T_ca346_row3_col9,#T_ca346_row3_col10,#T_ca346_row3_col11,#T_ca346_row4_col6,#T_ca346_row4_col9,#T_ca346_row4_col10,#T_ca346_row4_col11,#T_ca346_row5_col6,#T_ca346_row5_col9,#T_ca346_row5_col10,#T_ca346_row5_col11,#T_ca346_row6_col0,#T_ca346_row6_col1,#T_ca346_row6_col2,#T_ca346_row6_col4,#T_ca346_row6_col5,#T_ca346_row7_col0,#T_ca346_row7_col1,#T_ca346_row7_col2,#T_ca346_row7_col3,#T_ca346_row8_col0,#T_ca346_row8_col1,#T_ca346_row8_col2,#T_ca346_row8_col3,#T_ca346_row9_col0,#T_ca346_row9_col1,#T_ca346_row9_col2,#T_ca346_row9_col3,#T_ca346_row9_col4,#T_ca346_row9_col5,#T_ca346_row10_col0,#T_ca346_row10_col1,#T_ca346_row10_col2,#T_ca346_row10_col3,#T_ca346_row10_col4,#T_ca346_row10_col5,#T_ca346_row11_col0,#T_ca346_row11_col1,#T_ca346_row11_col2,#T_ca346_row11_col3,#T_ca346_row11_col4,#T_ca346_row11_col5{\n",
       "            background:  #f2f2f2;\n",
       "        }</style><table id=\"T_ca346_\" ><thead>    <tr>        <th class=\"blank level0\" ></th>        <th class=\"col_heading level0 col0\" >0</th>        <th class=\"col_heading level0 col1\" >1</th>        <th class=\"col_heading level0 col2\" >2</th>        <th class=\"col_heading level0 col3\" >3</th>        <th class=\"col_heading level0 col4\" >4</th>        <th class=\"col_heading level0 col5\" >5</th>        <th class=\"col_heading level0 col6\" >6</th>        <th class=\"col_heading level0 col7\" >7</th>        <th class=\"col_heading level0 col8\" >8</th>        <th class=\"col_heading level0 col9\" >9</th>        <th class=\"col_heading level0 col10\" >10</th>        <th class=\"col_heading level0 col11\" >11</th>    </tr></thead><tbody>\n",
       "                <tr>\n",
       "                        <th id=\"T_ca346_level0_row0\" class=\"row_heading level0 row0\" >0</th>\n",
       "                        <td id=\"T_ca346_row0_col0\" class=\"data row0 col0\" >6.600e+03</td>\n",
       "                        <td id=\"T_ca346_row0_col1\" class=\"data row0 col1\" >1.200e-10</td>\n",
       "                        <td id=\"T_ca346_row0_col2\" class=\"data row0 col2\" >9.900e+03</td>\n",
       "                        <td id=\"T_ca346_row0_col3\" class=\"data row0 col3\" >-6.600e+03</td>\n",
       "                        <td id=\"T_ca346_row0_col4\" class=\"data row0 col4\" >-1.200e-10</td>\n",
       "                        <td id=\"T_ca346_row0_col5\" class=\"data row0 col5\" >9.900e+03</td>\n",
       "                        <td id=\"T_ca346_row0_col6\" class=\"data row0 col6\" >0.000e+00</td>\n",
       "                        <td id=\"T_ca346_row0_col7\" class=\"data row0 col7\" >0.000e+00</td>\n",
       "                        <td id=\"T_ca346_row0_col8\" class=\"data row0 col8\" >0.000e+00</td>\n",
       "                        <td id=\"T_ca346_row0_col9\" class=\"data row0 col9\" >0.000e+00</td>\n",
       "                        <td id=\"T_ca346_row0_col10\" class=\"data row0 col10\" >0.000e+00</td>\n",
       "                        <td id=\"T_ca346_row0_col11\" class=\"data row0 col11\" >0.000e+00</td>\n",
       "            </tr>\n",
       "            <tr>\n",
       "                        <th id=\"T_ca346_level0_row1\" class=\"row_heading level0 row1\" >1</th>\n",
       "                        <td id=\"T_ca346_row1_col0\" class=\"data row1 col0\" >1.200e-10</td>\n",
       "                        <td id=\"T_ca346_row1_col1\" class=\"data row1 col1\" >6.600e+05</td>\n",
       "                        <td id=\"T_ca346_row1_col2\" class=\"data row1 col2\" >-1.819e-12</td>\n",
       "                        <td id=\"T_ca346_row1_col3\" class=\"data row1 col3\" >-1.200e-10</td>\n",
       "                        <td id=\"T_ca346_row1_col4\" class=\"data row1 col4\" >-6.600e+05</td>\n",
       "                        <td id=\"T_ca346_row1_col5\" class=\"data row1 col5\" >3.619e-10</td>\n",
       "                        <td id=\"T_ca346_row1_col6\" class=\"data row1 col6\" >0.000e+00</td>\n",
       "                        <td id=\"T_ca346_row1_col7\" class=\"data row1 col7\" >0.000e+00</td>\n",
       "                        <td id=\"T_ca346_row1_col8\" class=\"data row1 col8\" >0.000e+00</td>\n",
       "                        <td id=\"T_ca346_row1_col9\" class=\"data row1 col9\" >0.000e+00</td>\n",
       "                        <td id=\"T_ca346_row1_col10\" class=\"data row1 col10\" >0.000e+00</td>\n",
       "                        <td id=\"T_ca346_row1_col11\" class=\"data row1 col11\" >0.000e+00</td>\n",
       "            </tr>\n",
       "            <tr>\n",
       "                        <th id=\"T_ca346_level0_row2\" class=\"row_heading level0 row2\" >2</th>\n",
       "                        <td id=\"T_ca346_row2_col0\" class=\"data row2 col0\" >9.900e+03</td>\n",
       "                        <td id=\"T_ca346_row2_col1\" class=\"data row2 col1\" >-1.819e-12</td>\n",
       "                        <td id=\"T_ca346_row2_col2\" class=\"data row2 col2\" >1.980e+04</td>\n",
       "                        <td id=\"T_ca346_row2_col3\" class=\"data row2 col3\" >-9.900e+03</td>\n",
       "                        <td id=\"T_ca346_row2_col4\" class=\"data row2 col4\" >1.819e-12</td>\n",
       "                        <td id=\"T_ca346_row2_col5\" class=\"data row2 col5\" >9.900e+03</td>\n",
       "                        <td id=\"T_ca346_row2_col6\" class=\"data row2 col6\" >0.000e+00</td>\n",
       "                        <td id=\"T_ca346_row2_col7\" class=\"data row2 col7\" >0.000e+00</td>\n",
       "                        <td id=\"T_ca346_row2_col8\" class=\"data row2 col8\" >0.000e+00</td>\n",
       "                        <td id=\"T_ca346_row2_col9\" class=\"data row2 col9\" >0.000e+00</td>\n",
       "                        <td id=\"T_ca346_row2_col10\" class=\"data row2 col10\" >0.000e+00</td>\n",
       "                        <td id=\"T_ca346_row2_col11\" class=\"data row2 col11\" >0.000e+00</td>\n",
       "            </tr>\n",
       "            <tr>\n",
       "                        <th id=\"T_ca346_level0_row3\" class=\"row_heading level0 row3\" >3</th>\n",
       "                        <td id=\"T_ca346_row3_col0\" class=\"data row3 col0\" >-6.600e+03</td>\n",
       "                        <td id=\"T_ca346_row3_col1\" class=\"data row3 col1\" >-1.200e-10</td>\n",
       "                        <td id=\"T_ca346_row3_col2\" class=\"data row3 col2\" >-9.900e+03</td>\n",
       "                        <td id=\"T_ca346_row3_col3\" class=\"data row3 col3\" >6.666e+05</td>\n",
       "                        <td id=\"T_ca346_row3_col4\" class=\"data row3 col4\" >1.200e-10</td>\n",
       "                        <td id=\"T_ca346_row3_col5\" class=\"data row3 col5\" >-9.900e+03</td>\n",
       "                        <td id=\"T_ca346_row3_col6\" class=\"data row3 col6\" >-6.600e+05</td>\n",
       "                        <td id=\"T_ca346_row3_col7\" class=\"data row3 col7\" >0.000e+00</td>\n",
       "                        <td id=\"T_ca346_row3_col8\" class=\"data row3 col8\" >0.000e+00</td>\n",
       "                        <td id=\"T_ca346_row3_col9\" class=\"data row3 col9\" >0.000e+00</td>\n",
       "                        <td id=\"T_ca346_row3_col10\" class=\"data row3 col10\" >0.000e+00</td>\n",
       "                        <td id=\"T_ca346_row3_col11\" class=\"data row3 col11\" >0.000e+00</td>\n",
       "            </tr>\n",
       "            <tr>\n",
       "                        <th id=\"T_ca346_level0_row4\" class=\"row_heading level0 row4\" >4</th>\n",
       "                        <td id=\"T_ca346_row4_col0\" class=\"data row4 col0\" >-1.200e-10</td>\n",
       "                        <td id=\"T_ca346_row4_col1\" class=\"data row4 col1\" >-6.600e+05</td>\n",
       "                        <td id=\"T_ca346_row4_col2\" class=\"data row4 col2\" >1.819e-12</td>\n",
       "                        <td id=\"T_ca346_row4_col3\" class=\"data row4 col3\" >1.200e-10</td>\n",
       "                        <td id=\"T_ca346_row4_col4\" class=\"data row4 col4\" >6.666e+05</td>\n",
       "                        <td id=\"T_ca346_row4_col5\" class=\"data row4 col5\" >9.900e+03</td>\n",
       "                        <td id=\"T_ca346_row4_col6\" class=\"data row4 col6\" >0.000e+00</td>\n",
       "                        <td id=\"T_ca346_row4_col7\" class=\"data row4 col7\" >-6.600e+03</td>\n",
       "                        <td id=\"T_ca346_row4_col8\" class=\"data row4 col8\" >9.900e+03</td>\n",
       "                        <td id=\"T_ca346_row4_col9\" class=\"data row4 col9\" >0.000e+00</td>\n",
       "                        <td id=\"T_ca346_row4_col10\" class=\"data row4 col10\" >0.000e+00</td>\n",
       "                        <td id=\"T_ca346_row4_col11\" class=\"data row4 col11\" >0.000e+00</td>\n",
       "            </tr>\n",
       "            <tr>\n",
       "                        <th id=\"T_ca346_level0_row5\" class=\"row_heading level0 row5\" >5</th>\n",
       "                        <td id=\"T_ca346_row5_col0\" class=\"data row5 col0\" >9.900e+03</td>\n",
       "                        <td id=\"T_ca346_row5_col1\" class=\"data row5 col1\" >3.619e-10</td>\n",
       "                        <td id=\"T_ca346_row5_col2\" class=\"data row5 col2\" >9.900e+03</td>\n",
       "                        <td id=\"T_ca346_row5_col3\" class=\"data row5 col3\" >-9.900e+03</td>\n",
       "                        <td id=\"T_ca346_row5_col4\" class=\"data row5 col4\" >9.900e+03</td>\n",
       "                        <td id=\"T_ca346_row5_col5\" class=\"data row5 col5\" >3.960e+04</td>\n",
       "                        <td id=\"T_ca346_row5_col6\" class=\"data row5 col6\" >0.000e+00</td>\n",
       "                        <td id=\"T_ca346_row5_col7\" class=\"data row5 col7\" >-9.900e+03</td>\n",
       "                        <td id=\"T_ca346_row5_col8\" class=\"data row5 col8\" >9.900e+03</td>\n",
       "                        <td id=\"T_ca346_row5_col9\" class=\"data row5 col9\" >0.000e+00</td>\n",
       "                        <td id=\"T_ca346_row5_col10\" class=\"data row5 col10\" >0.000e+00</td>\n",
       "                        <td id=\"T_ca346_row5_col11\" class=\"data row5 col11\" >0.000e+00</td>\n",
       "            </tr>\n",
       "            <tr>\n",
       "                        <th id=\"T_ca346_level0_row6\" class=\"row_heading level0 row6\" >6</th>\n",
       "                        <td id=\"T_ca346_row6_col0\" class=\"data row6 col0\" >0.000e+00</td>\n",
       "                        <td id=\"T_ca346_row6_col1\" class=\"data row6 col1\" >0.000e+00</td>\n",
       "                        <td id=\"T_ca346_row6_col2\" class=\"data row6 col2\" >0.000e+00</td>\n",
       "                        <td id=\"T_ca346_row6_col3\" class=\"data row6 col3\" >-6.600e+05</td>\n",
       "                        <td id=\"T_ca346_row6_col4\" class=\"data row6 col4\" >0.000e+00</td>\n",
       "                        <td id=\"T_ca346_row6_col5\" class=\"data row6 col5\" >0.000e+00</td>\n",
       "                        <td id=\"T_ca346_row6_col6\" class=\"data row6 col6\" >6.666e+05</td>\n",
       "                        <td id=\"T_ca346_row6_col7\" class=\"data row6 col7\" >4.001e-11</td>\n",
       "                        <td id=\"T_ca346_row6_col8\" class=\"data row6 col8\" >-9.900e+03</td>\n",
       "                        <td id=\"T_ca346_row6_col9\" class=\"data row6 col9\" >-6.600e+03</td>\n",
       "                        <td id=\"T_ca346_row6_col10\" class=\"data row6 col10\" >-4.001e-11</td>\n",
       "                        <td id=\"T_ca346_row6_col11\" class=\"data row6 col11\" >-9.900e+03</td>\n",
       "            </tr>\n",
       "            <tr>\n",
       "                        <th id=\"T_ca346_level0_row7\" class=\"row_heading level0 row7\" >7</th>\n",
       "                        <td id=\"T_ca346_row7_col0\" class=\"data row7 col0\" >0.000e+00</td>\n",
       "                        <td id=\"T_ca346_row7_col1\" class=\"data row7 col1\" >0.000e+00</td>\n",
       "                        <td id=\"T_ca346_row7_col2\" class=\"data row7 col2\" >0.000e+00</td>\n",
       "                        <td id=\"T_ca346_row7_col3\" class=\"data row7 col3\" >0.000e+00</td>\n",
       "                        <td id=\"T_ca346_row7_col4\" class=\"data row7 col4\" >-6.600e+03</td>\n",
       "                        <td id=\"T_ca346_row7_col5\" class=\"data row7 col5\" >-9.900e+03</td>\n",
       "                        <td id=\"T_ca346_row7_col6\" class=\"data row7 col6\" >4.001e-11</td>\n",
       "                        <td id=\"T_ca346_row7_col7\" class=\"data row7 col7\" >6.666e+05</td>\n",
       "                        <td id=\"T_ca346_row7_col8\" class=\"data row7 col8\" >-9.900e+03</td>\n",
       "                        <td id=\"T_ca346_row7_col9\" class=\"data row7 col9\" >-4.001e-11</td>\n",
       "                        <td id=\"T_ca346_row7_col10\" class=\"data row7 col10\" >-6.600e+05</td>\n",
       "                        <td id=\"T_ca346_row7_col11\" class=\"data row7 col11\" >-1.206e-10</td>\n",
       "            </tr>\n",
       "            <tr>\n",
       "                        <th id=\"T_ca346_level0_row8\" class=\"row_heading level0 row8\" >8</th>\n",
       "                        <td id=\"T_ca346_row8_col0\" class=\"data row8 col0\" >0.000e+00</td>\n",
       "                        <td id=\"T_ca346_row8_col1\" class=\"data row8 col1\" >0.000e+00</td>\n",
       "                        <td id=\"T_ca346_row8_col2\" class=\"data row8 col2\" >0.000e+00</td>\n",
       "                        <td id=\"T_ca346_row8_col3\" class=\"data row8 col3\" >0.000e+00</td>\n",
       "                        <td id=\"T_ca346_row8_col4\" class=\"data row8 col4\" >9.900e+03</td>\n",
       "                        <td id=\"T_ca346_row8_col5\" class=\"data row8 col5\" >9.900e+03</td>\n",
       "                        <td id=\"T_ca346_row8_col6\" class=\"data row8 col6\" >-9.900e+03</td>\n",
       "                        <td id=\"T_ca346_row8_col7\" class=\"data row8 col7\" >-9.900e+03</td>\n",
       "                        <td id=\"T_ca346_row8_col8\" class=\"data row8 col8\" >3.960e+04</td>\n",
       "                        <td id=\"T_ca346_row8_col9\" class=\"data row8 col9\" >9.900e+03</td>\n",
       "                        <td id=\"T_ca346_row8_col10\" class=\"data row8 col10\" >-6.062e-13</td>\n",
       "                        <td id=\"T_ca346_row8_col11\" class=\"data row8 col11\" >9.900e+03</td>\n",
       "            </tr>\n",
       "            <tr>\n",
       "                        <th id=\"T_ca346_level0_row9\" class=\"row_heading level0 row9\" >9</th>\n",
       "                        <td id=\"T_ca346_row9_col0\" class=\"data row9 col0\" >0.000e+00</td>\n",
       "                        <td id=\"T_ca346_row9_col1\" class=\"data row9 col1\" >0.000e+00</td>\n",
       "                        <td id=\"T_ca346_row9_col2\" class=\"data row9 col2\" >0.000e+00</td>\n",
       "                        <td id=\"T_ca346_row9_col3\" class=\"data row9 col3\" >0.000e+00</td>\n",
       "                        <td id=\"T_ca346_row9_col4\" class=\"data row9 col4\" >0.000e+00</td>\n",
       "                        <td id=\"T_ca346_row9_col5\" class=\"data row9 col5\" >0.000e+00</td>\n",
       "                        <td id=\"T_ca346_row9_col6\" class=\"data row9 col6\" >-6.600e+03</td>\n",
       "                        <td id=\"T_ca346_row9_col7\" class=\"data row9 col7\" >-4.001e-11</td>\n",
       "                        <td id=\"T_ca346_row9_col8\" class=\"data row9 col8\" >9.900e+03</td>\n",
       "                        <td id=\"T_ca346_row9_col9\" class=\"data row9 col9\" >6.600e+03</td>\n",
       "                        <td id=\"T_ca346_row9_col10\" class=\"data row9 col10\" >4.001e-11</td>\n",
       "                        <td id=\"T_ca346_row9_col11\" class=\"data row9 col11\" >9.900e+03</td>\n",
       "            </tr>\n",
       "            <tr>\n",
       "                        <th id=\"T_ca346_level0_row10\" class=\"row_heading level0 row10\" >10</th>\n",
       "                        <td id=\"T_ca346_row10_col0\" class=\"data row10 col0\" >0.000e+00</td>\n",
       "                        <td id=\"T_ca346_row10_col1\" class=\"data row10 col1\" >0.000e+00</td>\n",
       "                        <td id=\"T_ca346_row10_col2\" class=\"data row10 col2\" >0.000e+00</td>\n",
       "                        <td id=\"T_ca346_row10_col3\" class=\"data row10 col3\" >0.000e+00</td>\n",
       "                        <td id=\"T_ca346_row10_col4\" class=\"data row10 col4\" >0.000e+00</td>\n",
       "                        <td id=\"T_ca346_row10_col5\" class=\"data row10 col5\" >0.000e+00</td>\n",
       "                        <td id=\"T_ca346_row10_col6\" class=\"data row10 col6\" >-4.001e-11</td>\n",
       "                        <td id=\"T_ca346_row10_col7\" class=\"data row10 col7\" >-6.600e+05</td>\n",
       "                        <td id=\"T_ca346_row10_col8\" class=\"data row10 col8\" >-6.062e-13</td>\n",
       "                        <td id=\"T_ca346_row10_col9\" class=\"data row10 col9\" >4.001e-11</td>\n",
       "                        <td id=\"T_ca346_row10_col10\" class=\"data row10 col10\" >6.600e+05</td>\n",
       "                        <td id=\"T_ca346_row10_col11\" class=\"data row10 col11\" >1.206e-10</td>\n",
       "            </tr>\n",
       "            <tr>\n",
       "                        <th id=\"T_ca346_level0_row11\" class=\"row_heading level0 row11\" >11</th>\n",
       "                        <td id=\"T_ca346_row11_col0\" class=\"data row11 col0\" >0.000e+00</td>\n",
       "                        <td id=\"T_ca346_row11_col1\" class=\"data row11 col1\" >0.000e+00</td>\n",
       "                        <td id=\"T_ca346_row11_col2\" class=\"data row11 col2\" >0.000e+00</td>\n",
       "                        <td id=\"T_ca346_row11_col3\" class=\"data row11 col3\" >0.000e+00</td>\n",
       "                        <td id=\"T_ca346_row11_col4\" class=\"data row11 col4\" >0.000e+00</td>\n",
       "                        <td id=\"T_ca346_row11_col5\" class=\"data row11 col5\" >0.000e+00</td>\n",
       "                        <td id=\"T_ca346_row11_col6\" class=\"data row11 col6\" >-9.900e+03</td>\n",
       "                        <td id=\"T_ca346_row11_col7\" class=\"data row11 col7\" >-1.206e-10</td>\n",
       "                        <td id=\"T_ca346_row11_col8\" class=\"data row11 col8\" >9.900e+03</td>\n",
       "                        <td id=\"T_ca346_row11_col9\" class=\"data row11 col9\" >9.900e+03</td>\n",
       "                        <td id=\"T_ca346_row11_col10\" class=\"data row11 col10\" >1.206e-10</td>\n",
       "                        <td id=\"T_ca346_row11_col11\" class=\"data row11 col11\" >1.980e+04</td>\n",
       "            </tr>\n",
       "    </tbody></table>"
      ],
      "text/plain": [
       "<pandas.io.formats.style.Styler at 0x19576c690d0>"
      ]
     },
     "execution_count": 30,
     "metadata": {},
     "output_type": "execute_result"
    }
   ],
   "source": [
    "modelMatrix.style\\\n",
    ".format('{:.3e}')\\\n",
    ".applymap(highlightNotZero)\\\n",
    ".set_table_styles([{\"selector\" : \"\", \"props\" : [(\"font-family\", \"arial\")]}]) \n"
   ]
  },
  {
   "cell_type": "markdown",
   "metadata": {},
   "source": [
    "## Matica tuhosti zohľadňujúca okrajové podmienky"
   ]
  },
  {
   "cell_type": "code",
   "execution_count": 31,
   "metadata": {},
   "outputs": [],
   "source": [
    "def loadVector(F1,F2,F3):\n",
    "    x = F1.add(F2,fill_value=0)\n",
    "    loadVector = x.add(F3,fill_value=0)\n",
    "    return loadVector"
   ]
  },
  {
   "cell_type": "markdown",
   "metadata": {},
   "source": [
    "Silový vektor celého rámu"
   ]
  },
  {
   "cell_type": "code",
   "execution_count": 32,
   "metadata": {},
   "outputs": [
    {
     "data": {
      "text/html": [
       "<div>\n",
       "<style scoped>\n",
       "    .dataframe tbody tr th:only-of-type {\n",
       "        vertical-align: middle;\n",
       "    }\n",
       "\n",
       "    .dataframe tbody tr th {\n",
       "        vertical-align: top;\n",
       "    }\n",
       "\n",
       "    .dataframe thead th {\n",
       "        text-align: right;\n",
       "    }\n",
       "</style>\n",
       "<table border=\"1\" class=\"dataframe\">\n",
       "  <thead>\n",
       "    <tr style=\"text-align: right;\">\n",
       "      <th></th>\n",
       "      <th>0</th>\n",
       "    </tr>\n",
       "  </thead>\n",
       "  <tbody>\n",
       "    <tr>\n",
       "      <th>0</th>\n",
       "      <td>-7.5000e+00</td>\n",
       "    </tr>\n",
       "    <tr>\n",
       "      <th>1</th>\n",
       "      <td>1.3777e-15</td>\n",
       "    </tr>\n",
       "    <tr>\n",
       "      <th>2</th>\n",
       "      <td>-3.7500e+00</td>\n",
       "    </tr>\n",
       "    <tr>\n",
       "      <th>3</th>\n",
       "      <td>-7.5000e+00</td>\n",
       "    </tr>\n",
       "    <tr>\n",
       "      <th>4</th>\n",
       "      <td>-2.0000e+01</td>\n",
       "    </tr>\n",
       "    <tr>\n",
       "      <th>5</th>\n",
       "      <td>-1.1250e+01</td>\n",
       "    </tr>\n",
       "    <tr>\n",
       "      <th>6</th>\n",
       "      <td>0.0000e+00</td>\n",
       "    </tr>\n",
       "    <tr>\n",
       "      <th>7</th>\n",
       "      <td>-2.0000e+01</td>\n",
       "    </tr>\n",
       "    <tr>\n",
       "      <th>8</th>\n",
       "      <td>1.5000e+01</td>\n",
       "    </tr>\n",
       "    <tr>\n",
       "      <th>9</th>\n",
       "      <td>0.0000e+00</td>\n",
       "    </tr>\n",
       "    <tr>\n",
       "      <th>10</th>\n",
       "      <td>0.0000e+00</td>\n",
       "    </tr>\n",
       "    <tr>\n",
       "      <th>11</th>\n",
       "      <td>0.0000e+00</td>\n",
       "    </tr>\n",
       "  </tbody>\n",
       "</table>\n",
       "</div>"
      ],
      "text/plain": [
       "             0\n",
       "0  -7.5000e+00\n",
       "1   1.3777e-15\n",
       "2  -3.7500e+00\n",
       "3  -7.5000e+00\n",
       "4  -2.0000e+01\n",
       "5  -1.1250e+01\n",
       "6   0.0000e+00\n",
       "7  -2.0000e+01\n",
       "8   1.5000e+01\n",
       "9   0.0000e+00\n",
       "10  0.0000e+00\n",
       "11  0.0000e+00"
      ]
     },
     "execution_count": 32,
     "metadata": {},
     "output_type": "execute_result"
    }
   ],
   "source": [
    "loadVector = loadVector(F1,F2,F3)\n",
    "loadVector"
   ]
  },
  {
   "cell_type": "code",
   "execution_count": 33,
   "metadata": {},
   "outputs": [],
   "source": [
    "def boundaryConditionsFilter(nodes, cond):\n",
    "    bc = np.array(nodes).flatten()\n",
    "    df = pd.DataFrame(bc)\n",
    "    return df[df[0]==cond].index.values.astype(int)\n"
   ]
  },
  {
   "cell_type": "code",
   "execution_count": 61,
   "metadata": {},
   "outputs": [
    {
     "data": {
      "text/plain": [
       "array([ 0,  1,  2,  9, 10])"
      ]
     },
     "execution_count": 61,
     "metadata": {},
     "output_type": "execute_result"
    }
   ],
   "source": [
    "x = boundaryConditionsFilter(nodes, 0)\n",
    "x"
   ]
  },
  {
   "cell_type": "markdown",
   "metadata": {},
   "source": [
    "Silový vektor po zohľadnení okrajových podmienok"
   ]
  },
  {
   "cell_type": "code",
   "execution_count": 35,
   "metadata": {},
   "outputs": [
    {
     "data": {
      "text/html": [
       "<div>\n",
       "<style scoped>\n",
       "    .dataframe tbody tr th:only-of-type {\n",
       "        vertical-align: middle;\n",
       "    }\n",
       "\n",
       "    .dataframe tbody tr th {\n",
       "        vertical-align: top;\n",
       "    }\n",
       "\n",
       "    .dataframe thead th {\n",
       "        text-align: right;\n",
       "    }\n",
       "</style>\n",
       "<table border=\"1\" class=\"dataframe\">\n",
       "  <thead>\n",
       "    <tr style=\"text-align: right;\">\n",
       "      <th></th>\n",
       "      <th>0</th>\n",
       "    </tr>\n",
       "  </thead>\n",
       "  <tbody>\n",
       "    <tr>\n",
       "      <th>3</th>\n",
       "      <td>-7.50</td>\n",
       "    </tr>\n",
       "    <tr>\n",
       "      <th>4</th>\n",
       "      <td>-20.00</td>\n",
       "    </tr>\n",
       "    <tr>\n",
       "      <th>5</th>\n",
       "      <td>-11.25</td>\n",
       "    </tr>\n",
       "    <tr>\n",
       "      <th>6</th>\n",
       "      <td>0.00</td>\n",
       "    </tr>\n",
       "    <tr>\n",
       "      <th>7</th>\n",
       "      <td>-20.00</td>\n",
       "    </tr>\n",
       "    <tr>\n",
       "      <th>8</th>\n",
       "      <td>15.00</td>\n",
       "    </tr>\n",
       "    <tr>\n",
       "      <th>11</th>\n",
       "      <td>0.00</td>\n",
       "    </tr>\n",
       "  </tbody>\n",
       "</table>\n",
       "</div>"
      ],
      "text/plain": [
       "        0\n",
       "3   -7.50\n",
       "4  -20.00\n",
       "5  -11.25\n",
       "6    0.00\n",
       "7  -20.00\n",
       "8   15.00\n",
       "11   0.00"
      ]
     },
     "execution_count": 35,
     "metadata": {},
     "output_type": "execute_result"
    }
   ],
   "source": [
    "loadVector.drop(x, inplace=True)\n",
    "loadVector"
   ]
  },
  {
   "cell_type": "markdown",
   "metadata": {},
   "source": [
    "Matica tuhosti"
   ]
  },
  {
   "cell_type": "code",
   "execution_count": 37,
   "metadata": {},
   "outputs": [],
   "source": [
    "copyModelMatrix = modelMatrix.copy()"
   ]
  },
  {
   "cell_type": "code",
   "execution_count": 38,
   "metadata": {},
   "outputs": [
    {
     "data": {
      "text/html": [
       "<div>\n",
       "<style scoped>\n",
       "    .dataframe tbody tr th:only-of-type {\n",
       "        vertical-align: middle;\n",
       "    }\n",
       "\n",
       "    .dataframe tbody tr th {\n",
       "        vertical-align: top;\n",
       "    }\n",
       "\n",
       "    .dataframe thead th {\n",
       "        text-align: right;\n",
       "    }\n",
       "</style>\n",
       "<table border=\"1\" class=\"dataframe\">\n",
       "  <thead>\n",
       "    <tr style=\"text-align: right;\">\n",
       "      <th></th>\n",
       "      <th>u[2]</th>\n",
       "      <th>v[2]</th>\n",
       "      <th>fi[2]</th>\n",
       "      <th>u[3]</th>\n",
       "      <th>v[3]</th>\n",
       "      <th>fi[3]</th>\n",
       "      <th>fi[4]</th>\n",
       "    </tr>\n",
       "  </thead>\n",
       "  <tbody>\n",
       "    <tr>\n",
       "      <th>u[2]</th>\n",
       "      <td>6.6660e+05</td>\n",
       "      <td>1.2003e-10</td>\n",
       "      <td>-9900.0</td>\n",
       "      <td>-6.6000e+05</td>\n",
       "      <td>0.0000e+00</td>\n",
       "      <td>0.0</td>\n",
       "      <td>0.0000e+00</td>\n",
       "    </tr>\n",
       "    <tr>\n",
       "      <th>v[2]</th>\n",
       "      <td>1.2003e-10</td>\n",
       "      <td>6.6660e+05</td>\n",
       "      <td>9900.0</td>\n",
       "      <td>0.0000e+00</td>\n",
       "      <td>-6.6000e+03</td>\n",
       "      <td>9900.0</td>\n",
       "      <td>0.0000e+00</td>\n",
       "    </tr>\n",
       "    <tr>\n",
       "      <th>fi[2]</th>\n",
       "      <td>-9.9000e+03</td>\n",
       "      <td>9.9000e+03</td>\n",
       "      <td>39600.0</td>\n",
       "      <td>0.0000e+00</td>\n",
       "      <td>-9.9000e+03</td>\n",
       "      <td>9900.0</td>\n",
       "      <td>0.0000e+00</td>\n",
       "    </tr>\n",
       "    <tr>\n",
       "      <th>u[3]</th>\n",
       "      <td>-6.6000e+05</td>\n",
       "      <td>0.0000e+00</td>\n",
       "      <td>0.0</td>\n",
       "      <td>6.6660e+05</td>\n",
       "      <td>4.0009e-11</td>\n",
       "      <td>-9900.0</td>\n",
       "      <td>-9.9000e+03</td>\n",
       "    </tr>\n",
       "    <tr>\n",
       "      <th>v[3]</th>\n",
       "      <td>0.0000e+00</td>\n",
       "      <td>-6.6000e+03</td>\n",
       "      <td>-9900.0</td>\n",
       "      <td>4.0009e-11</td>\n",
       "      <td>6.6660e+05</td>\n",
       "      <td>-9900.0</td>\n",
       "      <td>-1.2063e-10</td>\n",
       "    </tr>\n",
       "    <tr>\n",
       "      <th>fi[3]</th>\n",
       "      <td>0.0000e+00</td>\n",
       "      <td>9.9000e+03</td>\n",
       "      <td>9900.0</td>\n",
       "      <td>-9.9000e+03</td>\n",
       "      <td>-9.9000e+03</td>\n",
       "      <td>39600.0</td>\n",
       "      <td>9.9000e+03</td>\n",
       "    </tr>\n",
       "    <tr>\n",
       "      <th>fi[4]</th>\n",
       "      <td>0.0000e+00</td>\n",
       "      <td>0.0000e+00</td>\n",
       "      <td>0.0</td>\n",
       "      <td>-9.9000e+03</td>\n",
       "      <td>-1.2063e-10</td>\n",
       "      <td>9900.0</td>\n",
       "      <td>1.9800e+04</td>\n",
       "    </tr>\n",
       "  </tbody>\n",
       "</table>\n",
       "</div>"
      ],
      "text/plain": [
       "             u[2]        v[2]    fi[2]        u[3]        v[3]    fi[3]  \\\n",
       "u[2]   6.6660e+05  1.2003e-10  -9900.0 -6.6000e+05  0.0000e+00      0.0   \n",
       "v[2]   1.2003e-10  6.6660e+05   9900.0  0.0000e+00 -6.6000e+03   9900.0   \n",
       "fi[2] -9.9000e+03  9.9000e+03  39600.0  0.0000e+00 -9.9000e+03   9900.0   \n",
       "u[3]  -6.6000e+05  0.0000e+00      0.0  6.6660e+05  4.0009e-11  -9900.0   \n",
       "v[3]   0.0000e+00 -6.6000e+03  -9900.0  4.0009e-11  6.6660e+05  -9900.0   \n",
       "fi[3]  0.0000e+00  9.9000e+03   9900.0 -9.9000e+03 -9.9000e+03  39600.0   \n",
       "fi[4]  0.0000e+00  0.0000e+00      0.0 -9.9000e+03 -1.2063e-10   9900.0   \n",
       "\n",
       "            fi[4]  \n",
       "u[2]   0.0000e+00  \n",
       "v[2]   0.0000e+00  \n",
       "fi[2]  0.0000e+00  \n",
       "u[3]  -9.9000e+03  \n",
       "v[3]  -1.2063e-10  \n",
       "fi[3]  9.9000e+03  \n",
       "fi[4]  1.9800e+04  "
      ]
     },
     "execution_count": 38,
     "metadata": {},
     "output_type": "execute_result"
    }
   ],
   "source": [
    "copyModelMatrix.drop(x, inplace=True)\n",
    "filteredModelMatrix = copyModelMatrix[y]\n",
    "x = parseMatrixIndexes(filteredModelMatrix.copy(), [\"u[2]\", \"v[2]\", \"fi[2]\",\"u[3]\", \"v[3]\", \"fi[3]\",\"fi[4]\"])\n",
    "x"
   ]
  },
  {
   "cell_type": "markdown",
   "metadata": {},
   "source": [
    "## Deformácie"
   ]
  },
  {
   "cell_type": "markdown",
   "metadata": {},
   "source": [
    "Inverzná matica tuhosti"
   ]
  },
  {
   "cell_type": "code",
   "execution_count": 39,
   "metadata": {},
   "outputs": [
    {
     "data": {
      "text/html": [
       "<div>\n",
       "<style scoped>\n",
       "    .dataframe tbody tr th:only-of-type {\n",
       "        vertical-align: middle;\n",
       "    }\n",
       "\n",
       "    .dataframe tbody tr th {\n",
       "        vertical-align: top;\n",
       "    }\n",
       "\n",
       "    .dataframe thead th {\n",
       "        text-align: right;\n",
       "    }\n",
       "</style>\n",
       "<table border=\"1\" class=\"dataframe\">\n",
       "  <thead>\n",
       "    <tr style=\"text-align: right;\">\n",
       "      <th></th>\n",
       "      <th>3</th>\n",
       "      <th>4</th>\n",
       "      <th>5</th>\n",
       "      <th>6</th>\n",
       "      <th>7</th>\n",
       "      <th>8</th>\n",
       "      <th>11</th>\n",
       "    </tr>\n",
       "  </thead>\n",
       "  <tbody>\n",
       "    <tr>\n",
       "      <th>3</th>\n",
       "      <td>1.8004e-04</td>\n",
       "      <td>-8.2434e-07</td>\n",
       "      <td>4.1878e-05</td>\n",
       "      <td>1.7970e-04</td>\n",
       "      <td>8.2434e-07</td>\n",
       "      <td>1.4177e-05</td>\n",
       "      <td>8.2760e-05</td>\n",
       "    </tr>\n",
       "    <tr>\n",
       "      <th>4</th>\n",
       "      <td>-8.2434e-07</td>\n",
       "      <td>1.5134e-06</td>\n",
       "      <td>-4.8091e-07</td>\n",
       "      <td>-8.2537e-07</td>\n",
       "      <td>1.7172e-09</td>\n",
       "      <td>-4.1243e-07</td>\n",
       "      <td>-2.0647e-07</td>\n",
       "    </tr>\n",
       "    <tr>\n",
       "      <th>5</th>\n",
       "      <td>4.1878e-05</td>\n",
       "      <td>-4.8091e-07</td>\n",
       "      <td>3.7049e-05</td>\n",
       "      <td>4.1741e-05</td>\n",
       "      <td>4.8091e-07</td>\n",
       "      <td>-4.3477e-06</td>\n",
       "      <td>2.3044e-05</td>\n",
       "    </tr>\n",
       "    <tr>\n",
       "      <th>6</th>\n",
       "      <td>1.7970e-04</td>\n",
       "      <td>-8.2537e-07</td>\n",
       "      <td>4.1741e-05</td>\n",
       "      <td>1.8087e-04</td>\n",
       "      <td>8.2537e-07</td>\n",
       "      <td>1.4384e-05</td>\n",
       "      <td>8.3242e-05</td>\n",
       "    </tr>\n",
       "    <tr>\n",
       "      <th>7</th>\n",
       "      <td>8.2434e-07</td>\n",
       "      <td>1.7172e-09</td>\n",
       "      <td>4.8091e-07</td>\n",
       "      <td>8.2537e-07</td>\n",
       "      <td>1.5134e-06</td>\n",
       "      <td>4.1243e-07</td>\n",
       "      <td>2.0647e-07</td>\n",
       "    </tr>\n",
       "    <tr>\n",
       "      <th>8</th>\n",
       "      <td>1.4177e-05</td>\n",
       "      <td>-4.1243e-07</td>\n",
       "      <td>-4.3477e-06</td>\n",
       "      <td>1.4384e-05</td>\n",
       "      <td>4.1243e-07</td>\n",
       "      <td>3.2393e-05</td>\n",
       "      <td>-9.0044e-06</td>\n",
       "    </tr>\n",
       "    <tr>\n",
       "      <th>11</th>\n",
       "      <td>8.2760e-05</td>\n",
       "      <td>-2.0647e-07</td>\n",
       "      <td>2.3044e-05</td>\n",
       "      <td>8.3242e-05</td>\n",
       "      <td>2.0647e-07</td>\n",
       "      <td>-9.0044e-06</td>\n",
       "      <td>9.6628e-05</td>\n",
       "    </tr>\n",
       "  </tbody>\n",
       "</table>\n",
       "</div>"
      ],
      "text/plain": [
       "            3           4           5           6           7           8   \\\n",
       "3   1.8004e-04 -8.2434e-07  4.1878e-05  1.7970e-04  8.2434e-07  1.4177e-05   \n",
       "4  -8.2434e-07  1.5134e-06 -4.8091e-07 -8.2537e-07  1.7172e-09 -4.1243e-07   \n",
       "5   4.1878e-05 -4.8091e-07  3.7049e-05  4.1741e-05  4.8091e-07 -4.3477e-06   \n",
       "6   1.7970e-04 -8.2537e-07  4.1741e-05  1.8087e-04  8.2537e-07  1.4384e-05   \n",
       "7   8.2434e-07  1.7172e-09  4.8091e-07  8.2537e-07  1.5134e-06  4.1243e-07   \n",
       "8   1.4177e-05 -4.1243e-07 -4.3477e-06  1.4384e-05  4.1243e-07  3.2393e-05   \n",
       "11  8.2760e-05 -2.0647e-07  2.3044e-05  8.3242e-05  2.0647e-07 -9.0044e-06   \n",
       "\n",
       "            11  \n",
       "3   8.2760e-05  \n",
       "4  -2.0647e-07  \n",
       "5   2.3044e-05  \n",
       "6   8.3242e-05  \n",
       "7   2.0647e-07  \n",
       "8  -9.0044e-06  \n",
       "11  9.6628e-05  "
      ]
     },
     "execution_count": 39,
     "metadata": {},
     "output_type": "execute_result"
    }
   ],
   "source": [
    "inv = pd.DataFrame(np.linalg.inv(filteredModelMatrix.values), filteredModelMatrix.columns, filteredModelMatrix.index)\n",
    "inv"
   ]
  },
  {
   "cell_type": "code",
   "execution_count": 40,
   "metadata": {},
   "outputs": [
    {
     "data": {
      "text/html": [
       "<div>\n",
       "<style scoped>\n",
       "    .dataframe tbody tr th:only-of-type {\n",
       "        vertical-align: middle;\n",
       "    }\n",
       "\n",
       "    .dataframe tbody tr th {\n",
       "        vertical-align: top;\n",
       "    }\n",
       "\n",
       "    .dataframe thead th {\n",
       "        text-align: right;\n",
       "    }\n",
       "</style>\n",
       "<table border=\"1\" class=\"dataframe\">\n",
       "  <thead>\n",
       "    <tr style=\"text-align: right;\">\n",
       "      <th></th>\n",
       "      <th>0</th>\n",
       "    </tr>\n",
       "  </thead>\n",
       "  <tbody>\n",
       "    <tr>\n",
       "      <th>u[2]</th>\n",
       "      <td>1.6088e-03</td>\n",
       "    </tr>\n",
       "    <tr>\n",
       "      <th>v[2]</th>\n",
       "      <td>2.4897e-05</td>\n",
       "    </tr>\n",
       "    <tr>\n",
       "      <th>fi[2]</th>\n",
       "      <td>7.9611e-04</td>\n",
       "    </tr>\n",
       "    <tr>\n",
       "      <th>u[3]</th>\n",
       "      <td>1.6016e-03</td>\n",
       "    </tr>\n",
       "    <tr>\n",
       "      <th>v[3]</th>\n",
       "      <td>3.5709e-05</td>\n",
       "    </tr>\n",
       "    <tr>\n",
       "      <th>fi[3]</th>\n",
       "      <td>-4.2848e-04</td>\n",
       "    </tr>\n",
       "    <tr>\n",
       "      <th>fi[4]</th>\n",
       "      <td>1.0150e-03</td>\n",
       "    </tr>\n",
       "  </tbody>\n",
       "</table>\n",
       "</div>"
      ],
      "text/plain": [
       "                0\n",
       "u[2]   1.6088e-03\n",
       "v[2]   2.4897e-05\n",
       "fi[2]  7.9611e-04\n",
       "u[3]   1.6016e-03\n",
       "v[3]   3.5709e-05\n",
       "fi[3] -4.2848e-04\n",
       "fi[4]  1.0150e-03"
      ]
     },
     "execution_count": 40,
     "metadata": {},
     "output_type": "execute_result"
    }
   ],
   "source": [
    "displacements = inv.dot(loadVector)*-1\n",
    "x = parseMatrixRows(displacements.copy(), [\"u[2]\", \"v[2]\", \"fi[2]\",\"u[3]\", \"v[3]\", \"fi[3]\",\"fi[4]\"])\n",
    "x"
   ]
  },
  {
   "cell_type": "markdown",
   "metadata": {},
   "source": [
    "## Vnútorné sily"
   ]
  },
  {
   "cell_type": "markdown",
   "metadata": {},
   "source": [
    "$$F = F' + k * delta"
   ]
  },
  {
   "cell_type": "code",
   "execution_count": 41,
   "metadata": {},
   "outputs": [],
   "source": [
    "def modelDisplacements(displacements):\n",
    "     return pd.DataFrame(np.zeros((12, 1))).add(displacements, fill_value=0)"
   ]
  },
  {
   "cell_type": "markdown",
   "metadata": {},
   "source": [
    "Deformácie celého rámu"
   ]
  },
  {
   "cell_type": "code",
   "execution_count": 42,
   "metadata": {},
   "outputs": [
    {
     "data": {
      "text/html": [
       "<div>\n",
       "<style scoped>\n",
       "    .dataframe tbody tr th:only-of-type {\n",
       "        vertical-align: middle;\n",
       "    }\n",
       "\n",
       "    .dataframe tbody tr th {\n",
       "        vertical-align: top;\n",
       "    }\n",
       "\n",
       "    .dataframe thead th {\n",
       "        text-align: right;\n",
       "    }\n",
       "</style>\n",
       "<table border=\"1\" class=\"dataframe\">\n",
       "  <thead>\n",
       "    <tr style=\"text-align: right;\">\n",
       "      <th></th>\n",
       "      <th>0</th>\n",
       "    </tr>\n",
       "  </thead>\n",
       "  <tbody>\n",
       "    <tr>\n",
       "      <th>u[1]</th>\n",
       "      <td>0.0000e+00</td>\n",
       "    </tr>\n",
       "    <tr>\n",
       "      <th>v[1]</th>\n",
       "      <td>0.0000e+00</td>\n",
       "    </tr>\n",
       "    <tr>\n",
       "      <th>fi[1]</th>\n",
       "      <td>0.0000e+00</td>\n",
       "    </tr>\n",
       "    <tr>\n",
       "      <th>u[2]</th>\n",
       "      <td>1.6088e-03</td>\n",
       "    </tr>\n",
       "    <tr>\n",
       "      <th>v[2]</th>\n",
       "      <td>2.4897e-05</td>\n",
       "    </tr>\n",
       "    <tr>\n",
       "      <th>fi[2]</th>\n",
       "      <td>7.9611e-04</td>\n",
       "    </tr>\n",
       "    <tr>\n",
       "      <th>u[3]</th>\n",
       "      <td>1.6016e-03</td>\n",
       "    </tr>\n",
       "    <tr>\n",
       "      <th>v[3]</th>\n",
       "      <td>3.5709e-05</td>\n",
       "    </tr>\n",
       "    <tr>\n",
       "      <th>fi[3]</th>\n",
       "      <td>-4.2848e-04</td>\n",
       "    </tr>\n",
       "    <tr>\n",
       "      <th>u[4]</th>\n",
       "      <td>0.0000e+00</td>\n",
       "    </tr>\n",
       "    <tr>\n",
       "      <th>v[4]</th>\n",
       "      <td>0.0000e+00</td>\n",
       "    </tr>\n",
       "    <tr>\n",
       "      <th>fi[4]</th>\n",
       "      <td>1.0150e-03</td>\n",
       "    </tr>\n",
       "  </tbody>\n",
       "</table>\n",
       "</div>"
      ],
      "text/plain": [
       "                0\n",
       "u[1]   0.0000e+00\n",
       "v[1]   0.0000e+00\n",
       "fi[1]  0.0000e+00\n",
       "u[2]   1.6088e-03\n",
       "v[2]   2.4897e-05\n",
       "fi[2]  7.9611e-04\n",
       "u[3]   1.6016e-03\n",
       "v[3]   3.5709e-05\n",
       "fi[3] -4.2848e-04\n",
       "u[4]   0.0000e+00\n",
       "v[4]   0.0000e+00\n",
       "fi[4]  1.0150e-03"
      ]
     },
     "execution_count": 42,
     "metadata": {},
     "output_type": "execute_result"
    }
   ],
   "source": [
    "modelDisplacements = modelDisplacements(displacements)\n",
    "rows = [\"u[1]\", \"v[1]\", \"fi[1]\",\"u[2]\", \"v[2]\", \"fi[2]\",\"u[3]\", \"v[3]\", \"fi[3]\",\"u[4]\", \"v[4]\", \"fi[4]\"]\n",
    "x = parseMatrixRows(modelDisplacements.copy(), rows)\n",
    "x"
   ]
  },
  {
   "cell_type": "markdown",
   "metadata": {},
   "source": [
    "### Prút 1-2"
   ]
  },
  {
   "cell_type": "markdown",
   "metadata": {},
   "source": [
    "$$delta"
   ]
  },
  {
   "cell_type": "code",
   "execution_count": 43,
   "metadata": {},
   "outputs": [
    {
     "data": {
      "text/html": [
       "<div>\n",
       "<style scoped>\n",
       "    .dataframe tbody tr th:only-of-type {\n",
       "        vertical-align: middle;\n",
       "    }\n",
       "\n",
       "    .dataframe tbody tr th {\n",
       "        vertical-align: top;\n",
       "    }\n",
       "\n",
       "    .dataframe thead th {\n",
       "        text-align: right;\n",
       "    }\n",
       "</style>\n",
       "<table border=\"1\" class=\"dataframe\">\n",
       "  <thead>\n",
       "    <tr style=\"text-align: right;\">\n",
       "      <th></th>\n",
       "      <th>0</th>\n",
       "    </tr>\n",
       "  </thead>\n",
       "  <tbody>\n",
       "    <tr>\n",
       "      <th>0</th>\n",
       "      <td>0.0000e+00</td>\n",
       "    </tr>\n",
       "    <tr>\n",
       "      <th>1</th>\n",
       "      <td>0.0000e+00</td>\n",
       "    </tr>\n",
       "    <tr>\n",
       "      <th>2</th>\n",
       "      <td>0.0000e+00</td>\n",
       "    </tr>\n",
       "    <tr>\n",
       "      <th>3</th>\n",
       "      <td>1.6088e-03</td>\n",
       "    </tr>\n",
       "    <tr>\n",
       "      <th>4</th>\n",
       "      <td>2.4897e-05</td>\n",
       "    </tr>\n",
       "    <tr>\n",
       "      <th>5</th>\n",
       "      <td>7.9611e-04</td>\n",
       "    </tr>\n",
       "  </tbody>\n",
       "</table>\n",
       "</div>"
      ],
      "text/plain": [
       "            0\n",
       "0  0.0000e+00\n",
       "1  0.0000e+00\n",
       "2  0.0000e+00\n",
       "3  1.6088e-03\n",
       "4  2.4897e-05\n",
       "5  7.9611e-04"
      ]
     },
     "execution_count": 43,
     "metadata": {},
     "output_type": "execute_result"
    }
   ],
   "source": [
    "deltaBar1 = modelDisplacements.loc[0:5]\n",
    "deltaBar1"
   ]
  },
  {
   "cell_type": "markdown",
   "metadata": {},
   "source": [
    "$$ u = K*delta"
   ]
  },
  {
   "cell_type": "code",
   "execution_count": 44,
   "metadata": {},
   "outputs": [
    {
     "data": {
      "text/html": [
       "<div>\n",
       "<style scoped>\n",
       "    .dataframe tbody tr th:only-of-type {\n",
       "        vertical-align: middle;\n",
       "    }\n",
       "\n",
       "    .dataframe tbody tr th {\n",
       "        vertical-align: top;\n",
       "    }\n",
       "\n",
       "    .dataframe thead th {\n",
       "        text-align: right;\n",
       "    }\n",
       "</style>\n",
       "<table border=\"1\" class=\"dataframe\">\n",
       "  <thead>\n",
       "    <tr style=\"text-align: right;\">\n",
       "      <th></th>\n",
       "      <th>0</th>\n",
       "    </tr>\n",
       "  </thead>\n",
       "  <tbody>\n",
       "    <tr>\n",
       "      <th>0</th>\n",
       "      <td>-2.7365</td>\n",
       "    </tr>\n",
       "    <tr>\n",
       "      <th>1</th>\n",
       "      <td>-16.4318</td>\n",
       "    </tr>\n",
       "    <tr>\n",
       "      <th>2</th>\n",
       "      <td>-8.0454</td>\n",
       "    </tr>\n",
       "    <tr>\n",
       "      <th>3</th>\n",
       "      <td>2.7365</td>\n",
       "    </tr>\n",
       "    <tr>\n",
       "      <th>4</th>\n",
       "      <td>16.4318</td>\n",
       "    </tr>\n",
       "    <tr>\n",
       "      <th>5</th>\n",
       "      <td>-0.1640</td>\n",
       "    </tr>\n",
       "  </tbody>\n",
       "</table>\n",
       "</div>"
      ],
      "text/plain": [
       "         0\n",
       "0  -2.7365\n",
       "1 -16.4318\n",
       "2  -8.0454\n",
       "3   2.7365\n",
       "4  16.4318\n",
       "5  -0.1640"
      ]
     },
     "execution_count": 44,
     "metadata": {},
     "output_type": "execute_result"
    }
   ],
   "source": [
    "u = k1.dot(deltaBar1)\n",
    "u"
   ]
  },
  {
   "cell_type": "markdown",
   "metadata": {},
   "source": [
    "Vnútorné sily v bode 1"
   ]
  },
  {
   "cell_type": "code",
   "execution_count": 45,
   "metadata": {},
   "outputs": [
    {
     "data": {
      "text/html": [
       "<div>\n",
       "<style scoped>\n",
       "    .dataframe tbody tr th:only-of-type {\n",
       "        vertical-align: middle;\n",
       "    }\n",
       "\n",
       "    .dataframe tbody tr th {\n",
       "        vertical-align: top;\n",
       "    }\n",
       "\n",
       "    .dataframe thead th {\n",
       "        text-align: right;\n",
       "    }\n",
       "</style>\n",
       "<table border=\"1\" class=\"dataframe\">\n",
       "  <thead>\n",
       "    <tr style=\"text-align: right;\">\n",
       "      <th></th>\n",
       "      <th>0</th>\n",
       "    </tr>\n",
       "  </thead>\n",
       "  <tbody>\n",
       "    <tr>\n",
       "      <th>N</th>\n",
       "      <td>-16.4318</td>\n",
       "    </tr>\n",
       "    <tr>\n",
       "      <th>V</th>\n",
       "      <td>10.2365</td>\n",
       "    </tr>\n",
       "    <tr>\n",
       "      <th>M</th>\n",
       "      <td>-11.7954</td>\n",
       "    </tr>\n",
       "  </tbody>\n",
       "</table>\n",
       "</div>"
      ],
      "text/plain": [
       "         0\n",
       "N -16.4318\n",
       "V  10.2365\n",
       "M -11.7954"
      ]
     },
     "execution_count": 45,
     "metadata": {},
     "output_type": "execute_result"
    }
   ],
   "source": [
    "local = u.loc[0:2]+F12_g\n",
    "F = A0_1.T.dot(local)\n",
    "parseMatrixRows(F, [\"N\",\"V\",\"M\"])"
   ]
  },
  {
   "cell_type": "markdown",
   "metadata": {},
   "source": [
    "Vnutorne sily v bode 2"
   ]
  },
  {
   "cell_type": "code",
   "execution_count": 46,
   "metadata": {},
   "outputs": [
    {
     "data": {
      "text/html": [
       "<div>\n",
       "<style scoped>\n",
       "    .dataframe tbody tr th:only-of-type {\n",
       "        vertical-align: middle;\n",
       "    }\n",
       "\n",
       "    .dataframe tbody tr th {\n",
       "        vertical-align: top;\n",
       "    }\n",
       "\n",
       "    .dataframe thead th {\n",
       "        text-align: right;\n",
       "    }\n",
       "</style>\n",
       "<table border=\"1\" class=\"dataframe\">\n",
       "  <thead>\n",
       "    <tr style=\"text-align: right;\">\n",
       "      <th></th>\n",
       "      <th>3</th>\n",
       "      <th>4</th>\n",
       "      <th>5</th>\n",
       "    </tr>\n",
       "  </thead>\n",
       "  <tbody>\n",
       "    <tr>\n",
       "      <th>3</th>\n",
       "      <td>-1.8370e-16</td>\n",
       "      <td>-1.0000e+00</td>\n",
       "      <td>0</td>\n",
       "    </tr>\n",
       "    <tr>\n",
       "      <th>4</th>\n",
       "      <td>1.0000e+00</td>\n",
       "      <td>-1.8370e-16</td>\n",
       "      <td>0</td>\n",
       "    </tr>\n",
       "    <tr>\n",
       "      <th>5</th>\n",
       "      <td>0.0000e+00</td>\n",
       "      <td>0.0000e+00</td>\n",
       "      <td>1</td>\n",
       "    </tr>\n",
       "  </tbody>\n",
       "</table>\n",
       "</div>"
      ],
      "text/plain": [
       "            3           4  5\n",
       "3 -1.8370e-16 -1.0000e+00  0\n",
       "4  1.0000e+00 -1.8370e-16  0\n",
       "5  0.0000e+00  0.0000e+00  1"
      ]
     },
     "execution_count": 46,
     "metadata": {},
     "output_type": "execute_result"
    }
   ],
   "source": [
    "A0_1 = parseMatrixIndexes(A0_1, [3,4,5])\n",
    "A0_1"
   ]
  },
  {
   "cell_type": "code",
   "execution_count": 47,
   "metadata": {},
   "outputs": [
    {
     "data": {
      "text/html": [
       "<div>\n",
       "<style scoped>\n",
       "    .dataframe tbody tr th:only-of-type {\n",
       "        vertical-align: middle;\n",
       "    }\n",
       "\n",
       "    .dataframe tbody tr th {\n",
       "        vertical-align: top;\n",
       "    }\n",
       "\n",
       "    .dataframe thead th {\n",
       "        text-align: right;\n",
       "    }\n",
       "</style>\n",
       "<table border=\"1\" class=\"dataframe\">\n",
       "  <thead>\n",
       "    <tr style=\"text-align: right;\">\n",
       "      <th></th>\n",
       "      <th>0</th>\n",
       "    </tr>\n",
       "  </thead>\n",
       "  <tbody>\n",
       "    <tr>\n",
       "      <th>3</th>\n",
       "      <td>-7.5000e+00</td>\n",
       "    </tr>\n",
       "    <tr>\n",
       "      <th>4</th>\n",
       "      <td>1.3777e-15</td>\n",
       "    </tr>\n",
       "    <tr>\n",
       "      <th>5</th>\n",
       "      <td>3.7500e+00</td>\n",
       "    </tr>\n",
       "  </tbody>\n",
       "</table>\n",
       "</div>"
      ],
      "text/plain": [
       "            0\n",
       "3 -7.5000e+00\n",
       "4  1.3777e-15\n",
       "5  3.7500e+00"
      ]
     },
     "execution_count": 47,
     "metadata": {},
     "output_type": "execute_result"
    }
   ],
   "source": [
    "F21_g = parseMatrixRows(F21_g, [3,4,5])\n",
    "F21_g"
   ]
  },
  {
   "cell_type": "code",
   "execution_count": 48,
   "metadata": {},
   "outputs": [
    {
     "data": {
      "text/html": [
       "<div>\n",
       "<style scoped>\n",
       "    .dataframe tbody tr th:only-of-type {\n",
       "        vertical-align: middle;\n",
       "    }\n",
       "\n",
       "    .dataframe tbody tr th {\n",
       "        vertical-align: top;\n",
       "    }\n",
       "\n",
       "    .dataframe thead th {\n",
       "        text-align: right;\n",
       "    }\n",
       "</style>\n",
       "<table border=\"1\" class=\"dataframe\">\n",
       "  <thead>\n",
       "    <tr style=\"text-align: right;\">\n",
       "      <th></th>\n",
       "      <th>0</th>\n",
       "    </tr>\n",
       "  </thead>\n",
       "  <tbody>\n",
       "    <tr>\n",
       "      <th>N</th>\n",
       "      <td>-16.4318</td>\n",
       "    </tr>\n",
       "    <tr>\n",
       "      <th>V</th>\n",
       "      <td>-4.7635</td>\n",
       "    </tr>\n",
       "    <tr>\n",
       "      <th>M</th>\n",
       "      <td>3.5860</td>\n",
       "    </tr>\n",
       "  </tbody>\n",
       "</table>\n",
       "</div>"
      ],
      "text/plain": [
       "         0\n",
       "N -16.4318\n",
       "V  -4.7635\n",
       "M   3.5860"
      ]
     },
     "execution_count": 48,
     "metadata": {},
     "output_type": "execute_result"
    }
   ],
   "source": [
    "local = u.loc[3:5]+F21_g\n",
    "F = A0_1.dot(local)\n",
    "parseMatrixRows(F, [\"N\",\"V\",\"M\"])"
   ]
  },
  {
   "cell_type": "markdown",
   "metadata": {},
   "source": [
    "### Prút 2-3"
   ]
  },
  {
   "cell_type": "code",
   "execution_count": 49,
   "metadata": {},
   "outputs": [
    {
     "data": {
      "text/html": [
       "<div>\n",
       "<style scoped>\n",
       "    .dataframe tbody tr th:only-of-type {\n",
       "        vertical-align: middle;\n",
       "    }\n",
       "\n",
       "    .dataframe tbody tr th {\n",
       "        vertical-align: top;\n",
       "    }\n",
       "\n",
       "    .dataframe thead th {\n",
       "        text-align: right;\n",
       "    }\n",
       "</style>\n",
       "<table border=\"1\" class=\"dataframe\">\n",
       "  <thead>\n",
       "    <tr style=\"text-align: right;\">\n",
       "      <th></th>\n",
       "      <th>0</th>\n",
       "    </tr>\n",
       "  </thead>\n",
       "  <tbody>\n",
       "    <tr>\n",
       "      <th>3</th>\n",
       "      <td>1.6088e-03</td>\n",
       "    </tr>\n",
       "    <tr>\n",
       "      <th>4</th>\n",
       "      <td>2.4897e-05</td>\n",
       "    </tr>\n",
       "    <tr>\n",
       "      <th>5</th>\n",
       "      <td>7.9611e-04</td>\n",
       "    </tr>\n",
       "    <tr>\n",
       "      <th>6</th>\n",
       "      <td>1.6016e-03</td>\n",
       "    </tr>\n",
       "    <tr>\n",
       "      <th>7</th>\n",
       "      <td>3.5709e-05</td>\n",
       "    </tr>\n",
       "    <tr>\n",
       "      <th>8</th>\n",
       "      <td>-4.2848e-04</td>\n",
       "    </tr>\n",
       "  </tbody>\n",
       "</table>\n",
       "</div>"
      ],
      "text/plain": [
       "            0\n",
       "3  1.6088e-03\n",
       "4  2.4897e-05\n",
       "5  7.9611e-04\n",
       "6  1.6016e-03\n",
       "7  3.5709e-05\n",
       "8 -4.2848e-04"
      ]
     },
     "execution_count": 49,
     "metadata": {},
     "output_type": "execute_result"
    }
   ],
   "source": [
    "deltaBar2= modelDisplacements.loc[3:8]\n",
    "deltaBar2"
   ]
  },
  {
   "cell_type": "code",
   "execution_count": 50,
   "metadata": {},
   "outputs": [
    {
     "data": {
      "text/html": [
       "<div>\n",
       "<style scoped>\n",
       "    .dataframe tbody tr th:only-of-type {\n",
       "        vertical-align: middle;\n",
       "    }\n",
       "\n",
       "    .dataframe tbody tr th {\n",
       "        vertical-align: top;\n",
       "    }\n",
       "\n",
       "    .dataframe thead th {\n",
       "        text-align: right;\n",
       "    }\n",
       "</style>\n",
       "<table border=\"1\" class=\"dataframe\">\n",
       "  <thead>\n",
       "    <tr style=\"text-align: right;\">\n",
       "      <th></th>\n",
       "      <th>0</th>\n",
       "    </tr>\n",
       "  </thead>\n",
       "  <tbody>\n",
       "    <tr>\n",
       "      <th>3</th>\n",
       "      <td>4.7635</td>\n",
       "    </tr>\n",
       "    <tr>\n",
       "      <th>4</th>\n",
       "      <td>3.5682</td>\n",
       "    </tr>\n",
       "    <tr>\n",
       "      <th>5</th>\n",
       "      <td>11.4140</td>\n",
       "    </tr>\n",
       "    <tr>\n",
       "      <th>6</th>\n",
       "      <td>-4.7635</td>\n",
       "    </tr>\n",
       "    <tr>\n",
       "      <th>7</th>\n",
       "      <td>-3.5682</td>\n",
       "    </tr>\n",
       "    <tr>\n",
       "      <th>8</th>\n",
       "      <td>-0.7094</td>\n",
       "    </tr>\n",
       "  </tbody>\n",
       "</table>\n",
       "</div>"
      ],
      "text/plain": [
       "         0\n",
       "3   4.7635\n",
       "4   3.5682\n",
       "5  11.4140\n",
       "6  -4.7635\n",
       "7  -3.5682\n",
       "8  -0.7094"
      ]
     },
     "execution_count": 50,
     "metadata": {},
     "output_type": "execute_result"
    }
   ],
   "source": [
    "u = k2.dot(deltaBar2)\n",
    "u"
   ]
  },
  {
   "cell_type": "markdown",
   "metadata": {},
   "source": [
    "Vnútorné sily v bode 2"
   ]
  },
  {
   "cell_type": "code",
   "execution_count": 51,
   "metadata": {},
   "outputs": [],
   "source": [
    "A0_2 = parseMatrixIndexes(A0_2, [3,4,5])\n",
    "F23_g = parseMatrixRows(F23_g, [3,4,5])"
   ]
  },
  {
   "cell_type": "code",
   "execution_count": 52,
   "metadata": {},
   "outputs": [
    {
     "data": {
      "text/html": [
       "<div>\n",
       "<style scoped>\n",
       "    .dataframe tbody tr th:only-of-type {\n",
       "        vertical-align: middle;\n",
       "    }\n",
       "\n",
       "    .dataframe tbody tr th {\n",
       "        vertical-align: top;\n",
       "    }\n",
       "\n",
       "    .dataframe thead th {\n",
       "        text-align: right;\n",
       "    }\n",
       "</style>\n",
       "<table border=\"1\" class=\"dataframe\">\n",
       "  <thead>\n",
       "    <tr style=\"text-align: right;\">\n",
       "      <th></th>\n",
       "      <th>0</th>\n",
       "    </tr>\n",
       "  </thead>\n",
       "  <tbody>\n",
       "    <tr>\n",
       "      <th>N</th>\n",
       "      <td>4.7635</td>\n",
       "    </tr>\n",
       "    <tr>\n",
       "      <th>V</th>\n",
       "      <td>-16.4318</td>\n",
       "    </tr>\n",
       "    <tr>\n",
       "      <th>M</th>\n",
       "      <td>-3.5860</td>\n",
       "    </tr>\n",
       "  </tbody>\n",
       "</table>\n",
       "</div>"
      ],
      "text/plain": [
       "         0\n",
       "N   4.7635\n",
       "V -16.4318\n",
       "M  -3.5860"
      ]
     },
     "execution_count": 52,
     "metadata": {},
     "output_type": "execute_result"
    }
   ],
   "source": [
    "local = u.loc[3:5]+F23_g\n",
    "F = A0_2.T.dot(local)\n",
    "parseMatrixRows(F, [\"N\",\"V\",\"M\"])"
   ]
  },
  {
   "cell_type": "markdown",
   "metadata": {},
   "source": [
    "Vnútorné sily v bode 3"
   ]
  },
  {
   "cell_type": "code",
   "execution_count": 53,
   "metadata": {},
   "outputs": [],
   "source": [
    "F32_g = parseMatrixRows(F32_g, [6,7,8])\n",
    "A0_2 = parseMatrixIndexes(A0_2, [6,7,8])"
   ]
  },
  {
   "cell_type": "code",
   "execution_count": 54,
   "metadata": {},
   "outputs": [
    {
     "data": {
      "text/html": [
       "<div>\n",
       "<style scoped>\n",
       "    .dataframe tbody tr th:only-of-type {\n",
       "        vertical-align: middle;\n",
       "    }\n",
       "\n",
       "    .dataframe tbody tr th {\n",
       "        vertical-align: top;\n",
       "    }\n",
       "\n",
       "    .dataframe thead th {\n",
       "        text-align: right;\n",
       "    }\n",
       "</style>\n",
       "<table border=\"1\" class=\"dataframe\">\n",
       "  <thead>\n",
       "    <tr style=\"text-align: right;\">\n",
       "      <th></th>\n",
       "      <th>0</th>\n",
       "    </tr>\n",
       "  </thead>\n",
       "  <tbody>\n",
       "    <tr>\n",
       "      <th>N</th>\n",
       "      <td>-4.7635</td>\n",
       "    </tr>\n",
       "    <tr>\n",
       "      <th>V</th>\n",
       "      <td>-23.5682</td>\n",
       "    </tr>\n",
       "    <tr>\n",
       "      <th>M</th>\n",
       "      <td>14.2906</td>\n",
       "    </tr>\n",
       "  </tbody>\n",
       "</table>\n",
       "</div>"
      ],
      "text/plain": [
       "         0\n",
       "N  -4.7635\n",
       "V -23.5682\n",
       "M  14.2906"
      ]
     },
     "execution_count": 54,
     "metadata": {},
     "output_type": "execute_result"
    }
   ],
   "source": [
    "local = u.loc[6:8]+F32_g\n",
    "F = A0_2.dot(local)\n",
    "parseMatrixRows(F, [\"N\",\"V\",\"M\"])"
   ]
  },
  {
   "cell_type": "markdown",
   "metadata": {},
   "source": [
    "### Prút 3-4"
   ]
  },
  {
   "cell_type": "code",
   "execution_count": 55,
   "metadata": {},
   "outputs": [
    {
     "data": {
      "text/html": [
       "<div>\n",
       "<style scoped>\n",
       "    .dataframe tbody tr th:only-of-type {\n",
       "        vertical-align: middle;\n",
       "    }\n",
       "\n",
       "    .dataframe tbody tr th {\n",
       "        vertical-align: top;\n",
       "    }\n",
       "\n",
       "    .dataframe thead th {\n",
       "        text-align: right;\n",
       "    }\n",
       "</style>\n",
       "<table border=\"1\" class=\"dataframe\">\n",
       "  <thead>\n",
       "    <tr style=\"text-align: right;\">\n",
       "      <th></th>\n",
       "      <th>0</th>\n",
       "    </tr>\n",
       "  </thead>\n",
       "  <tbody>\n",
       "    <tr>\n",
       "      <th>6</th>\n",
       "      <td>1.6016e-03</td>\n",
       "    </tr>\n",
       "    <tr>\n",
       "      <th>7</th>\n",
       "      <td>3.5709e-05</td>\n",
       "    </tr>\n",
       "    <tr>\n",
       "      <th>8</th>\n",
       "      <td>-4.2848e-04</td>\n",
       "    </tr>\n",
       "    <tr>\n",
       "      <th>9</th>\n",
       "      <td>0.0000e+00</td>\n",
       "    </tr>\n",
       "    <tr>\n",
       "      <th>10</th>\n",
       "      <td>0.0000e+00</td>\n",
       "    </tr>\n",
       "    <tr>\n",
       "      <th>11</th>\n",
       "      <td>1.0150e-03</td>\n",
       "    </tr>\n",
       "  </tbody>\n",
       "</table>\n",
       "</div>"
      ],
      "text/plain": [
       "             0\n",
       "6   1.6016e-03\n",
       "7   3.5709e-05\n",
       "8  -4.2848e-04\n",
       "9   0.0000e+00\n",
       "10  0.0000e+00\n",
       "11  1.0150e-03"
      ]
     },
     "execution_count": 55,
     "metadata": {},
     "output_type": "execute_result"
    }
   ],
   "source": [
    "deltaBar3= modelDisplacements.loc[6:11]\n",
    "deltaBar3"
   ]
  },
  {
   "cell_type": "code",
   "execution_count": 56,
   "metadata": {},
   "outputs": [
    {
     "data": {
      "text/html": [
       "<div>\n",
       "<style scoped>\n",
       "    .dataframe tbody tr th:only-of-type {\n",
       "        vertical-align: middle;\n",
       "    }\n",
       "\n",
       "    .dataframe tbody tr th {\n",
       "        vertical-align: top;\n",
       "    }\n",
       "\n",
       "    .dataframe thead th {\n",
       "        text-align: right;\n",
       "    }\n",
       "</style>\n",
       "<table border=\"1\" class=\"dataframe\">\n",
       "  <thead>\n",
       "    <tr style=\"text-align: right;\">\n",
       "      <th></th>\n",
       "      <th>0</th>\n",
       "    </tr>\n",
       "  </thead>\n",
       "  <tbody>\n",
       "    <tr>\n",
       "      <th>6</th>\n",
       "      <td>4.7635e+00</td>\n",
       "    </tr>\n",
       "    <tr>\n",
       "      <th>7</th>\n",
       "      <td>2.3568e+01</td>\n",
       "    </tr>\n",
       "    <tr>\n",
       "      <th>8</th>\n",
       "      <td>-1.4291e+01</td>\n",
       "    </tr>\n",
       "    <tr>\n",
       "      <th>9</th>\n",
       "      <td>-4.7635e+00</td>\n",
       "    </tr>\n",
       "    <tr>\n",
       "      <th>10</th>\n",
       "      <td>-2.3568e+01</td>\n",
       "    </tr>\n",
       "    <tr>\n",
       "      <th>11</th>\n",
       "      <td>8.1420e-16</td>\n",
       "    </tr>\n",
       "  </tbody>\n",
       "</table>\n",
       "</div>"
      ],
      "text/plain": [
       "             0\n",
       "6   4.7635e+00\n",
       "7   2.3568e+01\n",
       "8  -1.4291e+01\n",
       "9  -4.7635e+00\n",
       "10 -2.3568e+01\n",
       "11  8.1420e-16"
      ]
     },
     "execution_count": 56,
     "metadata": {},
     "output_type": "execute_result"
    }
   ],
   "source": [
    "u = k3.dot(deltaBar3)\n",
    "u"
   ]
  },
  {
   "cell_type": "markdown",
   "metadata": {},
   "source": [
    "Vnútorné sily v bode 3"
   ]
  },
  {
   "cell_type": "code",
   "execution_count": 57,
   "metadata": {},
   "outputs": [],
   "source": [
    "A0_3 = parseMatrixIndexes(A0_3, [6,7,8])\n",
    "F34_g = parseMatrixRows(F34_g, [6,7,8])"
   ]
  },
  {
   "cell_type": "code",
   "execution_count": 58,
   "metadata": {},
   "outputs": [
    {
     "data": {
      "text/html": [
       "<div>\n",
       "<style scoped>\n",
       "    .dataframe tbody tr th:only-of-type {\n",
       "        vertical-align: middle;\n",
       "    }\n",
       "\n",
       "    .dataframe tbody tr th {\n",
       "        vertical-align: top;\n",
       "    }\n",
       "\n",
       "    .dataframe thead th {\n",
       "        text-align: right;\n",
       "    }\n",
       "</style>\n",
       "<table border=\"1\" class=\"dataframe\">\n",
       "  <thead>\n",
       "    <tr style=\"text-align: right;\">\n",
       "      <th></th>\n",
       "      <th>0</th>\n",
       "    </tr>\n",
       "  </thead>\n",
       "  <tbody>\n",
       "    <tr>\n",
       "      <th>N</th>\n",
       "      <td>-23.5682</td>\n",
       "    </tr>\n",
       "    <tr>\n",
       "      <th>V</th>\n",
       "      <td>4.7635</td>\n",
       "    </tr>\n",
       "    <tr>\n",
       "      <th>M</th>\n",
       "      <td>-14.2906</td>\n",
       "    </tr>\n",
       "  </tbody>\n",
       "</table>\n",
       "</div>"
      ],
      "text/plain": [
       "         0\n",
       "N -23.5682\n",
       "V   4.7635\n",
       "M -14.2906"
      ]
     },
     "execution_count": 58,
     "metadata": {},
     "output_type": "execute_result"
    }
   ],
   "source": [
    "local = u.loc[6:8]+F34_g\n",
    "F = A0_3.T.dot(local)\n",
    "parseMatrixRows(F, [\"N\",\"V\",\"M\"])"
   ]
  },
  {
   "cell_type": "markdown",
   "metadata": {},
   "source": [
    "Vnútorné sily v bode 4"
   ]
  },
  {
   "cell_type": "code",
   "execution_count": 59,
   "metadata": {},
   "outputs": [],
   "source": [
    "F43_g = parseMatrixRows(F43_g, [9,10,11])\n",
    "A0_3 = parseMatrixIndexes(A0_3, [9,10,11])"
   ]
  },
  {
   "cell_type": "code",
   "execution_count": 60,
   "metadata": {},
   "outputs": [
    {
     "data": {
      "text/html": [
       "<div>\n",
       "<style scoped>\n",
       "    .dataframe tbody tr th:only-of-type {\n",
       "        vertical-align: middle;\n",
       "    }\n",
       "\n",
       "    .dataframe tbody tr th {\n",
       "        vertical-align: top;\n",
       "    }\n",
       "\n",
       "    .dataframe thead th {\n",
       "        text-align: right;\n",
       "    }\n",
       "</style>\n",
       "<table border=\"1\" class=\"dataframe\">\n",
       "  <thead>\n",
       "    <tr style=\"text-align: right;\">\n",
       "      <th></th>\n",
       "      <th>0</th>\n",
       "    </tr>\n",
       "  </thead>\n",
       "  <tbody>\n",
       "    <tr>\n",
       "      <th>N</th>\n",
       "      <td>-2.3568e+01</td>\n",
       "    </tr>\n",
       "    <tr>\n",
       "      <th>V</th>\n",
       "      <td>4.7635e+00</td>\n",
       "    </tr>\n",
       "    <tr>\n",
       "      <th>M</th>\n",
       "      <td>8.1420e-16</td>\n",
       "    </tr>\n",
       "  </tbody>\n",
       "</table>\n",
       "</div>"
      ],
      "text/plain": [
       "            0\n",
       "N -2.3568e+01\n",
       "V  4.7635e+00\n",
       "M  8.1420e-16"
      ]
     },
     "execution_count": 60,
     "metadata": {},
     "output_type": "execute_result"
    }
   ],
   "source": [
    "local = u.loc[9:11]+F43_g\n",
    "F = A0_3.dot(local)\n",
    "parseMatrixRows(F, [\"N\",\"V\",\"M\"])"
   ]
  },
  {
   "cell_type": "code",
   "execution_count": null,
   "metadata": {},
   "outputs": [],
   "source": []
  }
 ],
 "metadata": {
  "kernelspec": {
   "display_name": "Python 3.8.8 ('base')",
   "language": "python",
   "name": "python3"
  },
  "language_info": {
   "codemirror_mode": {
    "name": "ipython",
    "version": 3
   },
   "file_extension": ".py",
   "mimetype": "text/x-python",
   "name": "python",
   "nbconvert_exporter": "python",
   "pygments_lexer": "ipython3",
   "version": "3.8.8"
  },
  "orig_nbformat": 4,
  "vscode": {
   "interpreter": {
    "hash": "75918162d800b4b0afe9003a3a21e108f30b56a8709e9e92681416565459cfc0"
   }
  }
 },
 "nbformat": 4,
 "nbformat_minor": 2
}
