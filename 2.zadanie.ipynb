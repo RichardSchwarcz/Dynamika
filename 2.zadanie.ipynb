{
 "cells": [
  {
   "cell_type": "code",
   "execution_count": 5,
   "metadata": {},
   "outputs": [],
   "source": [
    "import numpy as np\n",
    "import pandas as pd\n",
    "import matplotlib\n",
    "pd.set_option(\"display.precision\", 4)\n",
    "\n",
    "from internalForces import BendingMoment, ShearForce\n",
    "from loadMatrix import LoadMatrix\n",
    "from memberStiffnessMatrix import MemberStiffnessMatrix\n",
    "from transformationMatrices import rotationMatrix, transmissionMatrix\n",
    "from elasticModulus import elasticModulus\n",
    "from momentOfInertia import momentOfInertia"
   ]
  },
  {
   "cell_type": "code",
   "execution_count": 6,
   "metadata": {},
   "outputs": [],
   "source": [
    "def parseMatrixRows(matrix, indexes):\n",
    "    index = {}\n",
    "    for i in indexes:\n",
    "        index.update({indexes.index(i): i})\n",
    "    newMatrix = matrix.reset_index(drop=True).rename(index=index)"
   ]
  },
  {
   "cell_type": "code",
   "execution_count": 7,
   "metadata": {},
   "outputs": [],
   "source": [
    "def parseMatrixColumns(matrix,i):\n",
    "    matrix.columns = i\n",
    "    return matrix"
   ]
  },
  {
   "cell_type": "code",
   "execution_count": 8,
   "metadata": {},
   "outputs": [],
   "source": [
    "def parseMatrixIndexes(matrix, i):\n",
    "    x = parseMatrixColumns(matrix,i)\n",
    "    return parseMatrixRows(x,i)"
   ]
  },
  {
   "cell_type": "markdown",
   "metadata": {},
   "source": [
    "## Vstupy"
   ]
  },
  {
   "cell_type": "code",
   "execution_count": 9,
   "metadata": {},
   "outputs": [
    {
     "name": "stdout",
     "output_type": "stream",
     "text": [
      "E =  33000000.0 kPa\n",
      "I =  0.00044999999999999993 m-4\n",
      "A =  0.06 m2\n"
     ]
    }
   ],
   "source": [
    "# Section properties\n",
    "width = 200 #mm\n",
    "height = 300 #mm\n",
    "concrete = \"C30/37\"\n",
    "# -------------------------\n",
    "E = elasticModulus(concrete)\n",
    "I = momentOfInertia(width, height)\n",
    "AREA = width*height*10**-6\n",
    "print(\"E = \", E, \"kPa\")\n",
    "print(\"I = \", I, \"m-4\")\n",
    "print(\"A = \", AREA, \"m2\")"
   ]
  },
  {
   "cell_type": "code",
   "execution_count": 11,
   "metadata": {},
   "outputs": [],
   "source": [
    "# lengths\n",
    "A = 3 #m\n",
    "B = 3 #m\n",
    "C = 3 #m\n",
    "\n",
    "# loads\n",
    "F = 40 #kN\n",
    "Q = 5 #kN/m\n",
    "T = 40 #kN"
   ]
  },
  {
   "cell_type": "markdown",
   "metadata": {},
   "source": [
    "## Vzorové riešenie na prúte 1-2"
   ]
  },
  {
   "cell_type": "code",
   "execution_count": 12,
   "metadata": {},
   "outputs": [
    {
     "data": {
      "text/html": [
       "<div>\n",
       "<style scoped>\n",
       "    .dataframe tbody tr th:only-of-type {\n",
       "        vertical-align: middle;\n",
       "    }\n",
       "\n",
       "    .dataframe tbody tr th {\n",
       "        vertical-align: top;\n",
       "    }\n",
       "\n",
       "    .dataframe thead th {\n",
       "        text-align: right;\n",
       "    }\n",
       "</style>\n",
       "<table border=\"1\" class=\"dataframe\">\n",
       "  <thead>\n",
       "    <tr style=\"text-align: right;\">\n",
       "      <th></th>\n",
       "      <th>0</th>\n",
       "      <th>1</th>\n",
       "      <th>2</th>\n",
       "    </tr>\n",
       "  </thead>\n",
       "  <tbody>\n",
       "    <tr>\n",
       "      <th>0</th>\n",
       "      <td>660000.0</td>\n",
       "      <td>0.0</td>\n",
       "      <td>0.0</td>\n",
       "    </tr>\n",
       "    <tr>\n",
       "      <th>1</th>\n",
       "      <td>0.0</td>\n",
       "      <td>6600.0</td>\n",
       "      <td>9900.0</td>\n",
       "    </tr>\n",
       "    <tr>\n",
       "      <th>2</th>\n",
       "      <td>0.0</td>\n",
       "      <td>9900.0</td>\n",
       "      <td>19800.0</td>\n",
       "    </tr>\n",
       "  </tbody>\n",
       "</table>\n",
       "</div>"
      ],
      "text/plain": [
       "          0       1        2\n",
       "0  660000.0     0.0      0.0\n",
       "1       0.0  6600.0   9900.0\n",
       "2       0.0  9900.0  19800.0"
      ]
     },
     "execution_count": 12,
     "metadata": {},
     "output_type": "execute_result"
    }
   ],
   "source": [
    "k12 = MemberStiffnessMatrix.localMember(C,AREA,E,I)\n",
    "k12"
   ]
  },
  {
   "cell_type": "code",
   "execution_count": 13,
   "metadata": {},
   "outputs": [
    {
     "data": {
      "text/html": [
       "<div>\n",
       "<style scoped>\n",
       "    .dataframe tbody tr th:only-of-type {\n",
       "        vertical-align: middle;\n",
       "    }\n",
       "\n",
       "    .dataframe tbody tr th {\n",
       "        vertical-align: top;\n",
       "    }\n",
       "\n",
       "    .dataframe thead th {\n",
       "        text-align: right;\n",
       "    }\n",
       "</style>\n",
       "<table border=\"1\" class=\"dataframe\">\n",
       "  <thead>\n",
       "    <tr style=\"text-align: right;\">\n",
       "      <th></th>\n",
       "      <th>0</th>\n",
       "      <th>1</th>\n",
       "      <th>2</th>\n",
       "    </tr>\n",
       "  </thead>\n",
       "  <tbody>\n",
       "    <tr>\n",
       "      <th>0</th>\n",
       "      <td>-1.8370e-16</td>\n",
       "      <td>-1.0000e+00</td>\n",
       "      <td>0</td>\n",
       "    </tr>\n",
       "    <tr>\n",
       "      <th>1</th>\n",
       "      <td>1.0000e+00</td>\n",
       "      <td>-1.8370e-16</td>\n",
       "      <td>0</td>\n",
       "    </tr>\n",
       "    <tr>\n",
       "      <th>2</th>\n",
       "      <td>0.0000e+00</td>\n",
       "      <td>0.0000e+00</td>\n",
       "      <td>1</td>\n",
       "    </tr>\n",
       "  </tbody>\n",
       "</table>\n",
       "</div>"
      ],
      "text/plain": [
       "            0           1  2\n",
       "0 -1.8370e-16 -1.0000e+00  0\n",
       "1  1.0000e+00 -1.8370e-16  0\n",
       "2  0.0000e+00  0.0000e+00  1"
      ]
     },
     "execution_count": 13,
     "metadata": {},
     "output_type": "execute_result"
    }
   ],
   "source": [
    "alfa = 270 #deg\n",
    "A0_1 = rotationMatrix(alfa)\n",
    "A0_1"
   ]
  },
  {
   "cell_type": "code",
   "execution_count": null,
   "metadata": {},
   "outputs": [],
   "source": []
  }
 ],
 "metadata": {
  "kernelspec": {
   "display_name": "Python 3.8.8 ('base')",
   "language": "python",
   "name": "python3"
  },
  "language_info": {
   "codemirror_mode": {
    "name": "ipython",
    "version": 3
   },
   "file_extension": ".py",
   "mimetype": "text/x-python",
   "name": "python",
   "nbconvert_exporter": "python",
   "pygments_lexer": "ipython3",
   "version": "3.8.8"
  },
  "orig_nbformat": 4,
  "vscode": {
   "interpreter": {
    "hash": "75918162d800b4b0afe9003a3a21e108f30b56a8709e9e92681416565459cfc0"
   }
  }
 },
 "nbformat": 4,
 "nbformat_minor": 2
}
