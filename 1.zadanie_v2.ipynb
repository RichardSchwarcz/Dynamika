{
 "cells": [
  {
   "cell_type": "code",
   "execution_count": 1,
   "metadata": {},
   "outputs": [],
   "source": [
    "import numpy as np\n",
    "import pandas as pd\n",
    "from matplotlib import pyplot as plt\n",
    "# pd.set_option(\"display.precision\", 4)\n",
    "\n",
    "from modules.parseMatrix import parseMatrixRows, parseMatrixColumns, parseMatrixIndexes\n",
    "\n",
    "from modules.model import BarProps, Point, Bar\n",
    "from modules.matrices import BarStiffnessMatrix, TransformationMatrix, LoadMatrix\n",
    "from modules.internalForces import *"
   ]
  },
  {
   "cell_type": "markdown",
   "metadata": {},
   "source": [
    "## Vstupy"
   ]
  },
  {
   "cell_type": "code",
   "execution_count": 2,
   "metadata": {},
   "outputs": [
    {
     "name": "stdout",
     "output_type": "stream",
     "text": [
      "E =  33000000.0 kPa\n",
      "I =  0.00044999999999999993 m-4\n",
      "A =  0.06 m2\n"
     ]
    }
   ],
   "source": [
    "crossSection = {\"width\": 200, \"height\": 300}\n",
    "material = \"C30/37\"\n",
    "barProps = BarProps(material, crossSection)\n",
    "print(\"E = \", barProps.E, \"kPa\")\n",
    "print(\"I = \", barProps.I, \"m-4\")\n",
    "print(\"A = \", barProps.A, \"m2\")"
   ]
  },
  {
   "cell_type": "code",
   "execution_count": 3,
   "metadata": {},
   "outputs": [],
   "source": [
    "# lengths\n",
    "A = 3 #m\n",
    "B = 3 #m\n",
    "C = 3 #m\n",
    "\n",
    "# loads\n",
    "F = 40 #kN\n",
    "Q = 5 #kN/m"
   ]
  },
  {
   "cell_type": "markdown",
   "metadata": {},
   "source": [
    "Definovanie bodov"
   ]
  },
  {
   "cell_type": "code",
   "execution_count": 4,
   "metadata": {},
   "outputs": [],
   "source": [
    "p1 = Point(0,0)\n",
    "p2 = Point(0,3)\n",
    "p3 = Point(3,3)\n",
    "p4 = Point(3,0)"
   ]
  },
  {
   "cell_type": "code",
   "execution_count": 5,
   "metadata": {},
   "outputs": [
    {
     "data": {
      "text/plain": [
       "[<matplotlib.lines.Line2D at 0x1a4de4d11f0>]"
      ]
     },
     "execution_count": 5,
     "metadata": {},
     "output_type": "execute_result"
    },
    {
     "data": {
      "image/png": "[encoded data removed]",
      "text/plain": [
       "<Figure size 432x288 with 1 Axes>"
      ]
     },
     "metadata": {
      "needs_background": "light"
     },
     "output_type": "display_data"
    }
   ],
   "source": [
    "y = np.array([p1.y,p2.y,p3.y,p4.y])\n",
    "x = np.array([p1.x,p2.x,p3.x,p4.x])\n",
    "plt.plot(x,y, 'o-', color='gray')"
   ]
  },
  {
   "cell_type": "markdown",
   "metadata": {},
   "source": [
    "Podpery"
   ]
  },
  {
   "cell_type": "code",
   "execution_count": 6,
   "metadata": {},
   "outputs": [
    {
     "name": "stdout",
     "output_type": "stream",
     "text": [
      "Point(x=0, y=0, dof=[0, 0, 0])\n",
      "Point(x=0, y=3, dof=[1, 1, 1])\n",
      "Point(x=3, y=3, dof=[1, 1, 1])\n",
      "Point(x=3, y=0, dof=[0, 0, 1])\n"
     ]
    }
   ],
   "source": [
    "p1.stiff\n",
    "p4.hinge\n",
    "print(p1)\n",
    "print(p2)\n",
    "print(p3)\n",
    "print(p4)"
   ]
  },
  {
   "cell_type": "markdown",
   "metadata": {},
   "source": [
    "Definovanie prútov"
   ]
  },
  {
   "cell_type": "code",
   "execution_count": 7,
   "metadata": {},
   "outputs": [
    {
     "name": "stdout",
     "output_type": "stream",
     "text": [
      "bar12 = 3.0 m\n",
      "bar23 = 3.0 m\n",
      "bar34 = 3.0 m\n"
     ]
    }
   ],
   "source": [
    "bar12 = Bar(p1, p2)\n",
    "bar23 = Bar(p2, p3)\n",
    "bar34 = Bar(p3, p4)\n",
    "print('bar12 =', bar12.len, 'm')\n",
    "print('bar23 =', bar23.len, 'm')\n",
    "print('bar34 =', bar34.len, 'm')"
   ]
  },
  {
   "cell_type": "markdown",
   "metadata": {},
   "source": [
    "## Vzorové riešenie na prúte 1-2"
   ]
  },
  {
   "cell_type": "markdown",
   "metadata": {},
   "source": [
    "### Matica tuhosti v LSS"
   ]
  },
  {
   "cell_type": "code",
   "execution_count": 8,
   "metadata": {},
   "outputs": [
    {
     "data": {
      "text/html": [
       "<div>\n",
       "<style scoped>\n",
       "    .dataframe tbody tr th:only-of-type {\n",
       "        vertical-align: middle;\n",
       "    }\n",
       "\n",
       "    .dataframe tbody tr th {\n",
       "        vertical-align: top;\n",
       "    }\n",
       "\n",
       "    .dataframe thead th {\n",
       "        text-align: right;\n",
       "    }\n",
       "</style>\n",
       "<table border=\"1\" class=\"dataframe\">\n",
       "  <thead>\n",
       "    <tr style=\"text-align: right;\">\n",
       "      <th></th>\n",
       "      <th>0</th>\n",
       "      <th>1</th>\n",
       "      <th>2</th>\n",
       "    </tr>\n",
       "  </thead>\n",
       "  <tbody>\n",
       "    <tr>\n",
       "      <th>0</th>\n",
       "      <td>660000.0</td>\n",
       "      <td>0.0</td>\n",
       "      <td>0.0</td>\n",
       "    </tr>\n",
       "    <tr>\n",
       "      <th>1</th>\n",
       "      <td>0.0</td>\n",
       "      <td>6600.0</td>\n",
       "      <td>9900.0</td>\n",
       "    </tr>\n",
       "    <tr>\n",
       "      <th>2</th>\n",
       "      <td>0.0</td>\n",
       "      <td>9900.0</td>\n",
       "      <td>19800.0</td>\n",
       "    </tr>\n",
       "  </tbody>\n",
       "</table>\n",
       "</div>"
      ],
      "text/plain": [
       "          0       1        2\n",
       "0  660000.0     0.0      0.0\n",
       "1       0.0  6600.0   9900.0\n",
       "2       0.0  9900.0  19800.0"
      ]
     },
     "execution_count": 8,
     "metadata": {},
     "output_type": "execute_result"
    }
   ],
   "source": [
    "k12 = BarStiffnessMatrix.lss(barProps, bar12)\n",
    "k12"
   ]
  },
  {
   "cell_type": "markdown",
   "metadata": {},
   "source": [
    "### Matica rotácie"
   ]
  },
  {
   "cell_type": "markdown",
   "metadata": {},
   "source": [
    "Uhol rotácie"
   ]
  },
  {
   "cell_type": "code",
   "execution_count": 9,
   "metadata": {},
   "outputs": [
    {
     "data": {
      "text/plain": [
       "-90.0"
      ]
     },
     "execution_count": 9,
     "metadata": {},
     "output_type": "execute_result"
    }
   ],
   "source": [
    "alfa_1 = bar12.angle\n",
    "alfa_1"
   ]
  },
  {
   "cell_type": "markdown",
   "metadata": {},
   "source": [
    "Matica"
   ]
  },
  {
   "cell_type": "code",
   "execution_count": 10,
   "metadata": {},
   "outputs": [
    {
     "data": {
      "text/html": [
       "<div>\n",
       "<style scoped>\n",
       "    .dataframe tbody tr th:only-of-type {\n",
       "        vertical-align: middle;\n",
       "    }\n",
       "\n",
       "    .dataframe tbody tr th {\n",
       "        vertical-align: top;\n",
       "    }\n",
       "\n",
       "    .dataframe thead th {\n",
       "        text-align: right;\n",
       "    }\n",
       "</style>\n",
       "<table border=\"1\" class=\"dataframe\">\n",
       "  <thead>\n",
       "    <tr style=\"text-align: right;\">\n",
       "      <th></th>\n",
       "      <th>0</th>\n",
       "      <th>1</th>\n",
       "      <th>2</th>\n",
       "    </tr>\n",
       "  </thead>\n",
       "  <tbody>\n",
       "    <tr>\n",
       "      <th>0</th>\n",
       "      <td>6.123234e-17</td>\n",
       "      <td>-1.000000e+00</td>\n",
       "      <td>0</td>\n",
       "    </tr>\n",
       "    <tr>\n",
       "      <th>1</th>\n",
       "      <td>1.000000e+00</td>\n",
       "      <td>6.123234e-17</td>\n",
       "      <td>0</td>\n",
       "    </tr>\n",
       "    <tr>\n",
       "      <th>2</th>\n",
       "      <td>0.000000e+00</td>\n",
       "      <td>0.000000e+00</td>\n",
       "      <td>1</td>\n",
       "    </tr>\n",
       "  </tbody>\n",
       "</table>\n",
       "</div>"
      ],
      "text/plain": [
       "              0             1  2\n",
       "0  6.123234e-17 -1.000000e+00  0\n",
       "1  1.000000e+00  6.123234e-17  0\n",
       "2  0.000000e+00  0.000000e+00  1"
      ]
     },
     "execution_count": 10,
     "metadata": {},
     "output_type": "execute_result"
    }
   ],
   "source": [
    "A0_1 = TransformationMatrix.rotation(alfa_1)\n",
    "A0_1"
   ]
  },
  {
   "cell_type": "markdown",
   "metadata": {},
   "source": [
    "### Prenosová matica"
   ]
  },
  {
   "cell_type": "markdown",
   "metadata": {},
   "source": [
    "Posun"
   ]
  },
  {
   "cell_type": "code",
   "execution_count": 11,
   "metadata": {},
   "outputs": [
    {
     "name": "stdout",
     "output_type": "stream",
     "text": [
      "lx =  0\n",
      "ly =  -3\n"
     ]
    }
   ],
   "source": [
    "lx = bar12.l_xy[0]\n",
    "ly = bar12.l_xy[1]\n",
    "print('lx = ', lx)\n",
    "print('ly = ', ly)"
   ]
  },
  {
   "cell_type": "markdown",
   "metadata": {},
   "source": [
    "Matica"
   ]
  },
  {
   "cell_type": "code",
   "execution_count": 12,
   "metadata": {},
   "outputs": [
    {
     "data": {
      "text/html": [
       "<div>\n",
       "<style scoped>\n",
       "    .dataframe tbody tr th:only-of-type {\n",
       "        vertical-align: middle;\n",
       "    }\n",
       "\n",
       "    .dataframe tbody tr th {\n",
       "        vertical-align: top;\n",
       "    }\n",
       "\n",
       "    .dataframe thead th {\n",
       "        text-align: right;\n",
       "    }\n",
       "</style>\n",
       "<table border=\"1\" class=\"dataframe\">\n",
       "  <thead>\n",
       "    <tr style=\"text-align: right;\">\n",
       "      <th></th>\n",
       "      <th>0</th>\n",
       "      <th>1</th>\n",
       "      <th>2</th>\n",
       "    </tr>\n",
       "  </thead>\n",
       "  <tbody>\n",
       "    <tr>\n",
       "      <th>0</th>\n",
       "      <td>-1</td>\n",
       "      <td>0</td>\n",
       "      <td>0</td>\n",
       "    </tr>\n",
       "    <tr>\n",
       "      <th>1</th>\n",
       "      <td>0</td>\n",
       "      <td>-1</td>\n",
       "      <td>0</td>\n",
       "    </tr>\n",
       "    <tr>\n",
       "      <th>2</th>\n",
       "      <td>3</td>\n",
       "      <td>0</td>\n",
       "      <td>-1</td>\n",
       "    </tr>\n",
       "  </tbody>\n",
       "</table>\n",
       "</div>"
      ],
      "text/plain": [
       "   0  1  2\n",
       "0 -1  0  0\n",
       "1  0 -1  0\n",
       "2  3  0 -1"
      ]
     },
     "execution_count": 12,
     "metadata": {},
     "output_type": "execute_result"
    }
   ],
   "source": [
    "B0_1 = TransformationMatrix.transmission(lx, ly)\n",
    "B0_1"
   ]
  },
  {
   "cell_type": "markdown",
   "metadata": {},
   "source": [
    "### Matica tuhosti v GSS"
   ]
  },
  {
   "cell_type": "code",
   "execution_count": 13,
   "metadata": {},
   "outputs": [
    {
     "data": {
      "text/html": [
       "<div>\n",
       "<style scoped>\n",
       "    .dataframe tbody tr th:only-of-type {\n",
       "        vertical-align: middle;\n",
       "    }\n",
       "\n",
       "    .dataframe tbody tr th {\n",
       "        vertical-align: top;\n",
       "    }\n",
       "\n",
       "    .dataframe thead th {\n",
       "        text-align: right;\n",
       "    }\n",
       "</style>\n",
       "<table border=\"1\" class=\"dataframe\">\n",
       "  <thead>\n",
       "    <tr style=\"text-align: right;\">\n",
       "      <th></th>\n",
       "      <th>0</th>\n",
       "      <th>1</th>\n",
       "      <th>2</th>\n",
       "      <th>3</th>\n",
       "      <th>4</th>\n",
       "      <th>5</th>\n",
       "    </tr>\n",
       "  </thead>\n",
       "  <tbody>\n",
       "    <tr>\n",
       "      <th>0</th>\n",
       "      <td>6.600000e+03</td>\n",
       "      <td>-4.000921e-11</td>\n",
       "      <td>9.900000e+03</td>\n",
       "      <td>-6.600000e+03</td>\n",
       "      <td>4.000921e-11</td>\n",
       "      <td>9.900000e+03</td>\n",
       "    </tr>\n",
       "    <tr>\n",
       "      <th>1</th>\n",
       "      <td>-4.000921e-11</td>\n",
       "      <td>6.600000e+05</td>\n",
       "      <td>6.062002e-13</td>\n",
       "      <td>4.000921e-11</td>\n",
       "      <td>-6.600000e+05</td>\n",
       "      <td>-1.206338e-10</td>\n",
       "    </tr>\n",
       "    <tr>\n",
       "      <th>2</th>\n",
       "      <td>9.900000e+03</td>\n",
       "      <td>6.062002e-13</td>\n",
       "      <td>1.980000e+04</td>\n",
       "      <td>-9.900000e+03</td>\n",
       "      <td>-6.062002e-13</td>\n",
       "      <td>9.900000e+03</td>\n",
       "    </tr>\n",
       "    <tr>\n",
       "      <th>3</th>\n",
       "      <td>-6.600000e+03</td>\n",
       "      <td>4.000921e-11</td>\n",
       "      <td>-9.900000e+03</td>\n",
       "      <td>6.600000e+03</td>\n",
       "      <td>-4.000921e-11</td>\n",
       "      <td>-9.900000e+03</td>\n",
       "    </tr>\n",
       "    <tr>\n",
       "      <th>4</th>\n",
       "      <td>4.000921e-11</td>\n",
       "      <td>-6.600000e+05</td>\n",
       "      <td>-6.062002e-13</td>\n",
       "      <td>-4.000921e-11</td>\n",
       "      <td>6.600000e+05</td>\n",
       "      <td>1.206338e-10</td>\n",
       "    </tr>\n",
       "    <tr>\n",
       "      <th>5</th>\n",
       "      <td>9.900000e+03</td>\n",
       "      <td>-1.206338e-10</td>\n",
       "      <td>9.900000e+03</td>\n",
       "      <td>-9.900000e+03</td>\n",
       "      <td>1.206338e-10</td>\n",
       "      <td>1.980000e+04</td>\n",
       "    </tr>\n",
       "  </tbody>\n",
       "</table>\n",
       "</div>"
      ],
      "text/plain": [
       "              0             1             2             3             4  \\\n",
       "0  6.600000e+03 -4.000921e-11  9.900000e+03 -6.600000e+03  4.000921e-11   \n",
       "1 -4.000921e-11  6.600000e+05  6.062002e-13  4.000921e-11 -6.600000e+05   \n",
       "2  9.900000e+03  6.062002e-13  1.980000e+04 -9.900000e+03 -6.062002e-13   \n",
       "3 -6.600000e+03  4.000921e-11 -9.900000e+03  6.600000e+03 -4.000921e-11   \n",
       "4  4.000921e-11 -6.600000e+05 -6.062002e-13 -4.000921e-11  6.600000e+05   \n",
       "5  9.900000e+03 -1.206338e-10  9.900000e+03 -9.900000e+03  1.206338e-10   \n",
       "\n",
       "              5  \n",
       "0  9.900000e+03  \n",
       "1 -1.206338e-10  \n",
       "2  9.900000e+03  \n",
       "3 -9.900000e+03  \n",
       "4  1.206338e-10  \n",
       "5  1.980000e+04  "
      ]
     },
     "execution_count": 13,
     "metadata": {},
     "output_type": "execute_result"
    }
   ],
   "source": [
    "k1 = BarStiffnessMatrix.gss(A0_1, k12, B0_1)\n",
    "k1 = parseMatrixIndexes(k1, [0,1,2,3,4,5])\n",
    "k1"
   ]
  },
  {
   "cell_type": "markdown",
   "metadata": {},
   "source": [
    "### Primárne vnútorné sily"
   ]
  },
  {
   "cell_type": "markdown",
   "metadata": {},
   "source": [
    "Vnútorné sily - *Bod 1*"
   ]
  },
  {
   "cell_type": "code",
   "execution_count": 14,
   "metadata": {},
   "outputs": [
    {
     "name": "stdout",
     "output_type": "stream",
     "text": [
      "N_12 =  0 kN\n",
      "V_12 =  -7.5 kN\n",
      "M_12 =  -3.75 kNm\n"
     ]
    }
   ],
   "source": [
    "load = Load(Q = Q)\n",
    "M1 = BendingMoment(load, bar12)\n",
    "V1 = ShearForce(load, bar12)\n",
    "print(\"N_12 = \", 0, \"kN\")\n",
    "print(\"V_12 = \", V1.Va, \"kN\")\n",
    "print(\"M_12 = \", M1.Ma, \"kNm\")"
   ]
  },
  {
   "cell_type": "markdown",
   "metadata": {},
   "source": [
    "Vnútorné sily - *Bod 2*"
   ]
  },
  {
   "cell_type": "code",
   "execution_count": 15,
   "metadata": {},
   "outputs": [
    {
     "name": "stdout",
     "output_type": "stream",
     "text": [
      "N_21 =  0 kN\n",
      "V_21 =  -7.5 kN\n",
      "M_21 =  3.75 kNm\n"
     ]
    }
   ],
   "source": [
    "M1 = BendingMoment(load, bar12)\n",
    "V1 = ShearForce(load, bar12)\n",
    "print(\"N_21 = \", 0, \"kN\")\n",
    "print(\"V_21 = \", V1.Vb, \"kN\")\n",
    "print(\"M_21 = \", M1.Mb, \"kNm\")"
   ]
  },
  {
   "cell_type": "markdown",
   "metadata": {},
   "source": [
    "Silový vektor v LSS - *Bod 1*"
   ]
  },
  {
   "cell_type": "code",
   "execution_count": 16,
   "metadata": {},
   "outputs": [
    {
     "data": {
      "text/html": [
       "<div>\n",
       "<style scoped>\n",
       "    .dataframe tbody tr th:only-of-type {\n",
       "        vertical-align: middle;\n",
       "    }\n",
       "\n",
       "    .dataframe tbody tr th {\n",
       "        vertical-align: top;\n",
       "    }\n",
       "\n",
       "    .dataframe thead th {\n",
       "        text-align: right;\n",
       "    }\n",
       "</style>\n",
       "<table border=\"1\" class=\"dataframe\">\n",
       "  <thead>\n",
       "    <tr style=\"text-align: right;\">\n",
       "      <th></th>\n",
       "      <th>0</th>\n",
       "    </tr>\n",
       "  </thead>\n",
       "  <tbody>\n",
       "    <tr>\n",
       "      <th>0</th>\n",
       "      <td>0.00</td>\n",
       "    </tr>\n",
       "    <tr>\n",
       "      <th>1</th>\n",
       "      <td>-7.50</td>\n",
       "    </tr>\n",
       "    <tr>\n",
       "      <th>2</th>\n",
       "      <td>-3.75</td>\n",
       "    </tr>\n",
       "  </tbody>\n",
       "</table>\n",
       "</div>"
      ],
      "text/plain": [
       "      0\n",
       "0  0.00\n",
       "1 -7.50\n",
       "2 -3.75"
      ]
     },
     "execution_count": 16,
     "metadata": {},
     "output_type": "execute_result"
    }
   ],
   "source": [
    "F12_l = LoadMatrix.lss(0, V1.Va, M1.Ma)\n",
    "F12_l"
   ]
  },
  {
   "cell_type": "markdown",
   "metadata": {},
   "source": [
    "Silový vektor v LSS - *Bod 2*"
   ]
  },
  {
   "cell_type": "code",
   "execution_count": 17,
   "metadata": {},
   "outputs": [
    {
     "data": {
      "text/html": [
       "<div>\n",
       "<style scoped>\n",
       "    .dataframe tbody tr th:only-of-type {\n",
       "        vertical-align: middle;\n",
       "    }\n",
       "\n",
       "    .dataframe tbody tr th {\n",
       "        vertical-align: top;\n",
       "    }\n",
       "\n",
       "    .dataframe thead th {\n",
       "        text-align: right;\n",
       "    }\n",
       "</style>\n",
       "<table border=\"1\" class=\"dataframe\">\n",
       "  <thead>\n",
       "    <tr style=\"text-align: right;\">\n",
       "      <th></th>\n",
       "      <th>0</th>\n",
       "    </tr>\n",
       "  </thead>\n",
       "  <tbody>\n",
       "    <tr>\n",
       "      <th>0</th>\n",
       "      <td>0.00</td>\n",
       "    </tr>\n",
       "    <tr>\n",
       "      <th>1</th>\n",
       "      <td>-7.50</td>\n",
       "    </tr>\n",
       "    <tr>\n",
       "      <th>2</th>\n",
       "      <td>3.75</td>\n",
       "    </tr>\n",
       "  </tbody>\n",
       "</table>\n",
       "</div>"
      ],
      "text/plain": [
       "      0\n",
       "0  0.00\n",
       "1 -7.50\n",
       "2  3.75"
      ]
     },
     "execution_count": 17,
     "metadata": {},
     "output_type": "execute_result"
    }
   ],
   "source": [
    "F21_l = LoadMatrix.lss(0, V1.Vb, M1.Mb)\n",
    "F21_l"
   ]
  },
  {
   "cell_type": "markdown",
   "metadata": {},
   "source": [
    "Silový vektor v GSS pre celý prút"
   ]
  },
  {
   "cell_type": "code",
   "execution_count": 18,
   "metadata": {},
   "outputs": [
    {
     "data": {
      "text/html": [
       "<div>\n",
       "<style scoped>\n",
       "    .dataframe tbody tr th:only-of-type {\n",
       "        vertical-align: middle;\n",
       "    }\n",
       "\n",
       "    .dataframe tbody tr th {\n",
       "        vertical-align: top;\n",
       "    }\n",
       "\n",
       "    .dataframe thead th {\n",
       "        text-align: right;\n",
       "    }\n",
       "</style>\n",
       "<table border=\"1\" class=\"dataframe\">\n",
       "  <thead>\n",
       "    <tr style=\"text-align: right;\">\n",
       "      <th></th>\n",
       "      <th>0</th>\n",
       "    </tr>\n",
       "  </thead>\n",
       "  <tbody>\n",
       "    <tr>\n",
       "      <th>0</th>\n",
       "      <td>-7.500000e+00</td>\n",
       "    </tr>\n",
       "    <tr>\n",
       "      <th>1</th>\n",
       "      <td>-4.592425e-16</td>\n",
       "    </tr>\n",
       "    <tr>\n",
       "      <th>2</th>\n",
       "      <td>-3.750000e+00</td>\n",
       "    </tr>\n",
       "    <tr>\n",
       "      <th>3</th>\n",
       "      <td>-7.500000e+00</td>\n",
       "    </tr>\n",
       "    <tr>\n",
       "      <th>4</th>\n",
       "      <td>-4.592425e-16</td>\n",
       "    </tr>\n",
       "    <tr>\n",
       "      <th>5</th>\n",
       "      <td>3.750000e+00</td>\n",
       "    </tr>\n",
       "  </tbody>\n",
       "</table>\n",
       "</div>"
      ],
      "text/plain": [
       "              0\n",
       "0 -7.500000e+00\n",
       "1 -4.592425e-16\n",
       "2 -3.750000e+00\n",
       "3 -7.500000e+00\n",
       "4 -4.592425e-16\n",
       "5  3.750000e+00"
      ]
     },
     "execution_count": 18,
     "metadata": {},
     "output_type": "execute_result"
    }
   ],
   "source": [
    "F12_g = LoadMatrix.gss(F12_l, A0_1.T)\n",
    "F21_g = LoadMatrix.gss(F21_l, A0_1.T)\n",
    "\n",
    "F1 = LoadMatrix.super(F12_g, F21_g)\n",
    "F1 = parseMatrixRows(F1,[0,1,2,3,4,5])\n",
    "F1"
   ]
  },
  {
   "cell_type": "markdown",
   "metadata": {},
   "source": [
    "## Riešenie na prúte 2-3"
   ]
  },
  {
   "cell_type": "code",
   "execution_count": 19,
   "metadata": {},
   "outputs": [
    {
     "name": "stdout",
     "output_type": "stream",
     "text": [
      "lx =  3\n",
      "ly =  0\n"
     ]
    }
   ],
   "source": [
    "lx = bar23.l_xy[0]\n",
    "ly = bar23.l_xy[1]\n",
    "print('lx = ', lx)\n",
    "print('ly = ', ly)"
   ]
  },
  {
   "cell_type": "code",
   "execution_count": 20,
   "metadata": {},
   "outputs": [],
   "source": [
    "k23 = BarStiffnessMatrix.lss(barProps, bar23)\n",
    "A0_2 = TransformationMatrix.rotation(bar23.angle)\n",
    "B0_2 = TransformationMatrix.transmission(lx, ly)"
   ]
  },
  {
   "cell_type": "code",
   "execution_count": 21,
   "metadata": {},
   "outputs": [
    {
     "data": {
      "text/html": [
       "<div>\n",
       "<style scoped>\n",
       "    .dataframe tbody tr th:only-of-type {\n",
       "        vertical-align: middle;\n",
       "    }\n",
       "\n",
       "    .dataframe tbody tr th {\n",
       "        vertical-align: top;\n",
       "    }\n",
       "\n",
       "    .dataframe thead th {\n",
       "        text-align: right;\n",
       "    }\n",
       "</style>\n",
       "<table border=\"1\" class=\"dataframe\">\n",
       "  <thead>\n",
       "    <tr style=\"text-align: right;\">\n",
       "      <th></th>\n",
       "      <th>3</th>\n",
       "      <th>4</th>\n",
       "      <th>5</th>\n",
       "      <th>6</th>\n",
       "      <th>7</th>\n",
       "      <th>8</th>\n",
       "    </tr>\n",
       "  </thead>\n",
       "  <tbody>\n",
       "    <tr>\n",
       "      <th>3</th>\n",
       "      <td>660000.0</td>\n",
       "      <td>0.0</td>\n",
       "      <td>0.0</td>\n",
       "      <td>-660000.0</td>\n",
       "      <td>0.0</td>\n",
       "      <td>0.0</td>\n",
       "    </tr>\n",
       "    <tr>\n",
       "      <th>4</th>\n",
       "      <td>0.0</td>\n",
       "      <td>6600.0</td>\n",
       "      <td>9900.0</td>\n",
       "      <td>0.0</td>\n",
       "      <td>-6600.0</td>\n",
       "      <td>9900.0</td>\n",
       "    </tr>\n",
       "    <tr>\n",
       "      <th>5</th>\n",
       "      <td>0.0</td>\n",
       "      <td>9900.0</td>\n",
       "      <td>19800.0</td>\n",
       "      <td>0.0</td>\n",
       "      <td>-9900.0</td>\n",
       "      <td>9900.0</td>\n",
       "    </tr>\n",
       "    <tr>\n",
       "      <th>6</th>\n",
       "      <td>-660000.0</td>\n",
       "      <td>0.0</td>\n",
       "      <td>0.0</td>\n",
       "      <td>660000.0</td>\n",
       "      <td>0.0</td>\n",
       "      <td>0.0</td>\n",
       "    </tr>\n",
       "    <tr>\n",
       "      <th>7</th>\n",
       "      <td>0.0</td>\n",
       "      <td>-6600.0</td>\n",
       "      <td>-9900.0</td>\n",
       "      <td>0.0</td>\n",
       "      <td>6600.0</td>\n",
       "      <td>-9900.0</td>\n",
       "    </tr>\n",
       "    <tr>\n",
       "      <th>8</th>\n",
       "      <td>0.0</td>\n",
       "      <td>9900.0</td>\n",
       "      <td>9900.0</td>\n",
       "      <td>0.0</td>\n",
       "      <td>-9900.0</td>\n",
       "      <td>19800.0</td>\n",
       "    </tr>\n",
       "  </tbody>\n",
       "</table>\n",
       "</div>"
      ],
      "text/plain": [
       "          3       4        5         6       7        8\n",
       "3  660000.0     0.0      0.0 -660000.0     0.0      0.0\n",
       "4       0.0  6600.0   9900.0       0.0 -6600.0   9900.0\n",
       "5       0.0  9900.0  19800.0       0.0 -9900.0   9900.0\n",
       "6 -660000.0     0.0      0.0  660000.0     0.0      0.0\n",
       "7       0.0 -6600.0  -9900.0       0.0  6600.0  -9900.0\n",
       "8       0.0  9900.0   9900.0       0.0 -9900.0  19800.0"
      ]
     },
     "execution_count": 21,
     "metadata": {},
     "output_type": "execute_result"
    }
   ],
   "source": [
    "k2 = BarStiffnessMatrix.gss(A0_2, k23, B0_2)\n",
    "k2 = parseMatrixIndexes(k2,[3,4,5,6,7,8])\n",
    "k2"
   ]
  },
  {
   "cell_type": "code",
   "execution_count": 22,
   "metadata": {},
   "outputs": [],
   "source": [
    "load = Load(F = F)\n",
    "M2 = BendingMoment(load, bar23)\n",
    "V2 = ShearForce(load, bar23)"
   ]
  },
  {
   "cell_type": "code",
   "execution_count": 23,
   "metadata": {},
   "outputs": [
    {
     "data": {
      "text/html": [
       "<div>\n",
       "<style scoped>\n",
       "    .dataframe tbody tr th:only-of-type {\n",
       "        vertical-align: middle;\n",
       "    }\n",
       "\n",
       "    .dataframe tbody tr th {\n",
       "        vertical-align: top;\n",
       "    }\n",
       "\n",
       "    .dataframe thead th {\n",
       "        text-align: right;\n",
       "    }\n",
       "</style>\n",
       "<table border=\"1\" class=\"dataframe\">\n",
       "  <thead>\n",
       "    <tr style=\"text-align: right;\">\n",
       "      <th></th>\n",
       "      <th>0</th>\n",
       "    </tr>\n",
       "  </thead>\n",
       "  <tbody>\n",
       "    <tr>\n",
       "      <th>3</th>\n",
       "      <td>0.0</td>\n",
       "    </tr>\n",
       "    <tr>\n",
       "      <th>4</th>\n",
       "      <td>-20.0</td>\n",
       "    </tr>\n",
       "    <tr>\n",
       "      <th>5</th>\n",
       "      <td>-15.0</td>\n",
       "    </tr>\n",
       "    <tr>\n",
       "      <th>6</th>\n",
       "      <td>0.0</td>\n",
       "    </tr>\n",
       "    <tr>\n",
       "      <th>7</th>\n",
       "      <td>-20.0</td>\n",
       "    </tr>\n",
       "    <tr>\n",
       "      <th>8</th>\n",
       "      <td>15.0</td>\n",
       "    </tr>\n",
       "  </tbody>\n",
       "</table>\n",
       "</div>"
      ],
      "text/plain": [
       "      0\n",
       "3   0.0\n",
       "4 -20.0\n",
       "5 -15.0\n",
       "6   0.0\n",
       "7 -20.0\n",
       "8  15.0"
      ]
     },
     "execution_count": 23,
     "metadata": {},
     "output_type": "execute_result"
    }
   ],
   "source": [
    "F23_l = LoadMatrix.lss(0, V2.Va, M2.Ma)\n",
    "F32_l = LoadMatrix.lss(0, V2.Vb, M2.Mb)\n",
    "F23_g = LoadMatrix.gss(F23_l, A0_2.T)\n",
    "F32_g = LoadMatrix.gss(F32_l, A0_2.T)\n",
    "\n",
    "F2 = LoadMatrix.super(F23_g, F32_g)\n",
    "F2 = parseMatrixRows(F2,[3,4,5,6,7,8])\n",
    "F2"
   ]
  },
  {
   "cell_type": "markdown",
   "metadata": {},
   "source": [
    "## Riešenie na prúte 3-4"
   ]
  },
  {
   "cell_type": "code",
   "execution_count": 24,
   "metadata": {},
   "outputs": [
    {
     "name": "stdout",
     "output_type": "stream",
     "text": [
      "lx =  0\n",
      "ly =  3\n"
     ]
    }
   ],
   "source": [
    "lx = bar34.l_xy[0]\n",
    "ly = bar34.l_xy[1]\n",
    "print('lx = ', lx)\n",
    "print('ly = ', ly)"
   ]
  },
  {
   "cell_type": "code",
   "execution_count": 25,
   "metadata": {},
   "outputs": [],
   "source": [
    "k34 = BarStiffnessMatrix.lss(barProps, bar34)\n",
    "A0_3 = TransformationMatrix.rotation(bar34.angle)\n",
    "B0_3 = TransformationMatrix.transmission(lx, ly)"
   ]
  },
  {
   "cell_type": "code",
   "execution_count": 26,
   "metadata": {},
   "outputs": [
    {
     "data": {
      "text/html": [
       "<div>\n",
       "<style scoped>\n",
       "    .dataframe tbody tr th:only-of-type {\n",
       "        vertical-align: middle;\n",
       "    }\n",
       "\n",
       "    .dataframe tbody tr th {\n",
       "        vertical-align: top;\n",
       "    }\n",
       "\n",
       "    .dataframe thead th {\n",
       "        text-align: right;\n",
       "    }\n",
       "</style>\n",
       "<table border=\"1\" class=\"dataframe\">\n",
       "  <thead>\n",
       "    <tr style=\"text-align: right;\">\n",
       "      <th></th>\n",
       "      <th>6</th>\n",
       "      <th>7</th>\n",
       "      <th>8</th>\n",
       "      <th>9</th>\n",
       "      <th>10</th>\n",
       "      <th>11</th>\n",
       "    </tr>\n",
       "  </thead>\n",
       "  <tbody>\n",
       "    <tr>\n",
       "      <th>6</th>\n",
       "      <td>6.600000e+03</td>\n",
       "      <td>4.000921e-11</td>\n",
       "      <td>-9.900000e+03</td>\n",
       "      <td>-6.600000e+03</td>\n",
       "      <td>-4.000921e-11</td>\n",
       "      <td>-9.900000e+03</td>\n",
       "    </tr>\n",
       "    <tr>\n",
       "      <th>7</th>\n",
       "      <td>4.000921e-11</td>\n",
       "      <td>6.600000e+05</td>\n",
       "      <td>6.062002e-13</td>\n",
       "      <td>-4.000921e-11</td>\n",
       "      <td>-6.600000e+05</td>\n",
       "      <td>-1.206338e-10</td>\n",
       "    </tr>\n",
       "    <tr>\n",
       "      <th>8</th>\n",
       "      <td>-9.900000e+03</td>\n",
       "      <td>6.062002e-13</td>\n",
       "      <td>1.980000e+04</td>\n",
       "      <td>9.900000e+03</td>\n",
       "      <td>-6.062002e-13</td>\n",
       "      <td>9.900000e+03</td>\n",
       "    </tr>\n",
       "    <tr>\n",
       "      <th>9</th>\n",
       "      <td>-6.600000e+03</td>\n",
       "      <td>-4.000921e-11</td>\n",
       "      <td>9.900000e+03</td>\n",
       "      <td>6.600000e+03</td>\n",
       "      <td>4.000921e-11</td>\n",
       "      <td>9.900000e+03</td>\n",
       "    </tr>\n",
       "    <tr>\n",
       "      <th>10</th>\n",
       "      <td>-4.000921e-11</td>\n",
       "      <td>-6.600000e+05</td>\n",
       "      <td>-6.062002e-13</td>\n",
       "      <td>4.000921e-11</td>\n",
       "      <td>6.600000e+05</td>\n",
       "      <td>1.206338e-10</td>\n",
       "    </tr>\n",
       "    <tr>\n",
       "      <th>11</th>\n",
       "      <td>-9.900000e+03</td>\n",
       "      <td>-1.206338e-10</td>\n",
       "      <td>9.900000e+03</td>\n",
       "      <td>9.900000e+03</td>\n",
       "      <td>1.206338e-10</td>\n",
       "      <td>1.980000e+04</td>\n",
       "    </tr>\n",
       "  </tbody>\n",
       "</table>\n",
       "</div>"
      ],
      "text/plain": [
       "              6             7             8             9             10  \\\n",
       "6   6.600000e+03  4.000921e-11 -9.900000e+03 -6.600000e+03 -4.000921e-11   \n",
       "7   4.000921e-11  6.600000e+05  6.062002e-13 -4.000921e-11 -6.600000e+05   \n",
       "8  -9.900000e+03  6.062002e-13  1.980000e+04  9.900000e+03 -6.062002e-13   \n",
       "9  -6.600000e+03 -4.000921e-11  9.900000e+03  6.600000e+03  4.000921e-11   \n",
       "10 -4.000921e-11 -6.600000e+05 -6.062002e-13  4.000921e-11  6.600000e+05   \n",
       "11 -9.900000e+03 -1.206338e-10  9.900000e+03  9.900000e+03  1.206338e-10   \n",
       "\n",
       "              11  \n",
       "6  -9.900000e+03  \n",
       "7  -1.206338e-10  \n",
       "8   9.900000e+03  \n",
       "9   9.900000e+03  \n",
       "10  1.206338e-10  \n",
       "11  1.980000e+04  "
      ]
     },
     "execution_count": 26,
     "metadata": {},
     "output_type": "execute_result"
    }
   ],
   "source": [
    "k3 = BarStiffnessMatrix.gss(A0_3, k34, B0_3)\n",
    "k3 = parseMatrixIndexes(k3,[6,7,8,9,10,11])\n",
    "k3"
   ]
  },
  {
   "cell_type": "code",
   "execution_count": 27,
   "metadata": {},
   "outputs": [],
   "source": [
    "load = Load()\n",
    "M3 = BendingMoment(load, bar34)\n",
    "V3 = ShearForce(load, bar34)"
   ]
  },
  {
   "cell_type": "code",
   "execution_count": 28,
   "metadata": {},
   "outputs": [
    {
     "data": {
      "text/html": [
       "<div>\n",
       "<style scoped>\n",
       "    .dataframe tbody tr th:only-of-type {\n",
       "        vertical-align: middle;\n",
       "    }\n",
       "\n",
       "    .dataframe tbody tr th {\n",
       "        vertical-align: top;\n",
       "    }\n",
       "\n",
       "    .dataframe thead th {\n",
       "        text-align: right;\n",
       "    }\n",
       "</style>\n",
       "<table border=\"1\" class=\"dataframe\">\n",
       "  <thead>\n",
       "    <tr style=\"text-align: right;\">\n",
       "      <th></th>\n",
       "      <th>0</th>\n",
       "    </tr>\n",
       "  </thead>\n",
       "  <tbody>\n",
       "    <tr>\n",
       "      <th>6</th>\n",
       "      <td>0.0</td>\n",
       "    </tr>\n",
       "    <tr>\n",
       "      <th>7</th>\n",
       "      <td>0.0</td>\n",
       "    </tr>\n",
       "    <tr>\n",
       "      <th>8</th>\n",
       "      <td>0.0</td>\n",
       "    </tr>\n",
       "    <tr>\n",
       "      <th>9</th>\n",
       "      <td>0.0</td>\n",
       "    </tr>\n",
       "    <tr>\n",
       "      <th>10</th>\n",
       "      <td>0.0</td>\n",
       "    </tr>\n",
       "    <tr>\n",
       "      <th>11</th>\n",
       "      <td>0.0</td>\n",
       "    </tr>\n",
       "  </tbody>\n",
       "</table>\n",
       "</div>"
      ],
      "text/plain": [
       "      0\n",
       "6   0.0\n",
       "7   0.0\n",
       "8   0.0\n",
       "9   0.0\n",
       "10  0.0\n",
       "11  0.0"
      ]
     },
     "execution_count": 28,
     "metadata": {},
     "output_type": "execute_result"
    }
   ],
   "source": [
    "F34_l = LoadMatrix.lss(0, V3.Va, M3.Ma)\n",
    "F43_l = LoadMatrix.lss(0, V3.Vb, M3.Mb)\n",
    "F34_g = LoadMatrix.gss(F34_l, A0_3.T)\n",
    "F43_g = LoadMatrix.gss(F43_l, A0_3.T)\n",
    "\n",
    "F3 = LoadMatrix.super(F34_g, F43_g)\n",
    "F3 = parseMatrixRows(F3,[0,1,2,3,4,5])\n",
    "F3 = parseMatrixRows(F3,[6,7,8,9,10,11])\n",
    "F3"
   ]
  },
  {
   "cell_type": "markdown",
   "metadata": {},
   "source": [
    "## Matica tuhosti celého rámu"
   ]
  },
  {
   "cell_type": "code",
   "execution_count": 29,
   "metadata": {},
   "outputs": [
    {
     "data": {
      "text/html": [
       "<div>\n",
       "<style scoped>\n",
       "    .dataframe tbody tr th:only-of-type {\n",
       "        vertical-align: middle;\n",
       "    }\n",
       "\n",
       "    .dataframe tbody tr th {\n",
       "        vertical-align: top;\n",
       "    }\n",
       "\n",
       "    .dataframe thead th {\n",
       "        text-align: right;\n",
       "    }\n",
       "</style>\n",
       "<table border=\"1\" class=\"dataframe\">\n",
       "  <thead>\n",
       "    <tr style=\"text-align: right;\">\n",
       "      <th></th>\n",
       "      <th>0</th>\n",
       "      <th>1</th>\n",
       "      <th>2</th>\n",
       "      <th>3</th>\n",
       "      <th>4</th>\n",
       "      <th>5</th>\n",
       "      <th>6</th>\n",
       "      <th>7</th>\n",
       "      <th>8</th>\n",
       "      <th>9</th>\n",
       "      <th>10</th>\n",
       "      <th>11</th>\n",
       "    </tr>\n",
       "  </thead>\n",
       "  <tbody>\n",
       "    <tr>\n",
       "      <th>0</th>\n",
       "      <td>0.0</td>\n",
       "      <td>0.0</td>\n",
       "      <td>0.0</td>\n",
       "      <td>0.0</td>\n",
       "      <td>0.0</td>\n",
       "      <td>0.0</td>\n",
       "      <td>0.0</td>\n",
       "      <td>0.0</td>\n",
       "      <td>0.0</td>\n",
       "      <td>0.0</td>\n",
       "      <td>0.0</td>\n",
       "      <td>0.0</td>\n",
       "    </tr>\n",
       "    <tr>\n",
       "      <th>1</th>\n",
       "      <td>0.0</td>\n",
       "      <td>0.0</td>\n",
       "      <td>0.0</td>\n",
       "      <td>0.0</td>\n",
       "      <td>0.0</td>\n",
       "      <td>0.0</td>\n",
       "      <td>0.0</td>\n",
       "      <td>0.0</td>\n",
       "      <td>0.0</td>\n",
       "      <td>0.0</td>\n",
       "      <td>0.0</td>\n",
       "      <td>0.0</td>\n",
       "    </tr>\n",
       "    <tr>\n",
       "      <th>2</th>\n",
       "      <td>0.0</td>\n",
       "      <td>0.0</td>\n",
       "      <td>0.0</td>\n",
       "      <td>0.0</td>\n",
       "      <td>0.0</td>\n",
       "      <td>0.0</td>\n",
       "      <td>0.0</td>\n",
       "      <td>0.0</td>\n",
       "      <td>0.0</td>\n",
       "      <td>0.0</td>\n",
       "      <td>0.0</td>\n",
       "      <td>0.0</td>\n",
       "    </tr>\n",
       "    <tr>\n",
       "      <th>3</th>\n",
       "      <td>0.0</td>\n",
       "      <td>0.0</td>\n",
       "      <td>0.0</td>\n",
       "      <td>0.0</td>\n",
       "      <td>0.0</td>\n",
       "      <td>0.0</td>\n",
       "      <td>0.0</td>\n",
       "      <td>0.0</td>\n",
       "      <td>0.0</td>\n",
       "      <td>0.0</td>\n",
       "      <td>0.0</td>\n",
       "      <td>0.0</td>\n",
       "    </tr>\n",
       "    <tr>\n",
       "      <th>4</th>\n",
       "      <td>0.0</td>\n",
       "      <td>0.0</td>\n",
       "      <td>0.0</td>\n",
       "      <td>0.0</td>\n",
       "      <td>0.0</td>\n",
       "      <td>0.0</td>\n",
       "      <td>0.0</td>\n",
       "      <td>0.0</td>\n",
       "      <td>0.0</td>\n",
       "      <td>0.0</td>\n",
       "      <td>0.0</td>\n",
       "      <td>0.0</td>\n",
       "    </tr>\n",
       "    <tr>\n",
       "      <th>5</th>\n",
       "      <td>0.0</td>\n",
       "      <td>0.0</td>\n",
       "      <td>0.0</td>\n",
       "      <td>0.0</td>\n",
       "      <td>0.0</td>\n",
       "      <td>0.0</td>\n",
       "      <td>0.0</td>\n",
       "      <td>0.0</td>\n",
       "      <td>0.0</td>\n",
       "      <td>0.0</td>\n",
       "      <td>0.0</td>\n",
       "      <td>0.0</td>\n",
       "    </tr>\n",
       "    <tr>\n",
       "      <th>6</th>\n",
       "      <td>0.0</td>\n",
       "      <td>0.0</td>\n",
       "      <td>0.0</td>\n",
       "      <td>0.0</td>\n",
       "      <td>0.0</td>\n",
       "      <td>0.0</td>\n",
       "      <td>0.0</td>\n",
       "      <td>0.0</td>\n",
       "      <td>0.0</td>\n",
       "      <td>0.0</td>\n",
       "      <td>0.0</td>\n",
       "      <td>0.0</td>\n",
       "    </tr>\n",
       "    <tr>\n",
       "      <th>7</th>\n",
       "      <td>0.0</td>\n",
       "      <td>0.0</td>\n",
       "      <td>0.0</td>\n",
       "      <td>0.0</td>\n",
       "      <td>0.0</td>\n",
       "      <td>0.0</td>\n",
       "      <td>0.0</td>\n",
       "      <td>0.0</td>\n",
       "      <td>0.0</td>\n",
       "      <td>0.0</td>\n",
       "      <td>0.0</td>\n",
       "      <td>0.0</td>\n",
       "    </tr>\n",
       "    <tr>\n",
       "      <th>8</th>\n",
       "      <td>0.0</td>\n",
       "      <td>0.0</td>\n",
       "      <td>0.0</td>\n",
       "      <td>0.0</td>\n",
       "      <td>0.0</td>\n",
       "      <td>0.0</td>\n",
       "      <td>0.0</td>\n",
       "      <td>0.0</td>\n",
       "      <td>0.0</td>\n",
       "      <td>0.0</td>\n",
       "      <td>0.0</td>\n",
       "      <td>0.0</td>\n",
       "    </tr>\n",
       "    <tr>\n",
       "      <th>9</th>\n",
       "      <td>0.0</td>\n",
       "      <td>0.0</td>\n",
       "      <td>0.0</td>\n",
       "      <td>0.0</td>\n",
       "      <td>0.0</td>\n",
       "      <td>0.0</td>\n",
       "      <td>0.0</td>\n",
       "      <td>0.0</td>\n",
       "      <td>0.0</td>\n",
       "      <td>0.0</td>\n",
       "      <td>0.0</td>\n",
       "      <td>0.0</td>\n",
       "    </tr>\n",
       "    <tr>\n",
       "      <th>10</th>\n",
       "      <td>0.0</td>\n",
       "      <td>0.0</td>\n",
       "      <td>0.0</td>\n",
       "      <td>0.0</td>\n",
       "      <td>0.0</td>\n",
       "      <td>0.0</td>\n",
       "      <td>0.0</td>\n",
       "      <td>0.0</td>\n",
       "      <td>0.0</td>\n",
       "      <td>0.0</td>\n",
       "      <td>0.0</td>\n",
       "      <td>0.0</td>\n",
       "    </tr>\n",
       "    <tr>\n",
       "      <th>11</th>\n",
       "      <td>0.0</td>\n",
       "      <td>0.0</td>\n",
       "      <td>0.0</td>\n",
       "      <td>0.0</td>\n",
       "      <td>0.0</td>\n",
       "      <td>0.0</td>\n",
       "      <td>0.0</td>\n",
       "      <td>0.0</td>\n",
       "      <td>0.0</td>\n",
       "      <td>0.0</td>\n",
       "      <td>0.0</td>\n",
       "      <td>0.0</td>\n",
       "    </tr>\n",
       "  </tbody>\n",
       "</table>\n",
       "</div>"
      ],
      "text/plain": [
       "     0    1    2    3    4    5    6    7    8    9    10   11\n",
       "0   0.0  0.0  0.0  0.0  0.0  0.0  0.0  0.0  0.0  0.0  0.0  0.0\n",
       "1   0.0  0.0  0.0  0.0  0.0  0.0  0.0  0.0  0.0  0.0  0.0  0.0\n",
       "2   0.0  0.0  0.0  0.0  0.0  0.0  0.0  0.0  0.0  0.0  0.0  0.0\n",
       "3   0.0  0.0  0.0  0.0  0.0  0.0  0.0  0.0  0.0  0.0  0.0  0.0\n",
       "4   0.0  0.0  0.0  0.0  0.0  0.0  0.0  0.0  0.0  0.0  0.0  0.0\n",
       "5   0.0  0.0  0.0  0.0  0.0  0.0  0.0  0.0  0.0  0.0  0.0  0.0\n",
       "6   0.0  0.0  0.0  0.0  0.0  0.0  0.0  0.0  0.0  0.0  0.0  0.0\n",
       "7   0.0  0.0  0.0  0.0  0.0  0.0  0.0  0.0  0.0  0.0  0.0  0.0\n",
       "8   0.0  0.0  0.0  0.0  0.0  0.0  0.0  0.0  0.0  0.0  0.0  0.0\n",
       "9   0.0  0.0  0.0  0.0  0.0  0.0  0.0  0.0  0.0  0.0  0.0  0.0\n",
       "10  0.0  0.0  0.0  0.0  0.0  0.0  0.0  0.0  0.0  0.0  0.0  0.0\n",
       "11  0.0  0.0  0.0  0.0  0.0  0.0  0.0  0.0  0.0  0.0  0.0  0.0"
      ]
     },
     "execution_count": 29,
     "metadata": {},
     "output_type": "execute_result"
    }
   ],
   "source": [
    "zeros = pd.DataFrame(np.zeros((12, 12)))\n",
    "zeros"
   ]
  },
  {
   "cell_type": "markdown",
   "metadata": {},
   "source": [
    "Matica tuhosti bez zohľadnenia okrajových podmienok"
   ]
  },
  {
   "cell_type": "code",
   "execution_count": 30,
   "metadata": {},
   "outputs": [],
   "source": [
    "def modelMatrix(zeros, k1, k2, k3):\n",
    "    layer1 = zeros.add(k1,fill_value=0)\n",
    "    layer2 = layer1.add(k2,fill_value=0)\n",
    "    layer3 = layer2.add(k3,fill_value=0)\n",
    "    return layer3"
   ]
  },
  {
   "cell_type": "code",
   "execution_count": 31,
   "metadata": {},
   "outputs": [],
   "source": [
    "modelMatrix = modelMatrix(zeros,k1,k2,k3)"
   ]
  },
  {
   "cell_type": "code",
   "execution_count": 32,
   "metadata": {},
   "outputs": [],
   "source": [
    "def highlightNotZero(x):\n",
    "    if x < 0:\n",
    "        #red\n",
    "        color = \"#ff9999\"\n",
    "    elif x > 0:\n",
    "        #green\n",
    "        color = \"#ccffcc\"\n",
    "    else:\n",
    "        color = \"#f2f2f2\"\n",
    "    return f\"background: {color}\"\n",
    "\n",
    "def parseZeroValues(x):\n",
    "    if x != 0:\n",
    "        return '{:.3e}'\n",
    "    else:\n",
    "        return '{:.0f}'"
   ]
  },
  {
   "cell_type": "code",
   "execution_count": 33,
   "metadata": {},
   "outputs": [
    {
     "data": {
      "text/html": [
       "<style  type=\"text/css\" >\n",
       "    #T_7ea7b_  {\n",
       "          font-family: arial;\n",
       "    }#T_7ea7b_row0_col0,#T_7ea7b_row0_col2,#T_7ea7b_row0_col4,#T_7ea7b_row0_col5,#T_7ea7b_row1_col1,#T_7ea7b_row1_col2,#T_7ea7b_row1_col3,#T_7ea7b_row2_col0,#T_7ea7b_row2_col1,#T_7ea7b_row2_col2,#T_7ea7b_row2_col5,#T_7ea7b_row3_col1,#T_7ea7b_row3_col3,#T_7ea7b_row4_col0,#T_7ea7b_row4_col4,#T_7ea7b_row4_col5,#T_7ea7b_row4_col8,#T_7ea7b_row5_col0,#T_7ea7b_row5_col2,#T_7ea7b_row5_col4,#T_7ea7b_row5_col5,#T_7ea7b_row5_col8,#T_7ea7b_row6_col6,#T_7ea7b_row6_col7,#T_7ea7b_row7_col6,#T_7ea7b_row7_col7,#T_7ea7b_row8_col4,#T_7ea7b_row8_col5,#T_7ea7b_row8_col8,#T_7ea7b_row8_col9,#T_7ea7b_row8_col11,#T_7ea7b_row9_col8,#T_7ea7b_row9_col9,#T_7ea7b_row9_col10,#T_7ea7b_row9_col11,#T_7ea7b_row10_col9,#T_7ea7b_row10_col10,#T_7ea7b_row10_col11,#T_7ea7b_row11_col8,#T_7ea7b_row11_col9,#T_7ea7b_row11_col10,#T_7ea7b_row11_col11{\n",
       "            background:  #ccffcc;\n",
       "        }#T_7ea7b_row0_col1,#T_7ea7b_row0_col3,#T_7ea7b_row1_col0,#T_7ea7b_row1_col4,#T_7ea7b_row1_col5,#T_7ea7b_row2_col3,#T_7ea7b_row2_col4,#T_7ea7b_row3_col0,#T_7ea7b_row3_col2,#T_7ea7b_row3_col4,#T_7ea7b_row3_col5,#T_7ea7b_row3_col6,#T_7ea7b_row4_col1,#T_7ea7b_row4_col2,#T_7ea7b_row4_col3,#T_7ea7b_row4_col7,#T_7ea7b_row5_col1,#T_7ea7b_row5_col3,#T_7ea7b_row5_col7,#T_7ea7b_row6_col3,#T_7ea7b_row6_col8,#T_7ea7b_row6_col9,#T_7ea7b_row6_col10,#T_7ea7b_row6_col11,#T_7ea7b_row7_col4,#T_7ea7b_row7_col5,#T_7ea7b_row7_col8,#T_7ea7b_row7_col9,#T_7ea7b_row7_col10,#T_7ea7b_row7_col11,#T_7ea7b_row8_col6,#T_7ea7b_row8_col7,#T_7ea7b_row8_col10,#T_7ea7b_row9_col6,#T_7ea7b_row9_col7,#T_7ea7b_row10_col6,#T_7ea7b_row10_col7,#T_7ea7b_row10_col8,#T_7ea7b_row11_col6,#T_7ea7b_row11_col7{\n",
       "            background:  #ff9999;\n",
       "        }#T_7ea7b_row0_col6,#T_7ea7b_row0_col7,#T_7ea7b_row0_col8,#T_7ea7b_row0_col9,#T_7ea7b_row0_col10,#T_7ea7b_row0_col11,#T_7ea7b_row1_col6,#T_7ea7b_row1_col7,#T_7ea7b_row1_col8,#T_7ea7b_row1_col9,#T_7ea7b_row1_col10,#T_7ea7b_row1_col11,#T_7ea7b_row2_col6,#T_7ea7b_row2_col7,#T_7ea7b_row2_col8,#T_7ea7b_row2_col9,#T_7ea7b_row2_col10,#T_7ea7b_row2_col11,#T_7ea7b_row3_col7,#T_7ea7b_row3_col8,#T_7ea7b_row3_col9,#T_7ea7b_row3_col10,#T_7ea7b_row3_col11,#T_7ea7b_row4_col6,#T_7ea7b_row4_col9,#T_7ea7b_row4_col10,#T_7ea7b_row4_col11,#T_7ea7b_row5_col6,#T_7ea7b_row5_col9,#T_7ea7b_row5_col10,#T_7ea7b_row5_col11,#T_7ea7b_row6_col0,#T_7ea7b_row6_col1,#T_7ea7b_row6_col2,#T_7ea7b_row6_col4,#T_7ea7b_row6_col5,#T_7ea7b_row7_col0,#T_7ea7b_row7_col1,#T_7ea7b_row7_col2,#T_7ea7b_row7_col3,#T_7ea7b_row8_col0,#T_7ea7b_row8_col1,#T_7ea7b_row8_col2,#T_7ea7b_row8_col3,#T_7ea7b_row9_col0,#T_7ea7b_row9_col1,#T_7ea7b_row9_col2,#T_7ea7b_row9_col3,#T_7ea7b_row9_col4,#T_7ea7b_row9_col5,#T_7ea7b_row10_col0,#T_7ea7b_row10_col1,#T_7ea7b_row10_col2,#T_7ea7b_row10_col3,#T_7ea7b_row10_col4,#T_7ea7b_row10_col5,#T_7ea7b_row11_col0,#T_7ea7b_row11_col1,#T_7ea7b_row11_col2,#T_7ea7b_row11_col3,#T_7ea7b_row11_col4,#T_7ea7b_row11_col5{\n",
       "            background:  #f2f2f2;\n",
       "        }</style><table id=\"T_7ea7b_\" ><thead>    <tr>        <th class=\"blank level0\" ></th>        <th class=\"col_heading level0 col0\" >0</th>        <th class=\"col_heading level0 col1\" >1</th>        <th class=\"col_heading level0 col2\" >2</th>        <th class=\"col_heading level0 col3\" >3</th>        <th class=\"col_heading level0 col4\" >4</th>        <th class=\"col_heading level0 col5\" >5</th>        <th class=\"col_heading level0 col6\" >6</th>        <th class=\"col_heading level0 col7\" >7</th>        <th class=\"col_heading level0 col8\" >8</th>        <th class=\"col_heading level0 col9\" >9</th>        <th class=\"col_heading level0 col10\" >10</th>        <th class=\"col_heading level0 col11\" >11</th>    </tr></thead><tbody>\n",
       "                <tr>\n",
       "                        <th id=\"T_7ea7b_level0_row0\" class=\"row_heading level0 row0\" >0</th>\n",
       "                        <td id=\"T_7ea7b_row0_col0\" class=\"data row0 col0\" >6.600e+03</td>\n",
       "                        <td id=\"T_7ea7b_row0_col1\" class=\"data row0 col1\" >-4.001e-11</td>\n",
       "                        <td id=\"T_7ea7b_row0_col2\" class=\"data row0 col2\" >9.900e+03</td>\n",
       "                        <td id=\"T_7ea7b_row0_col3\" class=\"data row0 col3\" >-6.600e+03</td>\n",
       "                        <td id=\"T_7ea7b_row0_col4\" class=\"data row0 col4\" >4.001e-11</td>\n",
       "                        <td id=\"T_7ea7b_row0_col5\" class=\"data row0 col5\" >9.900e+03</td>\n",
       "                        <td id=\"T_7ea7b_row0_col6\" class=\"data row0 col6\" >0.000e+00</td>\n",
       "                        <td id=\"T_7ea7b_row0_col7\" class=\"data row0 col7\" >0.000e+00</td>\n",
       "                        <td id=\"T_7ea7b_row0_col8\" class=\"data row0 col8\" >0.000e+00</td>\n",
       "                        <td id=\"T_7ea7b_row0_col9\" class=\"data row0 col9\" >0.000e+00</td>\n",
       "                        <td id=\"T_7ea7b_row0_col10\" class=\"data row0 col10\" >0.000e+00</td>\n",
       "                        <td id=\"T_7ea7b_row0_col11\" class=\"data row0 col11\" >0.000e+00</td>\n",
       "            </tr>\n",
       "            <tr>\n",
       "                        <th id=\"T_7ea7b_level0_row1\" class=\"row_heading level0 row1\" >1</th>\n",
       "                        <td id=\"T_7ea7b_row1_col0\" class=\"data row1 col0\" >-4.001e-11</td>\n",
       "                        <td id=\"T_7ea7b_row1_col1\" class=\"data row1 col1\" >6.600e+05</td>\n",
       "                        <td id=\"T_7ea7b_row1_col2\" class=\"data row1 col2\" >6.062e-13</td>\n",
       "                        <td id=\"T_7ea7b_row1_col3\" class=\"data row1 col3\" >4.001e-11</td>\n",
       "                        <td id=\"T_7ea7b_row1_col4\" class=\"data row1 col4\" >-6.600e+05</td>\n",
       "                        <td id=\"T_7ea7b_row1_col5\" class=\"data row1 col5\" >-1.206e-10</td>\n",
       "                        <td id=\"T_7ea7b_row1_col6\" class=\"data row1 col6\" >0.000e+00</td>\n",
       "                        <td id=\"T_7ea7b_row1_col7\" class=\"data row1 col7\" >0.000e+00</td>\n",
       "                        <td id=\"T_7ea7b_row1_col8\" class=\"data row1 col8\" >0.000e+00</td>\n",
       "                        <td id=\"T_7ea7b_row1_col9\" class=\"data row1 col9\" >0.000e+00</td>\n",
       "                        <td id=\"T_7ea7b_row1_col10\" class=\"data row1 col10\" >0.000e+00</td>\n",
       "                        <td id=\"T_7ea7b_row1_col11\" class=\"data row1 col11\" >0.000e+00</td>\n",
       "            </tr>\n",
       "            <tr>\n",
       "                        <th id=\"T_7ea7b_level0_row2\" class=\"row_heading level0 row2\" >2</th>\n",
       "                        <td id=\"T_7ea7b_row2_col0\" class=\"data row2 col0\" >9.900e+03</td>\n",
       "                        <td id=\"T_7ea7b_row2_col1\" class=\"data row2 col1\" >6.062e-13</td>\n",
       "                        <td id=\"T_7ea7b_row2_col2\" class=\"data row2 col2\" >1.980e+04</td>\n",
       "                        <td id=\"T_7ea7b_row2_col3\" class=\"data row2 col3\" >-9.900e+03</td>\n",
       "                        <td id=\"T_7ea7b_row2_col4\" class=\"data row2 col4\" >-6.062e-13</td>\n",
       "                        <td id=\"T_7ea7b_row2_col5\" class=\"data row2 col5\" >9.900e+03</td>\n",
       "                        <td id=\"T_7ea7b_row2_col6\" class=\"data row2 col6\" >0.000e+00</td>\n",
       "                        <td id=\"T_7ea7b_row2_col7\" class=\"data row2 col7\" >0.000e+00</td>\n",
       "                        <td id=\"T_7ea7b_row2_col8\" class=\"data row2 col8\" >0.000e+00</td>\n",
       "                        <td id=\"T_7ea7b_row2_col9\" class=\"data row2 col9\" >0.000e+00</td>\n",
       "                        <td id=\"T_7ea7b_row2_col10\" class=\"data row2 col10\" >0.000e+00</td>\n",
       "                        <td id=\"T_7ea7b_row2_col11\" class=\"data row2 col11\" >0.000e+00</td>\n",
       "            </tr>\n",
       "            <tr>\n",
       "                        <th id=\"T_7ea7b_level0_row3\" class=\"row_heading level0 row3\" >3</th>\n",
       "                        <td id=\"T_7ea7b_row3_col0\" class=\"data row3 col0\" >-6.600e+03</td>\n",
       "                        <td id=\"T_7ea7b_row3_col1\" class=\"data row3 col1\" >4.001e-11</td>\n",
       "                        <td id=\"T_7ea7b_row3_col2\" class=\"data row3 col2\" >-9.900e+03</td>\n",
       "                        <td id=\"T_7ea7b_row3_col3\" class=\"data row3 col3\" >6.666e+05</td>\n",
       "                        <td id=\"T_7ea7b_row3_col4\" class=\"data row3 col4\" >-4.001e-11</td>\n",
       "                        <td id=\"T_7ea7b_row3_col5\" class=\"data row3 col5\" >-9.900e+03</td>\n",
       "                        <td id=\"T_7ea7b_row3_col6\" class=\"data row3 col6\" >-6.600e+05</td>\n",
       "                        <td id=\"T_7ea7b_row3_col7\" class=\"data row3 col7\" >0.000e+00</td>\n",
       "                        <td id=\"T_7ea7b_row3_col8\" class=\"data row3 col8\" >0.000e+00</td>\n",
       "                        <td id=\"T_7ea7b_row3_col9\" class=\"data row3 col9\" >0.000e+00</td>\n",
       "                        <td id=\"T_7ea7b_row3_col10\" class=\"data row3 col10\" >0.000e+00</td>\n",
       "                        <td id=\"T_7ea7b_row3_col11\" class=\"data row3 col11\" >0.000e+00</td>\n",
       "            </tr>\n",
       "            <tr>\n",
       "                        <th id=\"T_7ea7b_level0_row4\" class=\"row_heading level0 row4\" >4</th>\n",
       "                        <td id=\"T_7ea7b_row4_col0\" class=\"data row4 col0\" >4.001e-11</td>\n",
       "                        <td id=\"T_7ea7b_row4_col1\" class=\"data row4 col1\" >-6.600e+05</td>\n",
       "                        <td id=\"T_7ea7b_row4_col2\" class=\"data row4 col2\" >-6.062e-13</td>\n",
       "                        <td id=\"T_7ea7b_row4_col3\" class=\"data row4 col3\" >-4.001e-11</td>\n",
       "                        <td id=\"T_7ea7b_row4_col4\" class=\"data row4 col4\" >6.666e+05</td>\n",
       "                        <td id=\"T_7ea7b_row4_col5\" class=\"data row4 col5\" >9.900e+03</td>\n",
       "                        <td id=\"T_7ea7b_row4_col6\" class=\"data row4 col6\" >0.000e+00</td>\n",
       "                        <td id=\"T_7ea7b_row4_col7\" class=\"data row4 col7\" >-6.600e+03</td>\n",
       "                        <td id=\"T_7ea7b_row4_col8\" class=\"data row4 col8\" >9.900e+03</td>\n",
       "                        <td id=\"T_7ea7b_row4_col9\" class=\"data row4 col9\" >0.000e+00</td>\n",
       "                        <td id=\"T_7ea7b_row4_col10\" class=\"data row4 col10\" >0.000e+00</td>\n",
       "                        <td id=\"T_7ea7b_row4_col11\" class=\"data row4 col11\" >0.000e+00</td>\n",
       "            </tr>\n",
       "            <tr>\n",
       "                        <th id=\"T_7ea7b_level0_row5\" class=\"row_heading level0 row5\" >5</th>\n",
       "                        <td id=\"T_7ea7b_row5_col0\" class=\"data row5 col0\" >9.900e+03</td>\n",
       "                        <td id=\"T_7ea7b_row5_col1\" class=\"data row5 col1\" >-1.206e-10</td>\n",
       "                        <td id=\"T_7ea7b_row5_col2\" class=\"data row5 col2\" >9.900e+03</td>\n",
       "                        <td id=\"T_7ea7b_row5_col3\" class=\"data row5 col3\" >-9.900e+03</td>\n",
       "                        <td id=\"T_7ea7b_row5_col4\" class=\"data row5 col4\" >9.900e+03</td>\n",
       "                        <td id=\"T_7ea7b_row5_col5\" class=\"data row5 col5\" >3.960e+04</td>\n",
       "                        <td id=\"T_7ea7b_row5_col6\" class=\"data row5 col6\" >0.000e+00</td>\n",
       "                        <td id=\"T_7ea7b_row5_col7\" class=\"data row5 col7\" >-9.900e+03</td>\n",
       "                        <td id=\"T_7ea7b_row5_col8\" class=\"data row5 col8\" >9.900e+03</td>\n",
       "                        <td id=\"T_7ea7b_row5_col9\" class=\"data row5 col9\" >0.000e+00</td>\n",
       "                        <td id=\"T_7ea7b_row5_col10\" class=\"data row5 col10\" >0.000e+00</td>\n",
       "                        <td id=\"T_7ea7b_row5_col11\" class=\"data row5 col11\" >0.000e+00</td>\n",
       "            </tr>\n",
       "            <tr>\n",
       "                        <th id=\"T_7ea7b_level0_row6\" class=\"row_heading level0 row6\" >6</th>\n",
       "                        <td id=\"T_7ea7b_row6_col0\" class=\"data row6 col0\" >0.000e+00</td>\n",
       "                        <td id=\"T_7ea7b_row6_col1\" class=\"data row6 col1\" >0.000e+00</td>\n",
       "                        <td id=\"T_7ea7b_row6_col2\" class=\"data row6 col2\" >0.000e+00</td>\n",
       "                        <td id=\"T_7ea7b_row6_col3\" class=\"data row6 col3\" >-6.600e+05</td>\n",
       "                        <td id=\"T_7ea7b_row6_col4\" class=\"data row6 col4\" >0.000e+00</td>\n",
       "                        <td id=\"T_7ea7b_row6_col5\" class=\"data row6 col5\" >0.000e+00</td>\n",
       "                        <td id=\"T_7ea7b_row6_col6\" class=\"data row6 col6\" >6.666e+05</td>\n",
       "                        <td id=\"T_7ea7b_row6_col7\" class=\"data row6 col7\" >4.001e-11</td>\n",
       "                        <td id=\"T_7ea7b_row6_col8\" class=\"data row6 col8\" >-9.900e+03</td>\n",
       "                        <td id=\"T_7ea7b_row6_col9\" class=\"data row6 col9\" >-6.600e+03</td>\n",
       "                        <td id=\"T_7ea7b_row6_col10\" class=\"data row6 col10\" >-4.001e-11</td>\n",
       "                        <td id=\"T_7ea7b_row6_col11\" class=\"data row6 col11\" >-9.900e+03</td>\n",
       "            </tr>\n",
       "            <tr>\n",
       "                        <th id=\"T_7ea7b_level0_row7\" class=\"row_heading level0 row7\" >7</th>\n",
       "                        <td id=\"T_7ea7b_row7_col0\" class=\"data row7 col0\" >0.000e+00</td>\n",
       "                        <td id=\"T_7ea7b_row7_col1\" class=\"data row7 col1\" >0.000e+00</td>\n",
       "                        <td id=\"T_7ea7b_row7_col2\" class=\"data row7 col2\" >0.000e+00</td>\n",
       "                        <td id=\"T_7ea7b_row7_col3\" class=\"data row7 col3\" >0.000e+00</td>\n",
       "                        <td id=\"T_7ea7b_row7_col4\" class=\"data row7 col4\" >-6.600e+03</td>\n",
       "                        <td id=\"T_7ea7b_row7_col5\" class=\"data row7 col5\" >-9.900e+03</td>\n",
       "                        <td id=\"T_7ea7b_row7_col6\" class=\"data row7 col6\" >4.001e-11</td>\n",
       "                        <td id=\"T_7ea7b_row7_col7\" class=\"data row7 col7\" >6.666e+05</td>\n",
       "                        <td id=\"T_7ea7b_row7_col8\" class=\"data row7 col8\" >-9.900e+03</td>\n",
       "                        <td id=\"T_7ea7b_row7_col9\" class=\"data row7 col9\" >-4.001e-11</td>\n",
       "                        <td id=\"T_7ea7b_row7_col10\" class=\"data row7 col10\" >-6.600e+05</td>\n",
       "                        <td id=\"T_7ea7b_row7_col11\" class=\"data row7 col11\" >-1.206e-10</td>\n",
       "            </tr>\n",
       "            <tr>\n",
       "                        <th id=\"T_7ea7b_level0_row8\" class=\"row_heading level0 row8\" >8</th>\n",
       "                        <td id=\"T_7ea7b_row8_col0\" class=\"data row8 col0\" >0.000e+00</td>\n",
       "                        <td id=\"T_7ea7b_row8_col1\" class=\"data row8 col1\" >0.000e+00</td>\n",
       "                        <td id=\"T_7ea7b_row8_col2\" class=\"data row8 col2\" >0.000e+00</td>\n",
       "                        <td id=\"T_7ea7b_row8_col3\" class=\"data row8 col3\" >0.000e+00</td>\n",
       "                        <td id=\"T_7ea7b_row8_col4\" class=\"data row8 col4\" >9.900e+03</td>\n",
       "                        <td id=\"T_7ea7b_row8_col5\" class=\"data row8 col5\" >9.900e+03</td>\n",
       "                        <td id=\"T_7ea7b_row8_col6\" class=\"data row8 col6\" >-9.900e+03</td>\n",
       "                        <td id=\"T_7ea7b_row8_col7\" class=\"data row8 col7\" >-9.900e+03</td>\n",
       "                        <td id=\"T_7ea7b_row8_col8\" class=\"data row8 col8\" >3.960e+04</td>\n",
       "                        <td id=\"T_7ea7b_row8_col9\" class=\"data row8 col9\" >9.900e+03</td>\n",
       "                        <td id=\"T_7ea7b_row8_col10\" class=\"data row8 col10\" >-6.062e-13</td>\n",
       "                        <td id=\"T_7ea7b_row8_col11\" class=\"data row8 col11\" >9.900e+03</td>\n",
       "            </tr>\n",
       "            <tr>\n",
       "                        <th id=\"T_7ea7b_level0_row9\" class=\"row_heading level0 row9\" >9</th>\n",
       "                        <td id=\"T_7ea7b_row9_col0\" class=\"data row9 col0\" >0.000e+00</td>\n",
       "                        <td id=\"T_7ea7b_row9_col1\" class=\"data row9 col1\" >0.000e+00</td>\n",
       "                        <td id=\"T_7ea7b_row9_col2\" class=\"data row9 col2\" >0.000e+00</td>\n",
       "                        <td id=\"T_7ea7b_row9_col3\" class=\"data row9 col3\" >0.000e+00</td>\n",
       "                        <td id=\"T_7ea7b_row9_col4\" class=\"data row9 col4\" >0.000e+00</td>\n",
       "                        <td id=\"T_7ea7b_row9_col5\" class=\"data row9 col5\" >0.000e+00</td>\n",
       "                        <td id=\"T_7ea7b_row9_col6\" class=\"data row9 col6\" >-6.600e+03</td>\n",
       "                        <td id=\"T_7ea7b_row9_col7\" class=\"data row9 col7\" >-4.001e-11</td>\n",
       "                        <td id=\"T_7ea7b_row9_col8\" class=\"data row9 col8\" >9.900e+03</td>\n",
       "                        <td id=\"T_7ea7b_row9_col9\" class=\"data row9 col9\" >6.600e+03</td>\n",
       "                        <td id=\"T_7ea7b_row9_col10\" class=\"data row9 col10\" >4.001e-11</td>\n",
       "                        <td id=\"T_7ea7b_row9_col11\" class=\"data row9 col11\" >9.900e+03</td>\n",
       "            </tr>\n",
       "            <tr>\n",
       "                        <th id=\"T_7ea7b_level0_row10\" class=\"row_heading level0 row10\" >10</th>\n",
       "                        <td id=\"T_7ea7b_row10_col0\" class=\"data row10 col0\" >0.000e+00</td>\n",
       "                        <td id=\"T_7ea7b_row10_col1\" class=\"data row10 col1\" >0.000e+00</td>\n",
       "                        <td id=\"T_7ea7b_row10_col2\" class=\"data row10 col2\" >0.000e+00</td>\n",
       "                        <td id=\"T_7ea7b_row10_col3\" class=\"data row10 col3\" >0.000e+00</td>\n",
       "                        <td id=\"T_7ea7b_row10_col4\" class=\"data row10 col4\" >0.000e+00</td>\n",
       "                        <td id=\"T_7ea7b_row10_col5\" class=\"data row10 col5\" >0.000e+00</td>\n",
       "                        <td id=\"T_7ea7b_row10_col6\" class=\"data row10 col6\" >-4.001e-11</td>\n",
       "                        <td id=\"T_7ea7b_row10_col7\" class=\"data row10 col7\" >-6.600e+05</td>\n",
       "                        <td id=\"T_7ea7b_row10_col8\" class=\"data row10 col8\" >-6.062e-13</td>\n",
       "                        <td id=\"T_7ea7b_row10_col9\" class=\"data row10 col9\" >4.001e-11</td>\n",
       "                        <td id=\"T_7ea7b_row10_col10\" class=\"data row10 col10\" >6.600e+05</td>\n",
       "                        <td id=\"T_7ea7b_row10_col11\" class=\"data row10 col11\" >1.206e-10</td>\n",
       "            </tr>\n",
       "            <tr>\n",
       "                        <th id=\"T_7ea7b_level0_row11\" class=\"row_heading level0 row11\" >11</th>\n",
       "                        <td id=\"T_7ea7b_row11_col0\" class=\"data row11 col0\" >0.000e+00</td>\n",
       "                        <td id=\"T_7ea7b_row11_col1\" class=\"data row11 col1\" >0.000e+00</td>\n",
       "                        <td id=\"T_7ea7b_row11_col2\" class=\"data row11 col2\" >0.000e+00</td>\n",
       "                        <td id=\"T_7ea7b_row11_col3\" class=\"data row11 col3\" >0.000e+00</td>\n",
       "                        <td id=\"T_7ea7b_row11_col4\" class=\"data row11 col4\" >0.000e+00</td>\n",
       "                        <td id=\"T_7ea7b_row11_col5\" class=\"data row11 col5\" >0.000e+00</td>\n",
       "                        <td id=\"T_7ea7b_row11_col6\" class=\"data row11 col6\" >-9.900e+03</td>\n",
       "                        <td id=\"T_7ea7b_row11_col7\" class=\"data row11 col7\" >-1.206e-10</td>\n",
       "                        <td id=\"T_7ea7b_row11_col8\" class=\"data row11 col8\" >9.900e+03</td>\n",
       "                        <td id=\"T_7ea7b_row11_col9\" class=\"data row11 col9\" >9.900e+03</td>\n",
       "                        <td id=\"T_7ea7b_row11_col10\" class=\"data row11 col10\" >1.206e-10</td>\n",
       "                        <td id=\"T_7ea7b_row11_col11\" class=\"data row11 col11\" >1.980e+04</td>\n",
       "            </tr>\n",
       "    </tbody></table>"
      ],
      "text/plain": [
       "<pandas.io.formats.style.Styler at 0x1a4de5f85e0>"
      ]
     },
     "execution_count": 33,
     "metadata": {},
     "output_type": "execute_result"
    }
   ],
   "source": [
    "modelMatrix.style\\\n",
    ".format('{:.3e}')\\\n",
    ".applymap(highlightNotZero)\\\n",
    ".set_table_styles([{\"selector\" : \"\", \"props\" : [(\"font-family\", \"arial\")]}]) \n"
   ]
  },
  {
   "cell_type": "markdown",
   "metadata": {},
   "source": [
    "## Matica tuhosti zohľadňujúca okrajové podmienky"
   ]
  },
  {
   "cell_type": "code",
   "execution_count": 34,
   "metadata": {},
   "outputs": [],
   "source": [
    "def loadVector(F1,F2,F3):\n",
    "    x = F1.add(F2,fill_value=0)\n",
    "    loadVector = x.add(F3,fill_value=0)\n",
    "    return loadVector"
   ]
  },
  {
   "cell_type": "markdown",
   "metadata": {},
   "source": [
    "Silový vektor celého rámu"
   ]
  },
  {
   "cell_type": "code",
   "execution_count": 35,
   "metadata": {},
   "outputs": [
    {
     "data": {
      "text/html": [
       "<div>\n",
       "<style scoped>\n",
       "    .dataframe tbody tr th:only-of-type {\n",
       "        vertical-align: middle;\n",
       "    }\n",
       "\n",
       "    .dataframe tbody tr th {\n",
       "        vertical-align: top;\n",
       "    }\n",
       "\n",
       "    .dataframe thead th {\n",
       "        text-align: right;\n",
       "    }\n",
       "</style>\n",
       "<table border=\"1\" class=\"dataframe\">\n",
       "  <thead>\n",
       "    <tr style=\"text-align: right;\">\n",
       "      <th></th>\n",
       "      <th>0</th>\n",
       "    </tr>\n",
       "  </thead>\n",
       "  <tbody>\n",
       "    <tr>\n",
       "      <th>0</th>\n",
       "      <td>-7.500000e+00</td>\n",
       "    </tr>\n",
       "    <tr>\n",
       "      <th>1</th>\n",
       "      <td>-4.592425e-16</td>\n",
       "    </tr>\n",
       "    <tr>\n",
       "      <th>2</th>\n",
       "      <td>-3.750000e+00</td>\n",
       "    </tr>\n",
       "    <tr>\n",
       "      <th>3</th>\n",
       "      <td>-7.500000e+00</td>\n",
       "    </tr>\n",
       "    <tr>\n",
       "      <th>4</th>\n",
       "      <td>-2.000000e+01</td>\n",
       "    </tr>\n",
       "    <tr>\n",
       "      <th>5</th>\n",
       "      <td>-1.125000e+01</td>\n",
       "    </tr>\n",
       "    <tr>\n",
       "      <th>6</th>\n",
       "      <td>0.000000e+00</td>\n",
       "    </tr>\n",
       "    <tr>\n",
       "      <th>7</th>\n",
       "      <td>-2.000000e+01</td>\n",
       "    </tr>\n",
       "    <tr>\n",
       "      <th>8</th>\n",
       "      <td>1.500000e+01</td>\n",
       "    </tr>\n",
       "    <tr>\n",
       "      <th>9</th>\n",
       "      <td>0.000000e+00</td>\n",
       "    </tr>\n",
       "    <tr>\n",
       "      <th>10</th>\n",
       "      <td>0.000000e+00</td>\n",
       "    </tr>\n",
       "    <tr>\n",
       "      <th>11</th>\n",
       "      <td>0.000000e+00</td>\n",
       "    </tr>\n",
       "  </tbody>\n",
       "</table>\n",
       "</div>"
      ],
      "text/plain": [
       "               0\n",
       "0  -7.500000e+00\n",
       "1  -4.592425e-16\n",
       "2  -3.750000e+00\n",
       "3  -7.500000e+00\n",
       "4  -2.000000e+01\n",
       "5  -1.125000e+01\n",
       "6   0.000000e+00\n",
       "7  -2.000000e+01\n",
       "8   1.500000e+01\n",
       "9   0.000000e+00\n",
       "10  0.000000e+00\n",
       "11  0.000000e+00"
      ]
     },
     "execution_count": 35,
     "metadata": {},
     "output_type": "execute_result"
    }
   ],
   "source": [
    "loadVector = loadVector(F1,F2,F3)\n",
    "loadVector"
   ]
  },
  {
   "cell_type": "code",
   "execution_count": null,
   "metadata": {},
   "outputs": [],
   "source": []
  }
 ],
 "metadata": {
  "kernelspec": {
   "display_name": "Python 3.8.8 ('base')",
   "language": "python",
   "name": "python3"
  },
  "language_info": {
   "codemirror_mode": {
    "name": "ipython",
    "version": 3
   },
   "file_extension": ".py",
   "mimetype": "text/x-python",
   "name": "python",
   "nbconvert_exporter": "python",
   "pygments_lexer": "ipython3",
   "version": "3.8.8"
  },
  "orig_nbformat": 4,
  "vscode": {
   "interpreter": {
    "hash": "75918162d800b4b0afe9003a3a21e108f30b56a8709e9e92681416565459cfc0"
   }
  }
 },
 "nbformat": 4,
 "nbformat_minor": 2
}
