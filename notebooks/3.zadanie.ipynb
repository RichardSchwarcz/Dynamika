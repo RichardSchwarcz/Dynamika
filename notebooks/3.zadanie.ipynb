{
 "cells": [
  {
   "attachments": {},
   "cell_type": "markdown",
   "metadata": {},
   "source": [
    "Richard Schwarcz, 2.NKDS\n",
    "# 3.Zadanie"
   ]
  },
  {
   "cell_type": "code",
   "execution_count": 49,
   "metadata": {},
   "outputs": [],
   "source": [
    "import os\n",
    "import sys\n",
    "\n",
    "__file__ = os.path.abspath('3.zadanie.ipynb')\n",
    "baseName = os.path.basename(__file__)\n",
    "dirName = os.path.dirname(__file__)\n",
    "sys.path.append(dirName + r'/..')"
   ]
  },
  {
   "cell_type": "code",
   "execution_count": 50,
   "metadata": {},
   "outputs": [],
   "source": [
    "from dataclasses import dataclass, field\n",
    "import matplotlib.pyplot as plt\n",
    "import numpy as np\n",
    "import pandas as pd\n",
    "pd.set_option(\"display.precision\", 4)\n",
    "\n",
    "from modules.helpers import *\n",
    "from modules.Z3.model import * "
   ]
  },
  {
   "cell_type": "code",
   "execution_count": 5,
   "metadata": {},
   "outputs": [],
   "source": [
    "# lano\n",
    "L = 60 #m\n",
    "H = 4 #m \n",
    "FI = 20 #mm\n",
    "E = 165*10**6 #kPa\n",
    "\n",
    "# sila\n",
    "P = 300 #kN"
   ]
  },
  {
   "attachments": {},
   "cell_type": "markdown",
   "metadata": {},
   "source": [
    "# Lineárny výpočet"
   ]
  },
  {
   "cell_type": "code",
   "execution_count": 6,
   "metadata": {},
   "outputs": [
    {
     "name": "stdout",
     "output_type": "stream",
     "text": [
      "A = 0.0003141592653589793 m2\n"
     ]
    }
   ],
   "source": [
    "barProperties = BarProps(FI, E)\n",
    "print(f'A = {barProperties.A} m2')"
   ]
  },
  {
   "cell_type": "code",
   "execution_count": 7,
   "metadata": {},
   "outputs": [],
   "source": [
    "p1 = Point(x=0, y=0, number=1)\n",
    "p2 = Point(x=L/2, y=-H, number=2)\n",
    "p3 = Point(x=L, y=0, number=3)"
   ]
  },
  {
   "cell_type": "code",
   "execution_count": 8,
   "metadata": {},
   "outputs": [
    {
     "name": "stdout",
     "output_type": "stream",
     "text": [
      "lenght of bar 1 = 30.265 m\n",
      "lenght of bar 2 = 30.265 m\n",
      "angle of bar 1 = -0.13255 rad\n",
      "angle of bar 2 = 0.13255 rad\n"
     ]
    }
   ],
   "source": [
    "b1 = Bar_linear(point_a=p1, point_b=p2, bar_props=barProperties)\n",
    "b2 = Bar_linear(point_a=p2, point_b=p3, bar_props=barProperties)\n",
    "print(f'lenght of bar 1 = {b1.len:.3f} m\\nlenght of bar 2 = {b2.len:.3f} m\\nangle of bar 1 = {b1.angle:.5f} rad\\nangle of bar 2 = {b2.angle:.5f} rad')"
   ]
  },
  {
   "cell_type": "code",
   "execution_count": 9,
   "metadata": {},
   "outputs": [
    {
     "data": {
      "text/plain": [
       "Text(45.13274595042156, -2.0, 'fi = 0.000314 m')"
      ]
     },
     "execution_count": 9,
     "metadata": {},
     "output_type": "execute_result"
    },
    {
     "data": {
      "image/png": "[encoded data removed]",
      "text/plain": [
       "<Figure size 432x288 with 1 Axes>"
      ]
     },
     "metadata": {
      "needs_background": "light"
     },
     "output_type": "display_data"
    }
   ],
   "source": [
    "plt.plot([p1.x, p2.x, p3.x], [p1.y, p2.y, p3.y], 'ro-')\n",
    "for p in [p1, p2, p3]:\n",
    "    plt.annotate(f'{p.number}', (p.x, p.y), xytext=(7, 7), textcoords='offset points', backgroundcolor='white')\n",
    "\n",
    "plt.annotate(f'P = {P}', xy=(p2.x, p2.y), xytext=(p2.x, p2.y + P/100), arrowprops=dict(facecolor='black', shrink=0.05))\n",
    "plt.annotate(f'{b1.len:.2f} m', xy=(p1.x, p1.y), xytext=(p1.x + b1.len/2, p1.y-H/2), backgroundcolor='white')\n",
    "plt.annotate(f'fi = {barProperties.A:.6f} m', xy=(p2.x, p2.y), xytext=(p2.x + b2.len/2, p2.y+H/2), backgroundcolor='white')"
   ]
  },
  {
   "cell_type": "code",
   "execution_count": 10,
   "metadata": {},
   "outputs": [
    {
     "data": {
      "text/html": [
       "<div>\n",
       "<style scoped>\n",
       "    .dataframe tbody tr th:only-of-type {\n",
       "        vertical-align: middle;\n",
       "    }\n",
       "\n",
       "    .dataframe tbody tr th {\n",
       "        vertical-align: top;\n",
       "    }\n",
       "\n",
       "    .dataframe thead th {\n",
       "        text-align: right;\n",
       "    }\n",
       "</style>\n",
       "<table border=\"1\" class=\"dataframe\">\n",
       "  <thead>\n",
       "    <tr style=\"text-align: right;\">\n",
       "      <th></th>\n",
       "      <th>0</th>\n",
       "      <th>1</th>\n",
       "      <th>2</th>\n",
       "      <th>3</th>\n",
       "      <th>4</th>\n",
       "      <th>5</th>\n",
       "    </tr>\n",
       "  </thead>\n",
       "  <tbody>\n",
       "    <tr>\n",
       "      <th>0</th>\n",
       "      <td>1682.8024</td>\n",
       "      <td>-224.3736</td>\n",
       "      <td>0.0</td>\n",
       "      <td>-1682.8024</td>\n",
       "      <td>224.3736</td>\n",
       "      <td>0.0</td>\n",
       "    </tr>\n",
       "    <tr>\n",
       "      <th>1</th>\n",
       "      <td>-224.3736</td>\n",
       "      <td>29.9165</td>\n",
       "      <td>0.0</td>\n",
       "      <td>224.3736</td>\n",
       "      <td>-29.9165</td>\n",
       "      <td>0.0</td>\n",
       "    </tr>\n",
       "    <tr>\n",
       "      <th>2</th>\n",
       "      <td>0.0000</td>\n",
       "      <td>0.0000</td>\n",
       "      <td>0.0</td>\n",
       "      <td>0.0000</td>\n",
       "      <td>0.0000</td>\n",
       "      <td>0.0</td>\n",
       "    </tr>\n",
       "    <tr>\n",
       "      <th>3</th>\n",
       "      <td>-1682.8024</td>\n",
       "      <td>224.3736</td>\n",
       "      <td>0.0</td>\n",
       "      <td>1682.8024</td>\n",
       "      <td>-224.3736</td>\n",
       "      <td>0.0</td>\n",
       "    </tr>\n",
       "    <tr>\n",
       "      <th>4</th>\n",
       "      <td>224.3736</td>\n",
       "      <td>-29.9165</td>\n",
       "      <td>0.0</td>\n",
       "      <td>-224.3736</td>\n",
       "      <td>29.9165</td>\n",
       "      <td>0.0</td>\n",
       "    </tr>\n",
       "    <tr>\n",
       "      <th>5</th>\n",
       "      <td>0.0000</td>\n",
       "      <td>0.0000</td>\n",
       "      <td>0.0</td>\n",
       "      <td>0.0000</td>\n",
       "      <td>0.0000</td>\n",
       "      <td>0.0</td>\n",
       "    </tr>\n",
       "  </tbody>\n",
       "</table>\n",
       "</div>"
      ],
      "text/plain": [
       "           0         1    2          3         4    5\n",
       "0  1682.8024 -224.3736  0.0 -1682.8024  224.3736  0.0\n",
       "1  -224.3736   29.9165  0.0   224.3736  -29.9165  0.0\n",
       "2     0.0000    0.0000  0.0     0.0000    0.0000  0.0\n",
       "3 -1682.8024  224.3736  0.0  1682.8024 -224.3736  0.0\n",
       "4   224.3736  -29.9165  0.0  -224.3736   29.9165  0.0\n",
       "5     0.0000    0.0000  0.0     0.0000    0.0000  0.0"
      ]
     },
     "execution_count": 10,
     "metadata": {},
     "output_type": "execute_result"
    }
   ],
   "source": [
    "b1.stiffnessMatrix_GSS['matrix']"
   ]
  },
  {
   "cell_type": "code",
   "execution_count": 11,
   "metadata": {},
   "outputs": [
    {
     "data": {
      "text/html": [
       "<div>\n",
       "<style scoped>\n",
       "    .dataframe tbody tr th:only-of-type {\n",
       "        vertical-align: middle;\n",
       "    }\n",
       "\n",
       "    .dataframe tbody tr th {\n",
       "        vertical-align: top;\n",
       "    }\n",
       "\n",
       "    .dataframe thead th {\n",
       "        text-align: right;\n",
       "    }\n",
       "</style>\n",
       "<table border=\"1\" class=\"dataframe\">\n",
       "  <thead>\n",
       "    <tr style=\"text-align: right;\">\n",
       "      <th></th>\n",
       "      <th>0</th>\n",
       "      <th>1</th>\n",
       "      <th>2</th>\n",
       "      <th>3</th>\n",
       "      <th>4</th>\n",
       "      <th>5</th>\n",
       "    </tr>\n",
       "  </thead>\n",
       "  <tbody>\n",
       "    <tr>\n",
       "      <th>0</th>\n",
       "      <td>1682.8024</td>\n",
       "      <td>224.3736</td>\n",
       "      <td>0.0</td>\n",
       "      <td>-1682.8024</td>\n",
       "      <td>-224.3736</td>\n",
       "      <td>0.0</td>\n",
       "    </tr>\n",
       "    <tr>\n",
       "      <th>1</th>\n",
       "      <td>224.3736</td>\n",
       "      <td>29.9165</td>\n",
       "      <td>0.0</td>\n",
       "      <td>-224.3736</td>\n",
       "      <td>-29.9165</td>\n",
       "      <td>0.0</td>\n",
       "    </tr>\n",
       "    <tr>\n",
       "      <th>2</th>\n",
       "      <td>0.0000</td>\n",
       "      <td>0.0000</td>\n",
       "      <td>0.0</td>\n",
       "      <td>0.0000</td>\n",
       "      <td>0.0000</td>\n",
       "      <td>0.0</td>\n",
       "    </tr>\n",
       "    <tr>\n",
       "      <th>3</th>\n",
       "      <td>-1682.8024</td>\n",
       "      <td>-224.3736</td>\n",
       "      <td>0.0</td>\n",
       "      <td>1682.8024</td>\n",
       "      <td>224.3736</td>\n",
       "      <td>0.0</td>\n",
       "    </tr>\n",
       "    <tr>\n",
       "      <th>4</th>\n",
       "      <td>-224.3736</td>\n",
       "      <td>-29.9165</td>\n",
       "      <td>0.0</td>\n",
       "      <td>224.3736</td>\n",
       "      <td>29.9165</td>\n",
       "      <td>0.0</td>\n",
       "    </tr>\n",
       "    <tr>\n",
       "      <th>5</th>\n",
       "      <td>0.0000</td>\n",
       "      <td>0.0000</td>\n",
       "      <td>0.0</td>\n",
       "      <td>0.0000</td>\n",
       "      <td>0.0000</td>\n",
       "      <td>0.0</td>\n",
       "    </tr>\n",
       "  </tbody>\n",
       "</table>\n",
       "</div>"
      ],
      "text/plain": [
       "           0         1    2          3         4    5\n",
       "0  1682.8024  224.3736  0.0 -1682.8024 -224.3736  0.0\n",
       "1   224.3736   29.9165  0.0  -224.3736  -29.9165  0.0\n",
       "2     0.0000    0.0000  0.0     0.0000    0.0000  0.0\n",
       "3 -1682.8024 -224.3736  0.0  1682.8024  224.3736  0.0\n",
       "4  -224.3736  -29.9165  0.0   224.3736   29.9165  0.0\n",
       "5     0.0000    0.0000  0.0     0.0000    0.0000  0.0"
      ]
     },
     "execution_count": 11,
     "metadata": {},
     "output_type": "execute_result"
    }
   ],
   "source": [
    "b2.stiffnessMatrix_GSS['matrix']"
   ]
  },
  {
   "cell_type": "code",
   "execution_count": 12,
   "metadata": {},
   "outputs": [
    {
     "data": {
      "text/plain": [
       "array([[3365.60474663,    0.        ,    0.        ],\n",
       "       [   0.        ,   59.83297327,    0.        ],\n",
       "       [   0.        ,    0.        ,    0.        ]])"
      ]
     },
     "execution_count": 12,
     "metadata": {},
     "output_type": "execute_result"
    }
   ],
   "source": [
    "kbb = b1.stiffnessMatrix_GSS['kbb']\n",
    "kaa = b2.stiffnessMatrix_GSS['kaa']\n",
    "K = kbb + kaa\n",
    "K"
   ]
  },
  {
   "cell_type": "code",
   "execution_count": 13,
   "metadata": {},
   "outputs": [
    {
     "data": {
      "text/plain": [
       "array([[0.00029712, 0.        ],\n",
       "       [0.        , 0.01671319]])"
      ]
     },
     "execution_count": 13,
     "metadata": {},
     "output_type": "execute_result"
    }
   ],
   "source": [
    "# drop last column and row to be able to calculate inverse matrix\n",
    "K = K[:-1, :-1]\n",
    "K_inv = np.linalg.inv(K)\n",
    "K_inv"
   ]
  },
  {
   "cell_type": "code",
   "execution_count": 14,
   "metadata": {},
   "outputs": [
    {
     "name": "stdout",
     "output_type": "stream",
     "text": [
      "displacement of point 1 = 0.00 m\n",
      "displacement of point 2 = 5.01 m\n"
     ]
    }
   ],
   "source": [
    "displacements = K_inv @ np.array([[0], [P]])\n",
    "print(f'displacement of point 1 = {displacements[0][0]:.2f} m\\ndisplacement of point 2 = {displacements[1][0]:.2f} m')"
   ]
  },
  {
   "attachments": {},
   "cell_type": "markdown",
   "metadata": {},
   "source": [
    "Koncove sily"
   ]
  },
  {
   "cell_type": "code",
   "execution_count": 15,
   "metadata": {},
   "outputs": [
    {
     "name": "stdout",
     "output_type": "stream",
     "text": [
      "end force of bar 1 point 1 = 1125.00 kN\n",
      "end force of bar 1 point 2 = -150.00 kN\n"
     ]
    }
   ],
   "source": [
    "kab = b1.stiffnessMatrix_GSS['kab'][:-1, :-1]\n",
    "Fa = kab @ displacements\n",
    "# print end forces\n",
    "print(f'end force of bar 1 point 1 = {Fa[0][0]:.2f} kN\\nend force of bar 1 point 2 = {Fa[1][0]:.2f} kN')"
   ]
  },
  {
   "cell_type": "code",
   "execution_count": 16,
   "metadata": {},
   "outputs": [
    {
     "name": "stdout",
     "output_type": "stream",
     "text": [
      "end force of bar 2 point 1 = -1125.00 kN\n",
      "end force of bar 2 point 2 = 150.00 kN\n"
     ]
    }
   ],
   "source": [
    "kbb = b1.stiffnessMatrix_GSS['kbb'][:-1, :-1]\n",
    "Fb = kbb @ displacements\n",
    "# print end forces\n",
    "print(f'end force of bar 2 point 1 = {Fb[0][0]:.2f} kN\\nend force of bar 2 point 2 = {Fb[1][0]:.2f} kN')"
   ]
  },
  {
   "attachments": {},
   "cell_type": "markdown",
   "metadata": {},
   "source": [
    "vnutorne sily"
   ]
  },
  {
   "cell_type": "code",
   "execution_count": 17,
   "metadata": {},
   "outputs": [
    {
     "name": "stdout",
     "output_type": "stream",
     "text": [
      "N = -1134.96 kN\n"
     ]
    }
   ],
   "source": [
    "intF = b1.A0_matrix[:-1, :-1] @ Fb\n",
    "print(f'N = {intF[0][0]:.2f} kN')"
   ]
  },
  {
   "attachments": {},
   "cell_type": "markdown",
   "metadata": {},
   "source": [
    "# Nelineárny výpočet\n",
    "## 1. Prírastok"
   ]
  },
  {
   "cell_type": "code",
   "execution_count": 18,
   "metadata": {},
   "outputs": [],
   "source": [
    "barProperties = BarProps(FI, E)"
   ]
  },
  {
   "cell_type": "code",
   "execution_count": 19,
   "metadata": {},
   "outputs": [],
   "source": [
    "p1_1 = Point(x=0, y=0, number=1)\n",
    "p2_1 = Point(x=L/2, y=H, number=2)\n",
    "p3_1 = Point(x=L, y=0, number=3)"
   ]
  },
  {
   "cell_type": "code",
   "execution_count": 20,
   "metadata": {},
   "outputs": [],
   "source": [
    "b1_1 = Bar(point_a=p1_1, point_b=p2_1, bar_props=barProperties)\n",
    "b2_1 = Bar(point_a=p2_1, point_b=p3_1, bar_props=barProperties)"
   ]
  },
  {
   "cell_type": "code",
   "execution_count": 21,
   "metadata": {},
   "outputs": [
    {
     "data": {
      "text/plain": [
       "array([[ 1682.80237331,   224.37364978, -1682.80237331,  -224.37364978],\n",
       "       [  224.37364978,    29.91648664,  -224.37364978,   -29.91648664],\n",
       "       [-1682.80237331,  -224.37364978,  1682.80237331,   224.37364978],\n",
       "       [ -224.37364978,   -29.91648664,   224.37364978,    29.91648664]])"
      ]
     },
     "execution_count": 21,
     "metadata": {},
     "output_type": "execute_result"
    }
   ],
   "source": [
    "b1_1.stiffnessMatrix_GSS"
   ]
  },
  {
   "cell_type": "code",
   "execution_count": 22,
   "metadata": {},
   "outputs": [],
   "source": [
    "def totalStiffnessMatrix_GSS(bars):\n",
    "    # create 6x6 matrix of zeros because we have 3 points and each point has 2 DOF\n",
    "    stiffnessMatrix = np.zeros((6, 6))\n",
    "    # fill matrix with values of bar1\n",
    "    stiffnessMatrix[0:4, 0:4] = bars[0].stiffnessMatrix_GSS\n",
    "    # fill matrix with values of bar2 and sum with values of bar1\n",
    "    stiffnessMatrix[2:6, 2:6] += bars[1].stiffnessMatrix_GSS\n",
    "    # print matrix and round values to 2 decimal places\n",
    "    return stiffnessMatrix.round(2)\n"
   ]
  },
  {
   "cell_type": "code",
   "execution_count": 23,
   "metadata": {},
   "outputs": [
    {
     "data": {
      "text/plain": [
       "array([[ 1682.8 ,   224.37, -1682.8 ,  -224.37,     0.  ,     0.  ],\n",
       "       [  224.37,    29.92,  -224.37,   -29.92,     0.  ,     0.  ],\n",
       "       [-1682.8 ,  -224.37,  3365.6 ,     0.  , -1682.8 ,   224.37],\n",
       "       [ -224.37,   -29.92,     0.  ,    59.83,   224.37,   -29.92],\n",
       "       [    0.  ,     0.  , -1682.8 ,   224.37,  1682.8 ,  -224.37],\n",
       "       [    0.  ,     0.  ,   224.37,   -29.92,  -224.37,    29.92]])"
      ]
     },
     "execution_count": 23,
     "metadata": {},
     "output_type": "execute_result"
    }
   ],
   "source": [
    "stiffnessMatrix = totalStiffnessMatrix_GSS([b1_1, b2_1])\n",
    "stiffnessMatrix"
   ]
  },
  {
   "cell_type": "code",
   "execution_count": 24,
   "metadata": {},
   "outputs": [
    {
     "data": {
      "text/plain": [
       "array([[  0.],\n",
       "       [  0.],\n",
       "       [  0.],\n",
       "       [100.],\n",
       "       [  0.],\n",
       "       [  0.]])"
      ]
     },
     "execution_count": 24,
     "metadata": {},
     "output_type": "execute_result"
    }
   ],
   "source": [
    "loadVector = Load(3, 3, 300).vector\n",
    "loadVector"
   ]
  },
  {
   "cell_type": "code",
   "execution_count": 25,
   "metadata": {},
   "outputs": [],
   "source": [
    "def displacementVector(stiffnessMatrix, loadVector):\n",
    "    # inverse matrix of stiffnessMatrix at point 2 and multiply with loadVector at point 2\n",
    "    return np.linalg.inv(stiffnessMatrix[2:4, 2:4]) @ loadVector[2:4]"
   ]
  },
  {
   "cell_type": "code",
   "execution_count": 26,
   "metadata": {},
   "outputs": [
    {
     "data": {
      "text/plain": [
       "array([[0.        ],\n",
       "       [1.67140231]])"
      ]
     },
     "execution_count": 26,
     "metadata": {},
     "output_type": "execute_result"
    }
   ],
   "source": [
    "displacementVector_1 = displacementVector(stiffnessMatrix, loadVector)\n",
    "displacementVector_1"
   ]
  },
  {
   "cell_type": "code",
   "execution_count": 27,
   "metadata": {},
   "outputs": [],
   "source": [
    "b1_1.points_displacements_setter(point_a=np.array([[0], [0]]), point_b=displacementVector_1)\n",
    "b2_1.points_displacements_setter(point_a=displacementVector_1, point_b=np.array([[0], [0]]))"
   ]
  },
  {
   "cell_type": "code",
   "execution_count": 28,
   "metadata": {},
   "outputs": [
    {
     "data": {
      "text/plain": [
       "array([[-3.78337449e+02],\n",
       "       [ 7.10542736e-15],\n",
       "       [ 3.78337449e+02],\n",
       "       [-7.10542736e-15]])"
      ]
     },
     "execution_count": 28,
     "metadata": {},
     "output_type": "execute_result"
    }
   ],
   "source": [
    "b1_1_intF = b1_1.internal_forces\n",
    "b1_1_intF"
   ]
  },
  {
   "attachments": {},
   "cell_type": "markdown",
   "metadata": {},
   "source": [
    "## 2. Prírastok"
   ]
  },
  {
   "cell_type": "code",
   "execution_count": 29,
   "metadata": {},
   "outputs": [
    {
     "name": "stdout",
     "output_type": "stream",
     "text": [
      "H_2 = 5.67 m\n"
     ]
    }
   ],
   "source": [
    "H_2 = H+displacementVector_1[1][0]\n",
    "print(f'H_2 = {H_2:.2f} m')"
   ]
  },
  {
   "cell_type": "code",
   "execution_count": 30,
   "metadata": {},
   "outputs": [],
   "source": [
    "p1_2 = Point(x=0, y=0, number=1)\n",
    "p2_2 = Point(x=L/2, y=H_2, number=2)\n",
    "p3_2 = Point(x=L, y=0, number=3)"
   ]
  },
  {
   "cell_type": "code",
   "execution_count": 31,
   "metadata": {},
   "outputs": [],
   "source": [
    "b1_2 = Bar(point_a=p1_2, point_b=p2_2, bar_props=barProperties)\n",
    "b2_2 = Bar(point_a=p2_2, point_b=p3_2, bar_props=barProperties)"
   ]
  },
  {
   "cell_type": "code",
   "execution_count": 32,
   "metadata": {},
   "outputs": [],
   "source": [
    "F1 = b1_1.internal_forces[0][0]\n",
    "F2 = (b1_1.bar_props.E*b1_1.bar_props.A/(b1_2.len))*(b1_2.len-b1_1.len)\n",
    "b1_2.F = [F1, F2, 0]\n",
    "b2_2.F = [F1, F2, 0]"
   ]
  },
  {
   "cell_type": "code",
   "execution_count": 33,
   "metadata": {},
   "outputs": [
    {
     "data": {
      "text/plain": [
       "array([[ 1640.15787259,   304.92876863, -1640.15787259,  -304.92876863],\n",
       "       [  304.92876863,    84.82285815,  -304.92876863,   -84.82285815],\n",
       "       [-1640.15787259,  -304.92876863,  1640.15787259,   304.92876863],\n",
       "       [ -304.92876863,   -84.82285815,   304.92876863,    84.82285815]])"
      ]
     },
     "execution_count": 33,
     "metadata": {},
     "output_type": "execute_result"
    }
   ],
   "source": [
    "b1_2.stiffnessMatrix_GSS"
   ]
  },
  {
   "cell_type": "code",
   "execution_count": 34,
   "metadata": {},
   "outputs": [
    {
     "data": {
      "text/plain": [
       "array([[ 1640.16,   304.93, -1640.16,  -304.93,     0.  ,     0.  ],\n",
       "       [  304.93,    84.82,  -304.93,   -84.82,     0.  ,     0.  ],\n",
       "       [-1640.16,  -304.93,  3280.32,     0.  , -1640.16,   304.93],\n",
       "       [ -304.93,   -84.82,     0.  ,   169.65,   304.93,   -84.82],\n",
       "       [    0.  ,     0.  , -1640.16,   304.93,  1640.16,  -304.93],\n",
       "       [    0.  ,     0.  ,   304.93,   -84.82,  -304.93,    84.82]])"
      ]
     },
     "execution_count": 34,
     "metadata": {},
     "output_type": "execute_result"
    }
   ],
   "source": [
    "stiffnessMatrix = totalStiffnessMatrix_GSS([b1_2, b2_2])\n",
    "stiffnessMatrix"
   ]
  },
  {
   "cell_type": "code",
   "execution_count": 35,
   "metadata": {},
   "outputs": [
    {
     "data": {
      "text/plain": [
       "array([[0.        ],\n",
       "       [0.58944887]])"
      ]
     },
     "execution_count": 35,
     "metadata": {},
     "output_type": "execute_result"
    }
   ],
   "source": [
    "displacementVector_2 = displacementVector(stiffnessMatrix, loadVector)\n",
    "displacementVector_2"
   ]
  },
  {
   "cell_type": "code",
   "execution_count": 36,
   "metadata": {},
   "outputs": [],
   "source": [
    "b1_2.points_displacements_setter(point_a=np.array([[0], [0]]), point_b=displacementVector_2)\n",
    "b2_2.points_displacements_setter(point_a=displacementVector_2, point_b=np.array([[0], [0]]))"
   ]
  },
  {
   "cell_type": "code",
   "execution_count": 37,
   "metadata": {},
   "outputs": [
    {
     "data": {
      "text/plain": [
       "array([[-564.23672923],\n",
       "       [ -15.74068515],\n",
       "       [ 564.23672923],\n",
       "       [  15.74068515]])"
      ]
     },
     "execution_count": 37,
     "metadata": {},
     "output_type": "execute_result"
    }
   ],
   "source": [
    "b1_2_intF = b1_2.internal_forces + b1_1_intF\n",
    "b1_2_intF"
   ]
  },
  {
   "attachments": {},
   "cell_type": "markdown",
   "metadata": {},
   "source": [
    "## 3. Prírastok"
   ]
  },
  {
   "cell_type": "code",
   "execution_count": 38,
   "metadata": {},
   "outputs": [
    {
     "name": "stdout",
     "output_type": "stream",
     "text": [
      "H_3 = 6.26 m\n"
     ]
    }
   ],
   "source": [
    "H_3 = H + displacementVector_1[1][0] + displacementVector_2[1][0]\n",
    "print(f'H_3 = {H_3:.2f} m')"
   ]
  },
  {
   "cell_type": "code",
   "execution_count": 39,
   "metadata": {},
   "outputs": [],
   "source": [
    "p1_3 = Point(x=0, y=0, number=1)\n",
    "p2_3 = Point(x=L/2, y=H_3, number=2)\n",
    "p3_3 = Point(x=L, y=0, number=3)"
   ]
  },
  {
   "cell_type": "code",
   "execution_count": 40,
   "metadata": {},
   "outputs": [],
   "source": [
    "b1_3 = Bar(point_a=p1_3, point_b=p2_3, bar_props=barProperties)\n",
    "b2_3 = Bar(point_a=p2_3, point_b=p3_3, bar_props=barProperties)"
   ]
  },
  {
   "cell_type": "code",
   "execution_count": 41,
   "metadata": {},
   "outputs": [],
   "source": [
    "F1 = F1\n",
    "F2 = F2\n",
    "F3 = (b1_3.bar_props.E*b1_3.bar_props.A/(b1_3.len))*(b1_3.len-b1_2.len)\n",
    "b1_3.F = [F1, F2, F3]\n",
    "b2_3.F = [F1, F2, F3]"
   ]
  },
  {
   "cell_type": "code",
   "execution_count": 42,
   "metadata": {},
   "outputs": [
    {
     "data": {
      "text/plain": [
       "array([[ 1622.23581252,   331.57789236, -1622.23581252,  -331.57789236],\n",
       "       [  331.57789236,   102.61907182,  -331.57789236,  -102.61907182],\n",
       "       [-1622.23581252,  -331.57789236,  1622.23581252,   331.57789236],\n",
       "       [ -331.57789236,  -102.61907182,   331.57789236,   102.61907182]])"
      ]
     },
     "execution_count": 42,
     "metadata": {},
     "output_type": "execute_result"
    }
   ],
   "source": [
    "b1_3.stiffnessMatrix_GSS"
   ]
  },
  {
   "cell_type": "code",
   "execution_count": 43,
   "metadata": {},
   "outputs": [
    {
     "data": {
      "text/plain": [
       "array([[ 1622.24,   331.58, -1622.24,  -331.58,     0.  ,     0.  ],\n",
       "       [  331.58,   102.62,  -331.58,  -102.62,     0.  ,     0.  ],\n",
       "       [-1622.24,  -331.58,  3244.47,     0.  , -1622.24,   331.58],\n",
       "       [ -331.58,  -102.62,     0.  ,   205.24,   331.58,  -102.62],\n",
       "       [    0.  ,     0.  , -1622.24,   331.58,  1622.24,  -331.58],\n",
       "       [    0.  ,     0.  ,   331.58,  -102.62,  -331.58,   102.62]])"
      ]
     },
     "execution_count": 43,
     "metadata": {},
     "output_type": "execute_result"
    }
   ],
   "source": [
    "stiffnessMatrix = totalStiffnessMatrix_GSS([b1_3, b2_3])\n",
    "stiffnessMatrix"
   ]
  },
  {
   "cell_type": "code",
   "execution_count": 44,
   "metadata": {},
   "outputs": [
    {
     "data": {
      "text/plain": [
       "array([[0.        ],\n",
       "       [0.48723446]])"
      ]
     },
     "execution_count": 44,
     "metadata": {},
     "output_type": "execute_result"
    }
   ],
   "source": [
    "displacementVector_3 = displacementVector(stiffnessMatrix, loadVector)\n",
    "displacementVector_3"
   ]
  },
  {
   "cell_type": "code",
   "execution_count": 45,
   "metadata": {},
   "outputs": [],
   "source": [
    "b1_3.points_displacements_setter(point_a=np.array([[0], [0]]), point_b=displacementVector_3)\n",
    "b2_3.points_displacements_setter(point_a=displacementVector_3, point_b=np.array([[0], [0]]))"
   ]
  },
  {
   "cell_type": "code",
   "execution_count": 46,
   "metadata": {},
   "outputs": [
    {
     "data": {
      "text/plain": [
       "array([[-732.60021666],\n",
       "       [ -31.68083469],\n",
       "       [ 732.60021666],\n",
       "       [  31.68083469]])"
      ]
     },
     "execution_count": 46,
     "metadata": {},
     "output_type": "execute_result"
    }
   ],
   "source": [
    "b1_3_intF = b1_3.internal_forces + b1_2_intF\n",
    "b1_3_intF"
   ]
  },
  {
   "attachments": {},
   "cell_type": "markdown",
   "metadata": {},
   "source": [
    "## Vnútorné sily na prúte 1"
   ]
  },
  {
   "cell_type": "code",
   "execution_count": 47,
   "metadata": {},
   "outputs": [
    {
     "data": {
      "text/html": [
       "<div>\n",
       "<style scoped>\n",
       "    .dataframe tbody tr th:only-of-type {\n",
       "        vertical-align: middle;\n",
       "    }\n",
       "\n",
       "    .dataframe tbody tr th {\n",
       "        vertical-align: top;\n",
       "    }\n",
       "\n",
       "    .dataframe thead th {\n",
       "        text-align: right;\n",
       "    }\n",
       "</style>\n",
       "<table border=\"1\" class=\"dataframe\">\n",
       "  <thead>\n",
       "    <tr style=\"text-align: right;\">\n",
       "      <th></th>\n",
       "      <th>1.prirastok</th>\n",
       "      <th>2.prirastok</th>\n",
       "      <th>3.prirastok</th>\n",
       "    </tr>\n",
       "  </thead>\n",
       "  <tbody>\n",
       "    <tr>\n",
       "      <th>0</th>\n",
       "      <td>-3.7834e+02</td>\n",
       "      <td>-564.2367</td>\n",
       "      <td>-732.6002</td>\n",
       "    </tr>\n",
       "    <tr>\n",
       "      <th>1</th>\n",
       "      <td>7.1054e-15</td>\n",
       "      <td>-15.7407</td>\n",
       "      <td>-31.6808</td>\n",
       "    </tr>\n",
       "    <tr>\n",
       "      <th>2</th>\n",
       "      <td>3.7834e+02</td>\n",
       "      <td>564.2367</td>\n",
       "      <td>732.6002</td>\n",
       "    </tr>\n",
       "    <tr>\n",
       "      <th>3</th>\n",
       "      <td>-7.1054e-15</td>\n",
       "      <td>15.7407</td>\n",
       "      <td>31.6808</td>\n",
       "    </tr>\n",
       "  </tbody>\n",
       "</table>\n",
       "</div>"
      ],
      "text/plain": [
       "   1.prirastok  2.prirastok  3.prirastok\n",
       "0  -3.7834e+02    -564.2367    -732.6002\n",
       "1   7.1054e-15     -15.7407     -31.6808\n",
       "2   3.7834e+02     564.2367     732.6002\n",
       "3  -7.1054e-15      15.7407      31.6808"
      ]
     },
     "execution_count": 47,
     "metadata": {},
     "output_type": "execute_result"
    }
   ],
   "source": [
    "f_dict = {\n",
    "    '1.prirastok' : b1_1_intF.flatten(),\n",
    "    '2.prirastok' : b1_2_intF.flatten(),\n",
    "    '3.prirastok' : b1_3_intF.flatten(),\n",
    "}\n",
    "pd.DataFrame(f_dict)"
   ]
  },
  {
   "attachments": {},
   "cell_type": "markdown",
   "metadata": {},
   "source": [
    "## Deformácie v bode 2"
   ]
  },
  {
   "cell_type": "code",
   "execution_count": 48,
   "metadata": {},
   "outputs": [
    {
     "data": {
      "text/html": [
       "<div>\n",
       "<style scoped>\n",
       "    .dataframe tbody tr th:only-of-type {\n",
       "        vertical-align: middle;\n",
       "    }\n",
       "\n",
       "    .dataframe tbody tr th {\n",
       "        vertical-align: top;\n",
       "    }\n",
       "\n",
       "    .dataframe thead th {\n",
       "        text-align: right;\n",
       "    }\n",
       "</style>\n",
       "<table border=\"1\" class=\"dataframe\">\n",
       "  <thead>\n",
       "    <tr style=\"text-align: right;\">\n",
       "      <th></th>\n",
       "      <th>1.prirastok</th>\n",
       "      <th>2.prirastok</th>\n",
       "      <th>3.prirastok</th>\n",
       "    </tr>\n",
       "  </thead>\n",
       "  <tbody>\n",
       "    <tr>\n",
       "      <th>u</th>\n",
       "      <td>0.0000</td>\n",
       "      <td>0.0000</td>\n",
       "      <td>0.0000</td>\n",
       "    </tr>\n",
       "    <tr>\n",
       "      <th>v</th>\n",
       "      <td>1.6714</td>\n",
       "      <td>0.5894</td>\n",
       "      <td>0.4872</td>\n",
       "    </tr>\n",
       "  </tbody>\n",
       "</table>\n",
       "</div>"
      ],
      "text/plain": [
       "   1.prirastok  2.prirastok  3.prirastok\n",
       "u       0.0000       0.0000       0.0000\n",
       "v       1.6714       0.5894       0.4872"
      ]
     },
     "execution_count": 48,
     "metadata": {},
     "output_type": "execute_result"
    }
   ],
   "source": [
    "d_dict = {\n",
    "    '1.prirastok' : displacementVector_1.flatten(),\n",
    "    '2.prirastok' : displacementVector_2.flatten(),\n",
    "    '3.prirastok' : displacementVector_3.flatten(),\n",
    "}\n",
    "parseMatrixRows(pd.DataFrame(d_dict), ['u', 'v'])"
   ]
  },
  {
   "attachments": {},
   "cell_type": "markdown",
   "metadata": {},
   "source": [
    "# Normálové sily z dlubalu"
   ]
  },
  {
   "attachments": {},
   "cell_type": "markdown",
   "metadata": {},
   "source": [
    "N - po prvom prírastku\n",
    "---\n",
    "![N](..\\assets\\Z3\\N_1.png)\n",
    "---\n",
    "N - po druhom prírastku\n",
    "---\n",
    "![N](..\\assets\\Z3\\N_2.png)\n",
    "---\n",
    "N - po treťom prírastku\n",
    "---\n",
    "![N](..\\assets\\Z3\\N_3.png)"
   ]
  },
  {
   "attachments": {},
   "cell_type": "markdown",
   "metadata": {},
   "source": [
    "# Zvislé deformácie z dlubalu"
   ]
  },
  {
   "attachments": {},
   "cell_type": "markdown",
   "metadata": {},
   "source": [
    "v - po prvom prírastku\n",
    "---\n",
    "![N](..\\assets\\Z3\\v_1.png)\n",
    "---\n",
    "v - po druhom prírastku\n",
    "---\n",
    "![N](..\\assets\\Z3\\v_2.png)\n",
    "---\n",
    "v - po treťom prírastku\n",
    "---\n",
    "![N](..\\assets\\Z3\\v_3.png)"
   ]
  }
 ],
 "metadata": {
  "kernelspec": {
   "display_name": "Python 3.8.8 ('base')",
   "language": "python",
   "name": "python3"
  },
  "language_info": {
   "codemirror_mode": {
    "name": "ipython",
    "version": 3
   },
   "file_extension": ".py",
   "mimetype": "text/x-python",
   "name": "python",
   "nbconvert_exporter": "python",
   "pygments_lexer": "ipython3",
   "version": "3.8.8 (default, Apr 13 2021, 15:08:03) [MSC v.1916 64 bit (AMD64)]"
  },
  "orig_nbformat": 4,
  "vscode": {
   "interpreter": {
    "hash": "75918162d800b4b0afe9003a3a21e108f30b56a8709e9e92681416565459cfc0"
   }
  }
 },
 "nbformat": 4,
 "nbformat_minor": 2
}
