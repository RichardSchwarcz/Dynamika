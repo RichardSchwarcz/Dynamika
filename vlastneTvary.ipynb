{
 "cells": [
  {
   "cell_type": "code",
   "execution_count": 1,
   "metadata": {},
   "outputs": [],
   "source": [
    "import numpy as np\n",
    "import pandas as pd\n",
    "\n",
    "pd.set_option(\"display.precision\", 4)\n",
    "\n",
    "import warnings\n",
    "warnings.filterwarnings(\"ignore\")"
   ]
  },
  {
   "cell_type": "code",
   "execution_count": 2,
   "metadata": {},
   "outputs": [],
   "source": [
    "hmoty = 4 # pocet hmot\n",
    "tvar = 1 # vypocet pre tvar\n",
    "M = 1500 # kg"
   ]
  },
  {
   "cell_type": "code",
   "execution_count": 3,
   "metadata": {},
   "outputs": [],
   "source": [
    "delta11 = 0.30367329\n",
    "delta12 = 0.19217220\n",
    "delta13 = 0.09490424\n",
    "delta14 = 0.02610248\n",
    "delta21 = 0.19217220\n",
    "delta22 = 0.12812319\n",
    "delta23 = 0.06643804\n",
    "delta24 = 0.01898592\n",
    "delta31 = 0.09490424\n",
    "delta32 = 0.06643804\n",
    "delta33 = 0.03797184\n",
    "delta34 = 0.01186937\n",
    "delta41 = 0.02610248\n",
    "delta42 = 0.01898592\n",
    "delta43 = 0.01186937\n",
    "delta44 = 0.00475282"
   ]
  },
  {
   "cell_type": "code",
   "execution_count": 4,
   "metadata": {},
   "outputs": [
    {
     "data": {
      "text/plain": [
       "array([[0.30367329, 0.1921722 , 0.09490424, 0.02610248],\n",
       "       [0.1921722 , 0.12812319, 0.06643804, 0.01898592],\n",
       "       [0.09490424, 0.06643804, 0.03797184, 0.01186937],\n",
       "       [0.02610248, 0.01898592, 0.01186937, 0.00475282]])"
      ]
     },
     "execution_count": 4,
     "metadata": {},
     "output_type": "execute_result"
    }
   ],
   "source": [
    "delta = np.array([\n",
    "    [delta11, delta12, delta13, delta14],\n",
    "    [delta21, delta22, delta23, delta24],\n",
    "    [delta31, delta32, delta33, delta34],\n",
    "    [delta41, delta42, delta43, delta44]])\n",
    "delta"
   ]
  },
  {
   "cell_type": "code",
   "execution_count": 5,
   "metadata": {},
   "outputs": [],
   "source": [
    "def delta_inv(delta):\n",
    "    return np.linalg.inv(delta)"
   ]
  },
  {
   "cell_type": "code",
   "execution_count": 6,
   "metadata": {},
   "outputs": [
    {
     "data": {
      "text/plain": [
       "array([[ 112.70242071, -255.55984283,  181.56949452,  -51.52508671],\n",
       "       [-255.55984283,  692.68626882, -670.21480744,  310.2341621 ],\n",
       "       [ 181.56949452, -670.21480744, 1002.90384938, -824.4802549 ],\n",
       "       [ -51.52508671,  310.2341621 , -824.4802549 , 1313.09680685]])"
      ]
     },
     "execution_count": 6,
     "metadata": {},
     "output_type": "execute_result"
    }
   ],
   "source": [
    "delta_inv_ = delta_inv(delta)\n",
    "delta_inv_"
   ]
  },
  {
   "cell_type": "code",
   "execution_count": 7,
   "metadata": {},
   "outputs": [
    {
     "data": {
      "text/plain": [
       "array([[2.16655965e+00, 0.00000000e+00, 0.00000000e+00, 0.00000000e+00],\n",
       "       [0.00000000e+00, 8.98501754e+01, 0.00000000e+00, 0.00000000e+00],\n",
       "       [0.00000000e+00, 0.00000000e+00, 7.15250120e+02, 0.00000000e+00],\n",
       "       [0.00000000e+00, 0.00000000e+00, 0.00000000e+00, 2.31412249e+03]])"
      ]
     },
     "execution_count": 7,
     "metadata": {},
     "output_type": "execute_result"
    }
   ],
   "source": [
    "x = np.linalg.eig(delta_inv_) # eigenvalues and eigenvectors of delta_inv\n",
    "z = x[0] # eigenvalues\n",
    "reoder = [z[2], z[3], z[1], z[0]] # reorder eigenvalues\n",
    "L = np.diag(reoder) # diagonal matrix of eigenvalues\n",
    "L"
   ]
  },
  {
   "cell_type": "code",
   "execution_count": 8,
   "metadata": {},
   "outputs": [
    {
     "data": {
      "text/plain": [
       "array([[1500,    0,    0,    0],\n",
       "       [   0, 1500,    0,    0],\n",
       "       [   0,    0, 1500,    0],\n",
       "       [   0,    0,    0, 1500]])"
      ]
     },
     "execution_count": 8,
     "metadata": {},
     "output_type": "execute_result"
    }
   ],
   "source": [
    "mm = np.diag([M, M, M, M])\n",
    "mm"
   ]
  },
  {
   "cell_type": "code",
   "execution_count": 9,
   "metadata": {},
   "outputs": [
    {
     "data": {
      "text/plain": [
       "array([[0.03800491, 0.        , 0.        , 0.        ],\n",
       "       [0.        , 0.244745  , 0.        , 0.        ],\n",
       "       [0.        , 0.        , 0.69053125, 0.        ],\n",
       "       [0.        , 0.        , 0.        , 1.2420742 ]])"
      ]
     },
     "execution_count": 9,
     "metadata": {},
     "output_type": "execute_result"
    }
   ],
   "source": [
    "omega = np.nan_to_num(np.sqrt(L/mm))\n",
    "omega"
   ]
  },
  {
   "cell_type": "code",
   "execution_count": 10,
   "metadata": {},
   "outputs": [],
   "source": [
    "V0k = np.zeros((hmoty, hmoty-1))"
   ]
  },
  {
   "cell_type": "code",
   "execution_count": 11,
   "metadata": {},
   "outputs": [
    {
     "data": {
      "text/plain": [
       "array([[0.03800491, 0.        , 0.        , 0.        ],\n",
       "       [0.        , 0.03800491, 0.        , 0.        ],\n",
       "       [0.        , 0.        , 0.03800491, 0.        ],\n",
       "       [0.        , 0.        , 0.        , 0.03800491]])"
      ]
     },
     "execution_count": 11,
     "metadata": {},
     "output_type": "execute_result"
    }
   ],
   "source": [
    "# diag matrix of hmoty * omega\n",
    "p4 = np.eye(hmoty) * omega[tvar-1, tvar-1]\n",
    "p4"
   ]
  },
  {
   "cell_type": "code",
   "execution_count": 12,
   "metadata": {},
   "outputs": [
    {
     "data": {
      "text/plain": [
       "array([[ 110.53586107, -255.55984283,  181.56949452,  -51.52508671],\n",
       "       [-255.55984283,  690.51970917, -670.21480744,  310.2341621 ],\n",
       "       [ 181.56949452, -670.21480744, 1000.73728973, -824.4802549 ],\n",
       "       [ -51.52508671,  310.2341621 , -824.4802549 , 1310.9302472 ]])"
      ]
     },
     "execution_count": 12,
     "metadata": {},
     "output_type": "execute_result"
    }
   ],
   "source": [
    "p5 = delta_inv_ - mm * p4**2\n",
    "p5"
   ]
  },
  {
   "cell_type": "code",
   "execution_count": 14,
   "metadata": {},
   "outputs": [],
   "source": [
    "# drop first row and first column\n",
    "A = p5[1:hmoty, 1:hmoty]\n",
    "# get first column and drop first row\n",
    "B = p5[1:hmoty, 0:1]"
   ]
  },
  {
   "cell_type": "code",
   "execution_count": 15,
   "metadata": {},
   "outputs": [
    {
     "data": {
      "text/plain": [
       "array([1.        , 0.6469836 , 0.32811761, 0.09255654])"
      ]
     },
     "execution_count": 15,
     "metadata": {},
     "output_type": "execute_result"
    }
   ],
   "source": [
    "S = np.linalg.solve(A, B)*-1 # -1 lebo som prehodil posledny stlpec na druhu stranu rovnice\n",
    "S = np.insert(S,0,1)\n",
    "S"
   ]
  },
  {
   "cell_type": "code",
   "execution_count": 18,
   "metadata": {},
   "outputs": [
    {
     "data": {
      "text/plain": [
       "array([[1.        , 0.        , 0.        ],\n",
       "       [0.6469836 , 0.        , 0.        ],\n",
       "       [0.32811761, 0.        , 0.        ],\n",
       "       [0.09255654, 0.        , 0.        ]])"
      ]
     },
     "execution_count": 18,
     "metadata": {},
     "output_type": "execute_result"
    }
   ],
   "source": [
    "# insert S to V0k\n",
    "V0k[:, 0] = S\n",
    "V0k"
   ]
  },
  {
   "cell_type": "code",
   "execution_count": 19,
   "metadata": {},
   "outputs": [
    {
     "data": {
      "text/plain": [
       "0.020841369806031143"
      ]
     },
     "execution_count": 19,
     "metadata": {},
     "output_type": "execute_result"
    }
   ],
   "source": [
    "# dot product of V0k transposed, mm and V0k\n",
    "q0 = 1/np.sqrt(np.dot(np.dot(V0k.T, mm),V0k))[tvar-1 ,tvar-1]\n",
    "q0"
   ]
  },
  {
   "cell_type": "code",
   "execution_count": 24,
   "metadata": {},
   "outputs": [
    {
     "name": "stdout",
     "output_type": "stream",
     "text": [
      "vlastny tvar 1 [20.84136981 13.48402444  6.83842055  1.92900506]\n"
     ]
    }
   ],
   "source": [
    "V0 = q0*S*10**3\n",
    "print(f'vlastny tvar {tvar} {V0}')"
   ]
  }
 ],
 "metadata": {
  "kernelspec": {
   "display_name": "Python 3.8.8 ('base')",
   "language": "python",
   "name": "python3"
  },
  "language_info": {
   "codemirror_mode": {
    "name": "ipython",
    "version": 3
   },
   "file_extension": ".py",
   "mimetype": "text/x-python",
   "name": "python",
   "nbconvert_exporter": "python",
   "pygments_lexer": "ipython3",
   "version": "3.8.8"
  },
  "orig_nbformat": 4,
  "vscode": {
   "interpreter": {
    "hash": "75918162d800b4b0afe9003a3a21e108f30b56a8709e9e92681416565459cfc0"
   }
  }
 },
 "nbformat": 4,
 "nbformat_minor": 2
}
