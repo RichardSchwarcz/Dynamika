{
 "cells": [
  {
   "cell_type": "code",
   "execution_count": 1,
   "metadata": {},
   "outputs": [],
   "source": [
    "import numpy as np\n",
    "import pandas as pd\n",
    "\n",
    "pd.set_option(\"display.precision\", 4)\n",
    "\n",
    "from modules.Z3.model import * "
   ]
  },
  {
   "cell_type": "code",
   "execution_count": 2,
   "metadata": {},
   "outputs": [],
   "source": [
    "FI = 300 # mm\n",
    "TW = 10 # mm\n",
    "H = 50 # m\n",
    "M = 1000 # kg\n",
    "q = 1.5\n",
    "ag = 0.63\n",
    "vl_tvary = 3\n",
    "hmoty = 4"
   ]
  },
  {
   "cell_type": "markdown",
   "metadata": {},
   "source": [
    "Lokalita - Bratislava\\\n",
    "Podlozie - C\\\n",
    "Spektrum - 2"
   ]
  },
  {
   "cell_type": "code",
   "execution_count": 3,
   "metadata": {},
   "outputs": [],
   "source": [
    "# jednotkova sila posobiaca v bode 2\n",
    "F_2 = [32365.2,     # bod 2\n",
    "       80861.9,     # bod 3\n",
    "       129359.0,    # bod 4\n",
    "       177855.0     # bod 5\n",
    "       ]\n",
    "# jednotkova sila posobiaca v bode 3\n",
    "F_3 = [80861.9,\n",
    "       258717.0,\n",
    "       452704.0,\n",
    "       646691.0,\n",
    "       ]\n",
    "# jednotkova sila posobiaca v bode 4\n",
    "F_4 = [129359.0,\n",
    "       452704.0,\n",
    "       873043.0,\n",
    "       1309510.0,\n",
    "       ]\n",
    "# jednotkova sila posobiaca v bode 5\n",
    "F_5 = [177855.0,\n",
    "       646691.0,\n",
    "       1309510.0,\n",
    "       2069330.0,\n",
    "       ]"
   ]
  },
  {
   "cell_type": "code",
   "execution_count": 4,
   "metadata": {},
   "outputs": [],
   "source": [
    "# frekvencie\n",
    "f = [0.071, #1 tvar\n",
    "     0.436, #2 tvar\n",
    "     1.200] #3 tvar\n"
   ]
  },
  {
   "cell_type": "code",
   "execution_count": 5,
   "metadata": {},
   "outputs": [
    {
     "name": "stdout",
     "output_type": "stream",
     "text": [
      "Perioda pre vlastny tvar 1: 14.0845 s\n",
      "Perioda pre vlastny tvar 2: 2.2936 s\n",
      "Perioda pre vlastny tvar 3: 0.8333 s\n"
     ]
    }
   ],
   "source": [
    "T = []\n",
    "i = 0\n",
    "for frekvencia in f:\n",
    "    i += 1\n",
    "    perioda = (1/frekvencia)\n",
    "    print(f\"Perioda pre vlastny tvar {i}: {perioda:.4f} s\")\n",
    "    T.append(perioda)\n"
   ]
  },
  {
   "cell_type": "code",
   "execution_count": 7,
   "metadata": {},
   "outputs": [],
   "source": [
    "def ux(F):\n",
    "    # reverse list\n",
    "    F_x = np.array([F])\n",
    "    F_x_flipped = np.flip(F_x, axis=1)\n",
    "    return F_x_flipped.flatten()\n"
   ]
  },
  {
   "cell_type": "code",
   "execution_count": 8,
   "metadata": {},
   "outputs": [],
   "source": [
    "V0 = [F_2, F_3, F_4, F_5]"
   ]
  },
  {
   "cell_type": "code",
   "execution_count": 9,
   "metadata": {},
   "outputs": [],
   "source": [
    "V00 = []\n",
    "for i in V0:\n",
    "    V00.append(ux(i))"
   ]
  },
  {
   "cell_type": "code",
   "execution_count": 10,
   "metadata": {},
   "outputs": [
    {
     "data": {
      "text/plain": [
       "[array([177855. , 129359. ,  80861.9,  32365.2]),\n",
       " array([646691. , 452704. , 258717. ,  80861.9]),\n",
       " array([1309510.,  873043.,  452704.,  129359.]),\n",
       " array([2069330., 1309510.,  646691.,  177855.])]"
      ]
     },
     "execution_count": 10,
     "metadata": {},
     "output_type": "execute_result"
    }
   ],
   "source": [
    "V00"
   ]
  },
  {
   "cell_type": "code",
   "execution_count": 11,
   "metadata": {},
   "outputs": [],
   "source": [
    "F_5 = ux(F_5)\n",
    "F_4 = ux(F_4)\n",
    "F_3 = ux(F_3)\n",
    "F_2 = ux(F_2)"
   ]
  },
  {
   "cell_type": "code",
   "execution_count": 12,
   "metadata": {},
   "outputs": [
    {
     "data": {
      "text/html": [
       "<div>\n",
       "<style scoped>\n",
       "    .dataframe tbody tr th:only-of-type {\n",
       "        vertical-align: middle;\n",
       "    }\n",
       "\n",
       "    .dataframe tbody tr th {\n",
       "        vertical-align: top;\n",
       "    }\n",
       "\n",
       "    .dataframe thead th {\n",
       "        text-align: right;\n",
       "    }\n",
       "</style>\n",
       "<table border=\"1\" class=\"dataframe\">\n",
       "  <thead>\n",
       "    <tr style=\"text-align: right;\">\n",
       "      <th></th>\n",
       "      <th>F_2</th>\n",
       "      <th>F_3</th>\n",
       "      <th>F_4</th>\n",
       "      <th>F_5</th>\n",
       "    </tr>\n",
       "  </thead>\n",
       "  <tbody>\n",
       "    <tr>\n",
       "      <th>0</th>\n",
       "      <td>0.0207</td>\n",
       "      <td>0.0131</td>\n",
       "      <td>0.0065</td>\n",
       "      <td>0.0018</td>\n",
       "    </tr>\n",
       "    <tr>\n",
       "      <th>1</th>\n",
       "      <td>0.0131</td>\n",
       "      <td>0.0087</td>\n",
       "      <td>0.0045</td>\n",
       "      <td>0.0013</td>\n",
       "    </tr>\n",
       "    <tr>\n",
       "      <th>2</th>\n",
       "      <td>0.0065</td>\n",
       "      <td>0.0045</td>\n",
       "      <td>0.0026</td>\n",
       "      <td>0.0008</td>\n",
       "    </tr>\n",
       "    <tr>\n",
       "      <th>3</th>\n",
       "      <td>0.0018</td>\n",
       "      <td>0.0013</td>\n",
       "      <td>0.0008</td>\n",
       "      <td>0.0003</td>\n",
       "    </tr>\n",
       "  </tbody>\n",
       "</table>\n",
       "</div>"
      ],
      "text/plain": [
       "      F_2     F_3     F_4     F_5\n",
       "0  0.0207  0.0131  0.0065  0.0018\n",
       "1  0.0131  0.0087  0.0045  0.0013\n",
       "2  0.0065  0.0045  0.0026  0.0008\n",
       "3  0.0018  0.0013  0.0008  0.0003"
      ]
     },
     "execution_count": 12,
     "metadata": {},
     "output_type": "execute_result"
    }
   ],
   "source": [
    "delta = pd.DataFrame([F_5, F_4, F_3, F_2], columns=[\"F_2\", \"F_3\", \"F_4\", \"F_5\"])/(10**8)\n",
    "delta"
   ]
  },
  {
   "cell_type": "markdown",
   "metadata": {},
   "source": [
    "spektrum pruznej odozvy"
   ]
  },
  {
   "cell_type": "code",
   "execution_count": 13,
   "metadata": {},
   "outputs": [],
   "source": [
    "def spektrum_parametre_2(podlozie):\n",
    "    if podlozie == \"A\":\n",
    "        S = 1\n",
    "        T_B = 0.05\n",
    "        T_C = 0.25\n",
    "        T_D = 1.2\n",
    "\n",
    "    if podlozie == \"B\":\n",
    "        S = 1.35\n",
    "        T_B = 0.05\n",
    "        T_C = 0.25\n",
    "        T_D = 1.2\n",
    "    \n",
    "    if podlozie == \"C\":\n",
    "        S = 1.5\n",
    "        T_B = 0.1\n",
    "        T_C = 0.25\n",
    "        T_D = 1.2\n",
    "\n",
    "    if podlozie == \"D\":\n",
    "        S = 1.8\n",
    "        T_B = 0.1\n",
    "        T_C = 0.3\n",
    "        T_D = 1.2\n",
    "\n",
    "    if podlozie == \"E\":\n",
    "        S = 1.6\n",
    "        T_B = 0.05\n",
    "        T_C = 0.25\n",
    "        T_D = 1.2\n",
    "\n",
    "    parametre_podlozia = {\n",
    "        \"S\" : S,\n",
    "        \"T_B\": T_B,\n",
    "        \"T_C\": T_C,\n",
    "        \"T_D\": T_D,\n",
    "    }\n",
    "\n",
    "    return parametre_podlozia\n"
   ]
  },
  {
   "cell_type": "code",
   "execution_count": 14,
   "metadata": {},
   "outputs": [],
   "source": [
    "def matica_hmotnosti(m):\n",
    "    np.diag([m, m, m, m])"
   ]
  },
  {
   "cell_type": "code",
   "execution_count": 15,
   "metadata": {},
   "outputs": [],
   "source": [
    "def sd(parametre, T0, ag, q):\n",
    "    # navrhove spektrum sd\n",
    "    S = parametre[\"S\"]\n",
    "    T_B = parametre[\"T_B\"]\n",
    "    T_C = parametre[\"T_C\"]\n",
    "    T_D = parametre[\"T_D\"]\n",
    "\n",
    "    beta = 0.2 # narodna priloha smie stanovit hodnotu beta. Doporucena hodnota je 0.2\n",
    "\n",
    "    if 0 <= T0 < T_B:\n",
    "        sd = ag*S*(2/3+T0/T_B*(2.5/q-2/3))\n",
    "    elif T_B <= T0 < T_C:\n",
    "        sd = ag*S*(2.5/q)\n",
    "    elif T_C <= T0 < T_D:\n",
    "        sd = ag*S*2.5/q*(T_C/T0)\n",
    "        if sd < ag*beta:\n",
    "            sd = ag*beta\n",
    "    elif T_D <= T0:\n",
    "        sd = ag*S*2.5/q*(T_C*T_D/T0**2)\n",
    "        if sd < ag*beta:\n",
    "            sd = ag*beta\n",
    "    print(f\"sd = {sd}\")\n",
    "    return sd    \n"
   ]
  },
  {
   "cell_type": "code",
   "execution_count": 16,
   "metadata": {},
   "outputs": [
    {
     "name": "stdout",
     "output_type": "stream",
     "text": [
      "sd = 0.126\n",
      "sd = 0.126\n",
      "sd = 0.4726890756302522\n"
     ]
    }
   ],
   "source": [
    "Sd_1 = sd(spektrum_parametre_2(\"C\"), T0=T_1, ag=ag, q=q)\n",
    "Sd_2 = sd(spektrum_parametre_2(\"C\"), T0=T_2, ag=ag, q=q)\n",
    "Sd_3 = sd(spektrum_parametre_2(\"C\"), T0=T_3, ag=ag, q=q)"
   ]
  },
  {
   "cell_type": "code",
   "execution_count": 17,
   "metadata": {},
   "outputs": [],
   "source": [
    "M_tot = 3*M\n",
    "lambda_ = 1 # !Preco??"
   ]
  },
  {
   "cell_type": "markdown",
   "metadata": {},
   "source": [
    "celkova smykova sila pri zaklade"
   ]
  },
  {
   "cell_type": "code",
   "execution_count": 18,
   "metadata": {},
   "outputs": [],
   "source": [
    "def Fb(M_tot, lambda_, sd):\n",
    "    Fb =  M_tot*lambda_*sd\n",
    "    print(f\"Fb = {Fb}\")\n",
    "    return Fb"
   ]
  },
  {
   "cell_type": "code",
   "execution_count": 19,
   "metadata": {},
   "outputs": [
    {
     "name": "stdout",
     "output_type": "stream",
     "text": [
      "Fb = 378.0\n",
      "Fb = 378.0\n",
      "Fb = 1418.0672268907565\n"
     ]
    }
   ],
   "source": [
    "FB_1 = Fb(M_tot, lambda_, Sd_1)\n",
    "FB_2 = Fb(M_tot, lambda_, Sd_2)\n",
    "FB_3 = Fb(M_tot, lambda_, Sd_3)"
   ]
  },
  {
   "cell_type": "markdown",
   "metadata": {},
   "source": [
    "vysledne sily"
   ]
  },
  {
   "cell_type": "code",
   "execution_count": 20,
   "metadata": {},
   "outputs": [],
   "source": [
    "def Si(delta, M, index):\n",
    "    # index je index riadku v matici delta\n",
    "    Si = delta.iloc[[index]].T*M\n",
    "    print(f\"Si \\n {Si}\")\n",
    "    print(\"---\")\n",
    "    return Si"
   ]
  },
  {
   "cell_type": "code",
   "execution_count": 21,
   "metadata": {},
   "outputs": [
    {
     "name": "stdout",
     "output_type": "stream",
     "text": [
      "Si \n",
      "            0\n",
      "F_2  20.6933\n",
      "F_3  13.0951\n",
      "F_4   6.4669\n",
      "F_5   1.7786\n",
      "---\n",
      "Si \n",
      "            1\n",
      "F_2  13.0951\n",
      "F_3   8.7304\n",
      "F_4   4.5270\n",
      "F_5   1.2936\n",
      "---\n",
      "Si \n",
      "           2\n",
      "F_2  6.4669\n",
      "F_3  4.5270\n",
      "F_4  2.5872\n",
      "F_5  0.8086\n",
      "---\n"
     ]
    }
   ],
   "source": [
    "S_1 = Si(delta, M, 0)\n",
    "S_2 = Si(delta, M, 1)\n",
    "S_3 = Si(delta, M, 2)"
   ]
  },
  {
   "cell_type": "code",
   "execution_count": 22,
   "metadata": {},
   "outputs": [],
   "source": [
    "def Fi(Si_, Fb_, M):\n",
    "    Si_tot = Si_.sum()\n",
    "    Fi =  Fb_ * (Si_*M)/(Si_tot * M)\n",
    "    print(f\"Fi \\n {Fi}\")\n",
    "    print(\"---\")\n",
    "    return Fi\n"
   ]
  },
  {
   "cell_type": "code",
   "execution_count": 23,
   "metadata": {},
   "outputs": [
    {
     "name": "stdout",
     "output_type": "stream",
     "text": [
      "Fi \n",
      "             0\n",
      "F_2  186.0897\n",
      "F_3  117.7610\n",
      "F_4   58.1553\n",
      "F_5   15.9941\n",
      "---\n",
      "Fi \n",
      "             1\n",
      "F_2  179.0465\n",
      "F_3  119.3693\n",
      "F_4   61.8972\n",
      "F_5   17.6870\n",
      "---\n",
      "Fi \n",
      "             2\n",
      "F_2  637.2953\n",
      "F_3  446.1267\n",
      "F_4  254.9581\n",
      "F_5   79.6871\n",
      "---\n"
     ]
    }
   ],
   "source": [
    "Fi_1 = Fi(S_1, FB_1, M)\n",
    "Fi_2 = Fi(S_2, FB_2, M)\n",
    "Fi_3 = Fi(S_3, FB_3, M)"
   ]
  },
  {
   "cell_type": "code",
   "execution_count": 24,
   "metadata": {},
   "outputs": [],
   "source": [
    "def H_vector(H):\n",
    "    H_vect =  np.array([[H/4], [2*H/4], [3*H/4], [H]])\n",
    "    return H_vect"
   ]
  },
  {
   "cell_type": "code",
   "execution_count": 25,
   "metadata": {},
   "outputs": [],
   "source": [
    "def Moment(Fi_, H_vector):\n",
    "    M = Fi_.values*H_vector\n",
    "    print(f\"Moment [kN*m]\\n {M}\")\n",
    "    print(\"---\")\n",
    "    return pd.DataFrame(M)"
   ]
  },
  {
   "cell_type": "code",
   "execution_count": 26,
   "metadata": {},
   "outputs": [
    {
     "name": "stdout",
     "output_type": "stream",
     "text": [
      "Moment [kN*m]\n",
      " [[2326.12095344]\n",
      " [2944.02405584]\n",
      " [2180.82396549]\n",
      " [ 799.70278723]]\n",
      "---\n",
      "Moment [kN*m]\n",
      " [[2238.08107527]\n",
      " [2984.23229483]\n",
      " [2321.14666196]\n",
      " [ 884.3488933 ]]\n",
      "---\n",
      "Moment [kN*m]\n",
      " [[ 7966.19133454]\n",
      " [11153.16799496]\n",
      " [ 9560.92998124]\n",
      " [ 3984.35337479]]\n",
      "---\n"
     ]
    }
   ],
   "source": [
    "M_1 = Moment(Fi_1, H_vector(H))\n",
    "M_2 = Moment(Fi_2, H_vector(H))\n",
    "M_3 = Moment(Fi_3, H_vector(H))"
   ]
  },
  {
   "cell_type": "code",
   "execution_count": null,
   "metadata": {},
   "outputs": [],
   "source": []
  }
 ],
 "metadata": {
  "kernelspec": {
   "display_name": "Python 3.8.8 ('base')",
   "language": "python",
   "name": "python3"
  },
  "language_info": {
   "codemirror_mode": {
    "name": "ipython",
    "version": 3
   },
   "file_extension": ".py",
   "mimetype": "text/x-python",
   "name": "python",
   "nbconvert_exporter": "python",
   "pygments_lexer": "ipython3",
   "version": "3.8.8"
  },
  "orig_nbformat": 4,
  "vscode": {
   "interpreter": {
    "hash": "75918162d800b4b0afe9003a3a21e108f30b56a8709e9e92681416565459cfc0"
   }
  }
 },
 "nbformat": 4,
 "nbformat_minor": 2
}
